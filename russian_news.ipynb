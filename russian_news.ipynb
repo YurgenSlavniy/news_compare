{
 "cells": [
  {
   "cell_type": "markdown",
   "id": "82a42be7",
   "metadata": {},
   "source": [
    "# Cоставить список информационных агенств России\n",
    "\n",
    "1) РИА Новости https://ria.ru/\n",
    "\n",
    "2) Интерфакс https://www.interfax.ru/\n",
    "\n",
    "3) REGNUM https://regnum.ru/\n",
    "\n",
    "4) ТАСС https://tass.ru/\n",
    "\n",
    "..."
   ]
  },
  {
   "cell_type": "markdown",
   "id": "4102386c",
   "metadata": {},
   "source": [
    "### РИА Новости `https://ria.ru/`\n"
   ]
  },
  {
   "cell_type": "code",
   "execution_count": 58,
   "id": "83437db1",
   "metadata": {},
   "outputs": [],
   "source": [
    "from lxml import html\n",
    "import requests\n",
    "from pprint import pprint\n",
    "\n",
    "url_ria = 'https://ria.ru/'\n",
    "headers = {'User Agent':'Mozilla/5.0 (Windows NT 10.0; Win64; x64) AppleWebKit/537.36 (KHTML, like Gecko) Chrome/109.0.0.0 Safari/537.36'}\n",
    "\n",
    "response = requests.get(url_ria, headers=headers)\n",
    "\n",
    "dom_ria = html.fromstring(response.text)\n",
    "\n",
    "news_ria = dom_ria.xpath(\"//span[@class='cell-list__item-title']/text()\")"
   ]
  },
  {
   "cell_type": "code",
   "execution_count": 59,
   "id": "06030dbc",
   "metadata": {},
   "outputs": [
    {
     "data": {
      "text/plain": [
       "<Response [200]>"
      ]
     },
     "execution_count": 59,
     "metadata": {},
     "output_type": "execute_result"
    }
   ],
   "source": [
    "response"
   ]
  },
  {
   "cell_type": "code",
   "execution_count": 61,
   "id": "bd44833e",
   "metadata": {},
   "outputs": [
    {
     "data": {
      "text/plain": [
       "29"
      ]
     },
     "execution_count": 61,
     "metadata": {},
     "output_type": "execute_result"
    }
   ],
   "source": [
    "len(news_ria)"
   ]
  },
  {
   "cell_type": "code",
   "execution_count": 112,
   "id": "50a67cce",
   "metadata": {},
   "outputs": [
    {
     "data": {
      "text/plain": [
       "['В Киеве, Харькове, Кривом Роге и Львове прогремели взрывы ',\n",
       " 'Суд приговорил экс-губернатора Хабаровского края Фургала к 22 годам колонии ',\n",
       " 'В офисе Зеленского заявили, что у Украины почти не осталось боеприпасов ',\n",
       " 'Китай потребовал от США объяснений после расследования Херша о взрывах на \"Северных потоках\" ',\n",
       " 'ЦБ сохранил ключевую ставку на уровне 7,5 процента годовых ']"
      ]
     },
     "execution_count": 112,
     "metadata": {},
     "output_type": "execute_result"
    }
   ],
   "source": [
    "news_ria[:5]"
   ]
  },
  {
   "cell_type": "code",
   "execution_count": null,
   "id": "717723da",
   "metadata": {},
   "outputs": [],
   "source": []
  },
  {
   "cell_type": "markdown",
   "id": "32a142fc",
   "metadata": {},
   "source": [
    "### REGNUM `https://regnum.ru/`"
   ]
  },
  {
   "cell_type": "code",
   "execution_count": 81,
   "id": "f501567f",
   "metadata": {},
   "outputs": [],
   "source": [
    "from lxml import html\n",
    "import requests\n",
    "from pprint import pprint\n",
    "\n",
    "url_regnum = 'https://regnum.ru/'\n",
    "headers = {'User Agent':'Mozilla/5.0 (Windows NT 10.0; Win64; x64) AppleWebKit/537.36 (KHTML, like Gecko) Chrome/109.0.0.0 Safari/537.36'}\n",
    "\n",
    "response_regnum = requests.get(url_regnum , headers=headers)\n",
    "\n",
    "dom_regnum = html.fromstring(response_regnum.text)\n",
    "\n",
    "news_regnum = dom_regnum.xpath(\"//span[@class='article-title']/text()\")\n"
   ]
  },
  {
   "cell_type": "code",
   "execution_count": 82,
   "id": "903174e6",
   "metadata": {},
   "outputs": [
    {
     "data": {
      "text/plain": [
       "<Response [200]>"
      ]
     },
     "execution_count": 82,
     "metadata": {},
     "output_type": "execute_result"
    }
   ],
   "source": [
    "response"
   ]
  },
  {
   "cell_type": "code",
   "execution_count": 102,
   "id": "df8655ae",
   "metadata": {},
   "outputs": [
    {
     "data": {
      "text/plain": [
       "106"
      ]
     },
     "execution_count": 102,
     "metadata": {},
     "output_type": "execute_result"
    }
   ],
   "source": [
    "len(clear_news_list)"
   ]
  },
  {
   "cell_type": "code",
   "execution_count": 99,
   "id": "916f527c",
   "metadata": {},
   "outputs": [],
   "source": [
    "clear_news_list = []\n",
    "\n",
    "for el in news_regnum:\n",
    "    new_el = el.replace('\\n', '')\n",
    "    if new_el != '                        ' and new_el != '                                        ':\n",
    "        clear_news_list.append(new_el)\n",
    "    else:\n",
    "        continue\n",
    "        "
   ]
  },
  {
   "cell_type": "code",
   "execution_count": 103,
   "id": "6e2dda38",
   "metadata": {},
   "outputs": [
    {
     "data": {
      "text/plain": [
       "['Большое наступление — все новости о спецоперации на Украине: день 352-й                    ',\n",
       " 'Песков назвал дату оглашения послания президента РФ Федеральному собранию                    ',\n",
       " 'Лавров: призывы расчленить Россию звучат всё громче и громче                    ',\n",
       " 'Суд приговорил экс-главу Хабаровского края Фургала к 22 годам колонии                    ',\n",
       " 'Губернатор Брянской области сообщил об обстреле ВСУ Суземского района                    ']"
      ]
     },
     "execution_count": 103,
     "metadata": {},
     "output_type": "execute_result"
    }
   ],
   "source": [
    "clear_news_list[:5]"
   ]
  },
  {
   "cell_type": "markdown",
   "id": "fde175c8",
   "metadata": {},
   "source": [
    "### Интерфакс `https://www.interfax.ru/`"
   ]
  },
  {
   "cell_type": "markdown",
   "id": "65f109d3",
   "metadata": {},
   "source": [
    "Определяю точку входа. https://www.interfax.ru/"
   ]
  },
  {
   "cell_type": "code",
   "execution_count": 113,
   "id": "d8c30af1",
   "metadata": {},
   "outputs": [],
   "source": [
    "from lxml import html\n",
    "import requests\n",
    "from pprint import pprint\n",
    "\n",
    "url_interfax = 'https://www.interfax.ru/'\n",
    "headers = {'User Agent':'Mozilla/5.0 (Windows NT 10.0; Win64; x64) AppleWebKit/537.36 (KHTML, like Gecko) Chrome/109.0.0.0 Safari/537.36'}\n",
    "\n",
    "response_interfax = requests.get(url_interfax , headers=headers)\n",
    "\n",
    "dom_interfax = html.fromstring(response_interfax.text)\n",
    "\n",
    "news_interfax = dom_interfax.xpath(\"//h3/text()\")\n",
    "\n"
   ]
  },
  {
   "cell_type": "code",
   "execution_count": 114,
   "id": "358c1c3c",
   "metadata": {},
   "outputs": [
    {
     "data": {
      "text/plain": [
       "66"
      ]
     },
     "execution_count": 114,
     "metadata": {},
     "output_type": "execute_result"
    }
   ],
   "source": [
    "len(news_interfax)"
   ]
  },
  {
   "cell_type": "code",
   "execution_count": 115,
   "id": "3c3289e2",
   "metadata": {},
   "outputs": [
    {
     "data": {
      "text/plain": [
       "['Суд приговорил экс-губернатора Фургала к 22 годам колонии по делу об убийствах',\n",
       " 'Банк России третий раз подряд сохранил ключевую ставку на уровне 7,5%',\n",
       " 'Врио главы Федеральной таможенной службы стал Руслан Давыдов',\n",
       " 'Путин 21 февраля обратится с Посланием к Федеральному Собранию',\n",
       " 'РФ в марте добровольно сократит добычу нефти на 500 тыс. баррелей в сутки']"
      ]
     },
     "execution_count": 115,
     "metadata": {},
     "output_type": "execute_result"
    }
   ],
   "source": [
    "news_interfax[:5]"
   ]
  },
  {
   "cell_type": "code",
   "execution_count": null,
   "id": "ebbd6a28",
   "metadata": {},
   "outputs": [],
   "source": []
  },
  {
   "cell_type": "markdown",
   "id": "1f2cca72",
   "metadata": {},
   "source": [
    "### ТАСС `https://tass.ru/`"
   ]
  },
  {
   "cell_type": "code",
   "execution_count": 118,
   "id": "c62c1c7c",
   "metadata": {},
   "outputs": [],
   "source": [
    "from lxml import html\n",
    "import requests\n",
    "from pprint import pprint\n",
    "\n",
    "url_tass = 'https://tass.ru/'\n",
    "headers = {'User Agent':'Mozilla/5.0 (Windows NT 10.0; Win64; x64) AppleWebKit/537.36 (KHTML, like Gecko) Chrome/109.0.0.0 Safari/537.36'}\n",
    "\n",
    "response_tass = requests.get(url_tass , headers=headers)\n",
    "\n",
    "dom_tass = html.fromstring(response_tass.text)\n",
    "\n",
    "news_tass = dom_tass.xpath(\"//span[contains(@class, 'ds_ext_title')]/text()\")\n",
    "\n"
   ]
  },
  {
   "cell_type": "code",
   "execution_count": 106,
   "id": "9f8715fa",
   "metadata": {},
   "outputs": [
    {
     "data": {
      "text/plain": [
       "<Response [200]>"
      ]
     },
     "execution_count": 106,
     "metadata": {},
     "output_type": "execute_result"
    }
   ],
   "source": [
    "response_tass"
   ]
  },
  {
   "cell_type": "code",
   "execution_count": 108,
   "id": "675b819f",
   "metadata": {},
   "outputs": [],
   "source": [
    "clear_news_tass = []\n",
    "for el in news_tass:\n",
    "    clear_news_tass.append(el.replace('\\xa0', ''))"
   ]
  },
  {
   "cell_type": "code",
   "execution_count": 119,
   "id": "161d2ea0",
   "metadata": {},
   "outputs": [
    {
     "data": {
      "text/plain": [
       "67"
      ]
     },
     "execution_count": 119,
     "metadata": {},
     "output_type": "execute_result"
    }
   ],
   "source": [
    "len(clear_news_tass)"
   ]
  },
  {
   "cell_type": "code",
   "execution_count": 121,
   "id": "65cad9d1",
   "metadata": {},
   "outputs": [
    {
     "data": {
      "text/plain": [
       "['Путин огласит послание Федеральному собранию 21 февраля',\n",
       " 'Правительство Молдавии уходит в отставку',\n",
       " 'Сергея Фургала приговорили к 22 годам колонии',\n",
       " 'Захарова назвала бесчеловечными заявления о невозможности помощи Сирии из-за санкций',\n",
       " 'Россия продолжит помогать Турции после землетрясения']"
      ]
     },
     "execution_count": 121,
     "metadata": {},
     "output_type": "execute_result"
    }
   ],
   "source": [
    "clear_news_tass[4:9]"
   ]
  },
  {
   "cell_type": "code",
   "execution_count": null,
   "id": "17031b66",
   "metadata": {},
   "outputs": [],
   "source": []
  },
  {
   "cell_type": "code",
   "execution_count": null,
   "id": "57fa1bf2",
   "metadata": {},
   "outputs": [],
   "source": []
  },
  {
   "cell_type": "markdown",
   "id": "7973fa5c",
   "metadata": {},
   "source": [
    "### Список URLS"
   ]
  },
  {
   "cell_type": "code",
   "execution_count": 65,
   "id": "9929cb44",
   "metadata": {},
   "outputs": [],
   "source": [
    "agregators_links = ['https://news.mail.ru/', 'https://dzen.ru/news/', 'https://news.rambler.ru/']\n",
    "agregators_links_arg = ['https://news.mail.ru/?utm_source=vsesmi_online', 'https://dzen.ru/news/?issue_tld=ru&utm_source=vsesmi_online', 'https://news.rambler.ru/?utm_source=vsesmi_online']"
   ]
  },
  {
   "cell_type": "code",
   "execution_count": 66,
   "id": "a9ed980e",
   "metadata": {},
   "outputs": [],
   "source": [
    "info_links = ['https://ria.ru/', 'https://regnum.ru/', 'https://tass.ru/', 'https://www.rosbalt.ru/', 'https://www.interfax.ru/']\n",
    "info_links_args = ['https://ria.ru/?utm_source=vsesmi_online',\n",
    "                   'https://regnum.ru/?utm_source=vsesmi_online',\n",
    "                   'https://tass.ru/?utm_source=vsesmi_online',\n",
    "                   'https://www.rosbalt.ru/?utm_source=vsesmi_online']"
   ]
  },
  {
   "cell_type": "markdown",
   "id": "928d5fce",
   "metadata": {},
   "source": [
    "Не пускает на некоторые сайты, вылетает ошибка, поэтому закомментировал такие урлы"
   ]
  },
  {
   "cell_type": "code",
   "execution_count": 67,
   "id": "45dd4186",
   "metadata": {},
   "outputs": [],
   "source": [
    "internet_smi = ['https://www.rbc.ru/',\n",
    "               'https://lenta.ru/',\n",
    "               'https://www.vedomosti.ru/',\n",
    "               'https://www.kommersant.ru/',\n",
    "               'https://www.kp.ru/',\n",
    "               'https://www.gazeta.ru/',\n",
    "               'https://russian.rt.com/',\n",
    "             #  'https://www.newsru.com/',\n",
    "               'https://www.vesti.ru/',\n",
    "               'https://aif.ru/',\n",
    "               'https://www.pravda.ru/',\n",
    "               'https://svpressa.ru/',\n",
    "             #  'https://echo.msk.ru/',\n",
    "               'https://iz.ru/',\n",
    "              # 'https://tvrain.ru/',\n",
    "              # 'https://novayagazeta.ru/',\n",
    "               'https://vz.ru/',\n",
    "               'https://rg.ru/',\n",
    "               'https://www.ng.ru/',\n",
    "               'https://www.eg.ru/',\n",
    "               'https://life.ru/']"
   ]
  },
  {
   "cell_type": "code",
   "execution_count": 68,
   "id": "80690051",
   "metadata": {},
   "outputs": [],
   "source": [
    "albania_news = {'https://www.gazetaexpress.com/',\n",
    "               'https://top-channel.tv/',\n",
    "               'https://www.gazetatema.net/',\n",
    "               'https://shqiptarja.com/home',\n",
    "               'https://www.balkanweb.com/',\n",
    "               'http://www.panorama.com.al/',\n",
    "               'https://tvklan.al/',\n",
    "               'https://opinion.al/',\n",
    "               'https://albeu.com/',\n",
    "               'https://www.noa.al/',\n",
    "               'https://kohajone.com/'}"
   ]
  },
  {
   "cell_type": "markdown",
   "id": "7fd7cf88",
   "metadata": {},
   "source": [
    "Проверяем какой ответ придёт от урла на гет запрос. Если ответ 200 можно поработать с этим СМИ и попробовать собрать данные "
   ]
  },
  {
   "cell_type": "code",
   "execution_count": 69,
   "id": "f7ea34f6",
   "metadata": {},
   "outputs": [],
   "source": [
    "from lxml import html\n",
    "import requests\n",
    "from pprint import pprint\n",
    "\n",
    "headers = {'User Agent':'Mozilla/5.0 (Windows NT 10.0; Win64; x64) AppleWebKit/537.36 (KHTML, like Gecko) Chrome/109.0.0.0 Safari/537.36'}\n",
    "\n",
    "def response(urls, params):\n",
    "    for url in urls:\n",
    "        response = requests.get(url, headers=params)\n",
    "        print(f'ссылка: {url} - ответ: {response}')\n",
    "        "
   ]
  },
  {
   "cell_type": "code",
   "execution_count": 70,
   "id": "5e6a2dfa",
   "metadata": {},
   "outputs": [
    {
     "name": "stdout",
     "output_type": "stream",
     "text": [
      "ссылка: https://news.mail.ru/ - ответ: <Response [400]>\n",
      "ссылка: https://dzen.ru/news/ - ответ: <Response [400]>\n",
      "ссылка: https://news.rambler.ru/ - ответ: <Response [400]>\n"
     ]
    }
   ],
   "source": [
    "response(agregators_links, headers)"
   ]
  },
  {
   "cell_type": "code",
   "execution_count": 21,
   "id": "c37fcf39",
   "metadata": {},
   "outputs": [
    {
     "name": "stdout",
     "output_type": "stream",
     "text": [
      "ссылка: https://ria.ru/ - ответ: <Response [200]>\n",
      "ссылка: https://regnum.ru/ - ответ: <Response [200]>\n",
      "ссылка: https://tass.ru/ - ответ: <Response [200]>\n",
      "ссылка: https://www.rosbalt.ru/ - ответ: <Response [400]>\n",
      "ссылка: https://www.interfax.ru/ - ответ: <Response [200]>\n"
     ]
    }
   ],
   "source": [
    "response(info_links, headers)"
   ]
  },
  {
   "cell_type": "code",
   "execution_count": 41,
   "id": "27e5b9b7",
   "metadata": {},
   "outputs": [
    {
     "name": "stdout",
     "output_type": "stream",
     "text": [
      "ссылка: https://www.gazetatema.net/ - ответ: <Response [403]>\n",
      "ссылка: http://www.panorama.com.al/ - ответ: <Response [200]>\n",
      "ссылка: https://shqiptarja.com/home - ответ: <Response [200]>\n",
      "ссылка: https://top-channel.tv/ - ответ: <Response [503]>\n",
      "ссылка: https://albeu.com/ - ответ: <Response [200]>\n",
      "ссылка: https://kohajone.com/ - ответ: <Response [200]>\n",
      "ссылка: https://www.noa.al/ - ответ: <Response [200]>\n",
      "ссылка: https://opinion.al/ - ответ: <Response [200]>\n",
      "ссылка: https://tvklan.al/ - ответ: <Response [200]>\n",
      "ссылка: https://www.balkanweb.com/ - ответ: <Response [200]>\n",
      "ссылка: https://www.gazetaexpress.com/ - ответ: <Response [200]>\n"
     ]
    }
   ],
   "source": [
    "response(albania_news, headers)"
   ]
  },
  {
   "cell_type": "code",
   "execution_count": 42,
   "id": "8ee1170c",
   "metadata": {},
   "outputs": [
    {
     "name": "stdout",
     "output_type": "stream",
     "text": [
      "ссылка: https://www.rbc.ru/ - ответ: <Response [200]>\n",
      "ссылка: https://lenta.ru/ - ответ: <Response [400]>\n",
      "ссылка: https://www.vedomosti.ru/ - ответ: <Response [400]>\n",
      "ссылка: https://www.kommersant.ru/ - ответ: <Response [200]>\n",
      "ссылка: https://www.kp.ru/ - ответ: <Response [200]>\n",
      "ссылка: https://www.gazeta.ru/ - ответ: <Response [400]>\n",
      "ссылка: https://russian.rt.com/ - ответ: <Response [200]>\n",
      "ссылка: https://www.vesti.ru/ - ответ: <Response [200]>\n",
      "ссылка: https://aif.ru/ - ответ: <Response [200]>\n",
      "ссылка: https://www.pravda.ru/ - ответ: <Response [200]>\n",
      "ссылка: https://svpressa.ru/ - ответ: <Response [200]>\n",
      "ссылка: https://iz.ru/ - ответ: <Response [403]>\n",
      "ссылка: https://vz.ru/ - ответ: <Response [200]>\n",
      "ссылка: https://rg.ru/ - ответ: <Response [200]>\n",
      "ссылка: https://www.ng.ru/ - ответ: <Response [200]>\n",
      "ссылка: https://www.eg.ru/ - ответ: <Response [400]>\n",
      "ссылка: https://life.ru/ - ответ: <Response [400]>\n"
     ]
    }
   ],
   "source": [
    "response(internet_smi, headers)"
   ]
  },
  {
   "cell_type": "code",
   "execution_count": 71,
   "id": "efc3bb38",
   "metadata": {},
   "outputs": [
    {
     "name": "stdout",
     "output_type": "stream",
     "text": [
      "Агрегаторы:3\n",
      "Информационные агенства:5\n",
      "Интернет издания:17\n",
      "Албанские:11\n"
     ]
    }
   ],
   "source": [
    "print(f'Агрегаторы:{len(agregators_links)}\\n' \n",
    "      f'Информационные агенства:{len(info_links)}\\n'\n",
    "      f'Интернет издания:{len(internet_smi)}\\n'\n",
    "      f'Албанские:{len(albania_news)}')"
   ]
  },
  {
   "cell_type": "markdown",
   "id": "c0dc5663",
   "metadata": {},
   "source": [
    "# Список информагенств, какой смогу собрать с интернета. Агенство - сайт. И потом пройтись по списку и посмотреть кто из них отдаёт респонс 200."
   ]
  },
  {
   "cell_type": "markdown",
   "id": "ecbc5a7b",
   "metadata": {},
   "source": [
    "### Агрегаторы\n",
    "- Новости Mail.ru  `(https://news.mail.ru/  ?  utm_source=vsesmi_online)`\n",
    "Последние новости - картина дня, политика, экономика и другие события. Фото и видео.\n",
    "\n",
    "- Яндекс.Новости   `(https://dzen.ru/news/  ?  issue_tld=ru&utm_source=vsesmi_online)`\n",
    "Актуальные новости России, регионов и областей, важные и свежие новости дня.\n",
    "\n",
    "- Рамблер / новости  `(https://news.rambler.ru/  ?  utm_source=vsesmi_online)`\n",
    "Новости сегодня: самые свежие и последние новости России и мира\n",
    "\n",
    "### Информационные агентства\n",
    "\n",
    "- РИА Новости `(https://ria.ru/  ?  utm_source=vsesmi_online)`\n",
    "Крупнейшее информационное агентство России. Самая оперативная информация: темы дня, обзоры, анализ. Фото и видео с места событий, инфографика, радиоэфир и подкасты.\n",
    "\n",
    "- REGNUM `(https://regnum.ru/  ?  utm_source=vsesmi_online)`\n",
    "Федеральное информационное агентство, распространяющее новости России и ближайшего зарубежья от собственных корреспондентов, дочерних агентств и партнеров.\n",
    "\n",
    "- ТАСС `(https://tass.ru/  ?  utm_source=vsesmi_online)`\n",
    "События в России и мире. Аналитические публикации. Материалы пресс-конференций. Видео- и фоторепортажи.\n",
    "\n",
    "- РОСБАЛТ `(https://www.rosbalt.ru/  ?  utm_source=vsesmi_online)`\n",
    "Новостная лента о событиях в российской и мировой экономике, политике, культуре. Мультимедийные проекты. Блоги.\n",
    "\n",
    "- Интерфакс `(https://www.interfax.ru/)`\n",
    "Независимое информационное агентство, одно из трёх ведущих агентств России.\n",
    "\n",
    "### Интернет-издания\n",
    "\n",
    "- РосБизнесКонсалтинг  `(https://www.rbc.ru/  ?  utm_source=vsesmi_online)`\n",
    "Ведущая российская компания, работающая в сферах масс-медиа и информационных технологий. Самые свежие новости, главные темы дня в политике, экономике, бизнесе и жизни. Акции, курсы валют, фондовый и инвестиционный рынок, погода.\n",
    "\n",
    "- Lenta.ru  `(https://lenta.ru/  ?  utm_source=vsesmi_online)`\n",
    "Информация о российских и мировых событиях в режиме реального времени. Новости, статьи, фотографии, видео. Семь дней в неделю, 24 часа в сутки.\n",
    "\n",
    "- Ведомости  `(https://www.vedomosti.ru/  ?  utm_source=vsesmi_online)`\n",
    "Ведущее деловое издание России. Качественный контент о бизнесе, экономике и политике. Актуальные новости, экспертные статьи и аналитика.\n",
    "\n",
    "- Коммерсантъ  `(https://www.kommersant.ru/  ?  utm_source=vsesmi_online)`\n",
    "Актуальные новости, объективный анализ и эксклюзивные комментарии о важнейших событиях и трендах.\n",
    "\n",
    "- Комсомольская Правда  `(https://www.kp.ru/  ?  utm_source=vsesmi_online)`\n",
    "Самые свежие новости России. Ежедневная публикация самой актуальной информации.\n",
    "\n",
    "- Газета.RU  `(https://www.gazeta.ru/)`\n",
    "Главные новости дня из Москвы и регионов, информационная лента новостей, новости России и мира, события дня и последнего часа, аналитика, комментарии, видео.\n",
    "\n",
    "- RT на русском  `(https://russian.rt.com/  ?  utm_source=vsesmi_online)`\n",
    "Актуальная картина дня на RT: круглосуточное ежедневное обновление новостей. Онлайн-репортажи с места событий. Комментарии экспертов, актуальные интервью, фото и видео репортажи.\n",
    "\n",
    "- NEWSru.com  `(https://www.newsru.com/  ?  utm_source=vsesmi_online)`\n",
    "Самые быстрые новости. Фото и видео дня. Лента новостей в России и в мире.\n",
    "\n",
    "- Вести.RU  `(https://www.vesti.ru/)`\n",
    "Служба новостей телеканала Россия. Интервью, репортажи, фото и видео, новости Москвы и регионов России.\n",
    "\n",
    "- Аргументы и факты  `(https://aif.ru/  ?  utm_source=vsesmi_online)`\n",
    "Круглосуточное ежедневное обновление новостей России и мира, репортажи, истории. Темы в формате вопрос-ответ, инфографики, фото и видеоматериалы. Полнотекстовые выпуски газеты, архив номеров.\n",
    "\n",
    "- Правда.Ру  `(https://www.pravda.ru/)`\n",
    "Новости и аналитика - два главных продукта, которые создают сотрудники Правды.Ру с начала 1999 года. Репортажи, интервью, видео по актуальным новостям.\n",
    "\n",
    "- Свободная Пресса  `(https://svpressa.ru/  ?  utm_source=vsesmi_online)`\n",
    "Общественно-политическое интернет-издание. Публикации о событиях в экономике, политике, социальной жизни, культуре, спорте. Лента новостей, фото- и видеорепортажи.\n",
    "\n",
    "- Эхо Москвы  `(https://echo.msk.ru/  ?  utm_source=vsesmi_online)`\n",
    "Сайт Радио Эхо Москвы: новости Москвы, России и мира, аналитика, политика, экономика, расшифровки и mp3 подкасты популярных программ и эфиров.\n",
    "\n",
    "- Известия  `(https://iz.ru/  ?  utm_source=vsesmi_online)`\n",
    "Информационный портал газеты Известия, Ren TV, 5 канала. Последние новости политики, экономики и культуры, новости в мире и стране.\n",
    "\n",
    "- Дождь  `(https://tvrain.ru/  ?  utm_source=vsesmi_online)`\n",
    "Независимый информационный телеканал. Это каждый час новости о том, что происходит на самом деле.\n",
    "\n",
    "- Новая Газета  `(https://novayagazeta.ru/  ?  utm_source=vsesmi_online)`\n",
    "Российская общественно-политическая газета. Новости политической, экономической, общественной, культурной и другой жизни страны и зарубежья.\n",
    "\n",
    "- ВЗГЛЯД.РУ  `(https://vz.ru/  ?  utm_source=vsesmi_online)`\n",
    "Деловая газета. Новости, актуальная информация и аналитические материалы о российской и международной политике, бизнесе и финансах, событиях культуры и спорта.\n",
    "\n",
    "- Российская газета  `(https://rg.ru/  ?  utm_source=vsesmi_online)`\n",
    "Издание Правительства Российской Федерации, официальный публикатор документов.\n",
    "\n",
    "- Независимая газета  `(https://www.ng.ru/  ?  utm_source=vsesmi_online)`\n",
    "Последние новости России и мировые новости. Политика. Экономика. Войны. Культура. Все свежие новости, публикация в реальном времени.\n",
    "\n",
    "- Экспресс газета  `(https://www.eg.ru/  ?  utm_source=vsesmi_online)`\n",
    "Эксклюзивы о жизни звезд и фото светской хроники. Главные новости и события дня в России и мире, в обществе и государстве, в политике и деньгах.\n",
    "\n",
    "- Life.ru  `(https://life.ru/  ?  utm_source=vsesmi_online)`\n",
    "События и новости 24 часа в сутки: эксклюзивные расследования, оригинальные фото и видео.\n",
    "\n",
    "\n",
    "# `Источник: https://vsesmi.online/russia/`"
   ]
  },
  {
   "cell_type": "markdown",
   "id": "9bbed45f",
   "metadata": {},
   "source": [
    "для затравочки: \n",
    "\n",
    "# Главные новостные сайты Албании\n",
    "\n",
    "### Интернет-издания и порталы\n",
    "\n",
    "- Gazeta Express `https://www.gazetaexpress.com/ ? utm_source=vsesmi_online`\n",
    "Новостной портал Республики Косово. Новости политики, спорта и шоу-бизнеса.\n",
    "\n",
    "- Top Channel `https://top-channel.tv/ ? utm_source=vsesmi_online`\n",
    "Албанский коммерческий телеканал. Последние новости каждую минуту.\n",
    "\n",
    "- Gazeta Tema `https://www.gazetatema.net/ ? utm_source=vsesmi_online`\n",
    "Последние новости в мире, комментарии экспертов.\n",
    "\n",
    "- Shqiptarja.com `https://shqiptarja.com/home`\n",
    "Профессиональный и независимый сайт с новостями из Албании и Балкан.\n",
    "\n",
    "- BalkanWeb `https://www.balkanweb.com/ ? utm_source=vsesmi_online`\n",
    "Новостной портал телеканала News 24 (Albania).\n",
    "\n",
    "- Gazeta Panorama `http://www.panorama.com.al/?utm_source=vsesmi_online`\n",
    "Одна из самых продаваемых газет и один из самых посещаемых сайтов Албании.\n",
    "\n",
    "- TV Klan `https://tvklan.al/?utm_source=vsesmi_online`\n",
    "Веб-портал частного телеканала, базирующегося в Тиране.\n",
    "\n",
    "- Opinion.al `https://opinion.al/?utm_source=vsesmi_online`\n",
    "Актуальные новости и события.\n",
    "\n",
    "- Albeu.com `https://albeu.com/?utm_source=vsesmi_online`\n",
    "Последние новости Албании, Косово и Македонии.\n",
    "\n",
    "- NOA `https://www.noa.al/?utm_source=vsesmi_online` \n",
    "Национальное информационное агентство. Новости 24 часа в сутки.\n",
    "\n",
    "- Gazeta Koha Jone `https://kohajone.com/?utm_source=vsesmi_online`\n",
    "Политически независимая ежедневная газета, базирующаяся в Тиране.\n",
    "\n",
    "\n",
    "# Источник: https://vsesmi.online/albaniya/"
   ]
  },
  {
   "cell_type": "code",
   "execution_count": null,
   "id": "04d530e3",
   "metadata": {},
   "outputs": [],
   "source": []
  }
 ],
 "metadata": {
  "kernelspec": {
   "display_name": "Python 3 (ipykernel)",
   "language": "python",
   "name": "python3"
  },
  "language_info": {
   "codemirror_mode": {
    "name": "ipython",
    "version": 3
   },
   "file_extension": ".py",
   "mimetype": "text/x-python",
   "name": "python",
   "nbconvert_exporter": "python",
   "pygments_lexer": "ipython3",
   "version": "3.8.8"
  }
 },
 "nbformat": 4,
 "nbformat_minor": 5
}

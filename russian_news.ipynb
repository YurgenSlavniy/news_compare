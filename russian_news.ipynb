{
 "cells": [
  {
   "cell_type": "markdown",
   "id": "735cc23a",
   "metadata": {},
   "source": [
    "# Cоставить список информационных агенств России\n",
    "\n",
    "1) РИА Новости https://ria.ru/\n",
    "\n",
    "2) Интерфакс https://www.interfax.ru/\n",
    "\n",
    "3) \n",
    "\n",
    "..."
   ]
  },
  {
   "cell_type": "markdown",
   "id": "4c0ebc36",
   "metadata": {},
   "source": [
    "### РИА Новости `https://ria.ru/`\n"
   ]
  },
  {
   "cell_type": "code",
   "execution_count": 17,
   "id": "6cd3411c",
   "metadata": {},
   "outputs": [],
   "source": [
    "from lxml import html\n",
    "import requests\n",
    "from pprint import pprint\n",
    "\n",
    "url_ria = 'https://ria.ru/'\n",
    "headers = {'User Agent':'Mozilla/5.0 (Windows NT 10.0; Win64; x64) AppleWebKit/537.36 (KHTML, like Gecko) Chrome/109.0.0.0 Safari/537.36'}\n",
    "\n",
    "response_ria = requests.get(url_ria, headers=headers)\n",
    "\n",
    "dom_ria = html.fromstring(response_ria.text)\n",
    "\n",
    "news_ria = dom_ria.xpath(\"//span[@class='cell-list__item-title']/text()\")"
   ]
  },
  {
   "cell_type": "code",
   "execution_count": 18,
   "id": "3594139e",
   "metadata": {},
   "outputs": [
    {
     "data": {
      "text/plain": [
       "<Response [200]>"
      ]
     },
     "execution_count": 18,
     "metadata": {},
     "output_type": "execute_result"
    }
   ],
   "source": [
    "response"
   ]
  },
  {
   "cell_type": "code",
   "execution_count": 19,
   "id": "b42a337b",
   "metadata": {},
   "outputs": [
    {
     "data": {
      "text/plain": [
       "['Число погибших в результате взрыва газа в Новосибирске выросло до 13 ',\n",
       " 'Российские десантники предотвратили прорыв противника в ЛНР ',\n",
       " 'Украине пока не нужны истребители, заявил Макрон ',\n",
       " 'В Харьковской области сообщили о повреждении объектов критической инфраструктуры ',\n",
       " 'Россия и Китай в два раза нарастили долю нацвалют в торговле ',\n",
       " 'Путин рассказал о нештатной ситуации на борту № 1 ',\n",
       " 'СМИ: МИД Нидерландов вызвал посла России из-за дела о крушении MH17 ',\n",
       " 'Украинские СМИ рассказали, сколько стоит откупиться от передовой ',\n",
       " 'Американский журналист Сеймур Херш отказался выступить в Госдуме ',\n",
       " 'Конгрессвумен США отбилась от нападения с помощью кипятка ',\n",
       " 'Польские наемники изнасиловали несовершеннолетнюю девочку, сообщили в николаевском подполье ',\n",
       " 'Ветеран морской разведки США прокомментировал новые данные о диверсии на \"Северных потоках\" ',\n",
       " 'Петербург подарил оборудование донецкому центру переливания крови ',\n",
       " 'Сочинские ученые рассказали о дальнейшей судьбе брошенного медведя ',\n",
       " 'В США рассказали, как Путин изменил мир ',\n",
       " 'Минобороны показало кадры круглосуточных тренировок штурмовых подразделений ',\n",
       " 'Эксперты оценили уровень вредительства от уволенных в промышленности ',\n",
       " 'Макрон может лишить Путина высшего звания ордена Почетного легиона ',\n",
       " 'В Киеве и большинстве областей Украины звучит воздушная тревога ',\n",
       " 'В Крыму призвали западные страны помнить об ударе возмездия ',\n",
       " 'В городе Часов Яр зафиксировали расположение иностранных наемников ',\n",
       " 'Российские ученые разработали новый способ создания композитов для авиации ',\n",
       " 'Москва готова сотрудничать с Западом на своих условиях, предупредил посол России в Гааге ',\n",
       " 'Онколог оценил вероятность рака из-за коронавируса ',\n",
       " 'Минцифры создаст единого мобильного оператора для новых регионов ',\n",
       " 'Миура лидирует после короткой программы на турнире четырех континентов ',\n",
       " 'Посол России в Китае: надеемся на участие атлетов КНР в \"Играх будущего\" ',\n",
       " 'Два литра крови на льду: самое страшное видео в истории хоккея  ',\n",
       " 'Убийство в Тампе: Кучеров, Василевский и Сергачев отомстили своим обидчикам ']"
      ]
     },
     "execution_count": 19,
     "metadata": {},
     "output_type": "execute_result"
    }
   ],
   "source": [
    "news"
   ]
  },
  {
   "cell_type": "code",
   "execution_count": 20,
   "id": "7c868c51",
   "metadata": {},
   "outputs": [
    {
     "data": {
      "text/plain": [
       "29"
      ]
     },
     "execution_count": 20,
     "metadata": {},
     "output_type": "execute_result"
    }
   ],
   "source": [
    "len(news)"
   ]
  },
  {
   "cell_type": "code",
   "execution_count": 21,
   "id": "54c59bc6",
   "metadata": {},
   "outputs": [
    {
     "data": {
      "text/plain": [
       "['Число погибших в результате взрыва газа в Новосибирске выросло до 13 ',\n",
       " 'Российские десантники предотвратили прорыв противника в ЛНР ',\n",
       " 'Украине пока не нужны истребители, заявил Макрон ',\n",
       " 'В Харьковской области сообщили о повреждении объектов критической инфраструктуры ',\n",
       " 'Россия и Китай в два раза нарастили долю нацвалют в торговле ']"
      ]
     },
     "execution_count": 21,
     "metadata": {},
     "output_type": "execute_result"
    }
   ],
   "source": [
    "news[:5]"
   ]
  },
  {
   "cell_type": "markdown",
   "id": "ac210559",
   "metadata": {},
   "source": [
    "### Интерфакс https://www.interfax.ru/"
   ]
  },
  {
   "cell_type": "markdown",
   "id": "b60e251a",
   "metadata": {},
   "source": [
    "Определяю точку входа. https://www.interfax.ru/"
   ]
  },
  {
   "cell_type": "code",
   "execution_count": 29,
   "id": "42606bc0",
   "metadata": {},
   "outputs": [],
   "source": [
    "from lxml import html\n",
    "import requests\n",
    "from pprint import pprint\n",
    "\n",
    "url_interfax = 'https://www.interfax.ru/'\n",
    "headers = {'User Agent':'Mozilla/5.0 (Windows NT 10.0; Win64; x64) AppleWebKit/537.36 (KHTML, like Gecko) Chrome/109.0.0.0 Safari/537.36'}\n",
    "\n",
    "response_interfax = requests.get(url_interfax , headers=headers)\n",
    "\n",
    "dom_interfax = html.fromstring(response_interfax.text)\n",
    "\n",
    "news_interfax = dom_interfax.xpath(\"//h3/text()\")\n",
    "\n"
   ]
  },
  {
   "cell_type": "code",
   "execution_count": 31,
   "id": "cae58e3b",
   "metadata": {},
   "outputs": [
    {
     "data": {
      "text/plain": [
       "['Число жертв в результате землетрясения в Турции и Сирии превысило 20 тысяч человек',\n",
       " 'Взрыв произошел на балконе квартиры в пятиэтажном доме в подмосковном Богородском',\n",
       " 'Группа республиканцев предложила прекратить оказание американской помощи Украине',\n",
       " 'Количество жертв обрушения пятиэтажного дома в Новосибирске достигло 13 человек',\n",
       " 'Аккаунты Трампа в Facebook и Instagram снова функционируют']"
      ]
     },
     "execution_count": 31,
     "metadata": {},
     "output_type": "execute_result"
    }
   ],
   "source": [
    "news_interfax[:5]"
   ]
  },
  {
   "cell_type": "code",
   "execution_count": 32,
   "id": "16ff9b61",
   "metadata": {},
   "outputs": [
    {
     "data": {
      "text/plain": [
       "66"
      ]
     },
     "execution_count": 32,
     "metadata": {},
     "output_type": "execute_result"
    }
   ],
   "source": [
    "len(news_interfax)"
   ]
  },
  {
   "cell_type": "code",
   "execution_count": null,
   "id": "35285475",
   "metadata": {},
   "outputs": [],
   "source": []
  }
 ],
 "metadata": {
  "kernelspec": {
   "display_name": "Python 3 (ipykernel)",
   "language": "python",
   "name": "python3"
  },
  "language_info": {
   "codemirror_mode": {
    "name": "ipython",
    "version": 3
   },
   "file_extension": ".py",
   "mimetype": "text/x-python",
   "name": "python",
   "nbconvert_exporter": "python",
   "pygments_lexer": "ipython3",
   "version": "3.8.8"
  }
 },
 "nbformat": 4,
 "nbformat_minor": 5
}

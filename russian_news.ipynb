{
 "cells": [
  {
   "cell_type": "markdown",
   "id": "82a42be7",
   "metadata": {},
   "source": [
    "# Cоставить список СМИ России\n",
    "\n",
    "1) РИА Новости https://ria.ru/\n",
    "\n",
    "2) Интерфакс https://www.interfax.ru/\n",
    "\n",
    "3) REGNUM https://regnum.ru/\n",
    "\n",
    "4) ТАСС https://tass.ru/\n",
    "\n",
    "5) РocБизнесКонсалтинг https://www.rbc.ru/\n",
    "..."
   ]
  },
  {
   "cell_type": "markdown",
   "id": "9045c481",
   "metadata": {},
   "source": [
    "# ИНФОРМАЦИОННЫЕ АГЕНСТВА (Response 200)"
   ]
  },
  {
   "cell_type": "markdown",
   "id": "4102386c",
   "metadata": {},
   "source": [
    "### РИА Новости `https://ria.ru/`"
   ]
  },
  {
   "cell_type": "code",
   "execution_count": 1,
   "id": "83437db1",
   "metadata": {},
   "outputs": [],
   "source": [
    "from lxml import html\n",
    "import requests\n",
    "from pprint import pprint\n",
    "\n",
    "url_ria = 'https://ria.ru/'\n",
    "headers = {'User Agent':'Mozilla/5.0 (Windows NT 10.0; Win64; x64) AppleWebKit/537.36 (KHTML, like Gecko) Chrome/109.0.0.0 Safari/537.36'}\n",
    "\n",
    "response = requests.get(url_ria, headers=headers)\n",
    "\n",
    "dom_ria = html.fromstring(response.text)\n",
    "\n",
    "news_ria = dom_ria.xpath(\"//span[@class='cell-list__item-title']/text()\")"
   ]
  },
  {
   "cell_type": "code",
   "execution_count": 2,
   "id": "06030dbc",
   "metadata": {},
   "outputs": [
    {
     "data": {
      "text/plain": [
       "<Response [200]>"
      ]
     },
     "execution_count": 2,
     "metadata": {},
     "output_type": "execute_result"
    }
   ],
   "source": [
    "response"
   ]
  },
  {
   "cell_type": "code",
   "execution_count": 3,
   "id": "bd44833e",
   "metadata": {},
   "outputs": [
    {
     "data": {
      "text/plain": [
       "29"
      ]
     },
     "execution_count": 3,
     "metadata": {},
     "output_type": "execute_result"
    }
   ],
   "source": [
    "len(news_ria)"
   ]
  },
  {
   "cell_type": "code",
   "execution_count": 4,
   "id": "50a67cce",
   "metadata": {},
   "outputs": [
    {
     "data": {
      "text/plain": [
       "['НАТО готовится к участию в нескольких высокоинтенсивных конфликтах одновременно, пишут СМИ ',\n",
       " 'Украина заметила воздушные шары над своей территорией ',\n",
       " 'В Берне оцепили центральную площадь ',\n",
       " 'Российские войска ведут бои за село, взятие которого позволит перерезать снабжение ВСУ в Артемовске ',\n",
       " 'Шеф-редактор  Sputnik Литва Касем опубликовал новое обращение из рижской тюрьмы ']"
      ]
     },
     "execution_count": 4,
     "metadata": {},
     "output_type": "execute_result"
    }
   ],
   "source": [
    "news_ria[:5]"
   ]
  },
  {
   "cell_type": "code",
   "execution_count": null,
   "id": "717723da",
   "metadata": {},
   "outputs": [],
   "source": []
  },
  {
   "cell_type": "markdown",
   "id": "32a142fc",
   "metadata": {},
   "source": [
    "### REGNUM `https://regnum.ru/`"
   ]
  },
  {
   "cell_type": "code",
   "execution_count": 17,
   "id": "f501567f",
   "metadata": {},
   "outputs": [],
   "source": [
    "from lxml import html\n",
    "import requests\n",
    "from pprint import pprint\n",
    "\n",
    "url_regnum = 'https://regnum.ru/'\n",
    "headers = {'User Agent':'Mozilla/5.0 (Windows NT 10.0; Win64; x64) AppleWebKit/537.36 (KHTML, like Gecko) Chrome/109.0.0.0 Safari/537.36'}\n",
    "\n",
    "response_regnum = requests.get(url_regnum , headers=headers)\n",
    "\n",
    "dom_regnum = html.fromstring(response_regnum.text)\n",
    "\n",
    "news_regnum = dom_regnum.xpath(\"//span[@class='article-title']/text()\")\n",
    "\n",
    "clear_news_list = []\n",
    "\n",
    "for el in news_regnum:\n",
    "    new_el = el.replace('\\n', '')\n",
    "    if new_el != '                        ' and new_el != '                                        ':\n",
    "        clear_news_list.append(new_el)\n",
    "    else:\n",
    "        continue\n",
    "\n",
    "regnum_news = clear_news_list"
   ]
  },
  {
   "cell_type": "code",
   "execution_count": 18,
   "id": "903174e6",
   "metadata": {},
   "outputs": [
    {
     "data": {
      "text/plain": [
       "<Response [200]>"
      ]
     },
     "execution_count": 18,
     "metadata": {},
     "output_type": "execute_result"
    }
   ],
   "source": [
    "response"
   ]
  },
  {
   "cell_type": "code",
   "execution_count": 20,
   "id": "df8655ae",
   "metadata": {},
   "outputs": [
    {
     "data": {
      "text/plain": [
       "106"
      ]
     },
     "execution_count": 20,
     "metadata": {},
     "output_type": "execute_result"
    }
   ],
   "source": [
    "len(regnum_news)"
   ]
  },
  {
   "cell_type": "code",
   "execution_count": 22,
   "id": "6e2dda38",
   "metadata": {},
   "outputs": [
    {
     "data": {
      "text/plain": [
       "['В США не исключают внеземного происхождения сбитых воздушных объектов                    ',\n",
       " 'Посольство США в Москве вновь призвало своих граждан покинуть Россию                    ',\n",
       " 'В ООН считают, что число погибших при землетрясении достигнет 56 тысяч                    ',\n",
       " 'На Тайване сообщили о фактах пролета над островом десятков аэростатов                    ',\n",
       " 'Берлускони считает Зеленского виновным в кровопролитии на Украине                    ']"
      ]
     },
     "execution_count": 22,
     "metadata": {},
     "output_type": "execute_result"
    }
   ],
   "source": [
    "clear_news_list[1:6]"
   ]
  },
  {
   "cell_type": "code",
   "execution_count": 39,
   "id": "916f527c",
   "metadata": {},
   "outputs": [],
   "source": []
  },
  {
   "cell_type": "markdown",
   "id": "fde175c8",
   "metadata": {},
   "source": [
    "### Интерфакс `https://www.interfax.ru/`"
   ]
  },
  {
   "cell_type": "markdown",
   "id": "65f109d3",
   "metadata": {},
   "source": [
    "Определяю точку входа. https://www.interfax.ru/"
   ]
  },
  {
   "cell_type": "code",
   "execution_count": 23,
   "id": "d8c30af1",
   "metadata": {},
   "outputs": [],
   "source": [
    "from lxml import html\n",
    "import requests\n",
    "from pprint import pprint\n",
    "\n",
    "url_interfax = 'https://www.interfax.ru/'\n",
    "headers = {'User Agent':'Mozilla/5.0 (Windows NT 10.0; Win64; x64) AppleWebKit/537.36 (KHTML, like Gecko) Chrome/109.0.0.0 Safari/537.36'}\n",
    "\n",
    "response_interfax = requests.get(url_interfax , headers=headers)\n",
    "\n",
    "dom_interfax = html.fromstring(response_interfax.text)\n",
    "\n",
    "news_interfax = dom_interfax.xpath(\"//h3/text()\")\n",
    "\n"
   ]
  },
  {
   "cell_type": "code",
   "execution_count": 24,
   "id": "358c1c3c",
   "metadata": {},
   "outputs": [
    {
     "data": {
      "text/plain": [
       "66"
      ]
     },
     "execution_count": 24,
     "metadata": {},
     "output_type": "execute_result"
    }
   ],
   "source": [
    "len(news_interfax)"
   ]
  },
  {
   "cell_type": "code",
   "execution_count": 25,
   "id": "3c3289e2",
   "metadata": {},
   "outputs": [
    {
     "data": {
      "text/plain": [
       "['Американский истребитель сбил очередной летающий объект на границе с Канадой',\n",
       " 'Топ-менеджеры нефтяных компаний России согласовали в правительстве изменения по налогам',\n",
       " 'Пресс-служба Столтенберга сообщила о его намерении покинуть пост генсека НАТО к октябрю',\n",
       " 'Минобороны РФ сообщило об активном наступлении войск ЦВО в зоне спецоперации на Украине',\n",
       " 'Умер режиссер Вадим Абдрашитов']"
      ]
     },
     "execution_count": 25,
     "metadata": {},
     "output_type": "execute_result"
    }
   ],
   "source": [
    "news_interfax[:5]"
   ]
  },
  {
   "cell_type": "code",
   "execution_count": null,
   "id": "ebbd6a28",
   "metadata": {},
   "outputs": [],
   "source": []
  },
  {
   "cell_type": "markdown",
   "id": "1f2cca72",
   "metadata": {},
   "source": [
    "### ТАСС `https://tass.ru/`"
   ]
  },
  {
   "cell_type": "code",
   "execution_count": 29,
   "id": "c62c1c7c",
   "metadata": {},
   "outputs": [],
   "source": [
    "from lxml import html\n",
    "import requests\n",
    "from pprint import pprint\n",
    "\n",
    "url_tass = 'https://tass.ru/'\n",
    "headers = {'User Agent':'Mozilla/5.0 (Windows NT 10.0; Win64; x64) AppleWebKit/537.36 (KHTML, like Gecko) Chrome/109.0.0.0 Safari/537.36'}\n",
    "\n",
    "response_tass = requests.get(url_tass , headers=headers)\n",
    "\n",
    "dom_tass = html.fromstring(response_tass.text)\n",
    "\n",
    "\n",
    "news_tass = dom_tass.xpath(\"//span[contains(@class, 'ds_ext_title')]/text()\")\n",
    "\n",
    "clear_news_tass = []\n",
    "for el in news_tass:\n",
    "    clear_news_tass.append(el.replace('\\xa0', ''))\n",
    "    \n",
    "tass_news = clear_news_tass[4:]"
   ]
  },
  {
   "cell_type": "code",
   "execution_count": 30,
   "id": "161d2ea0",
   "metadata": {},
   "outputs": [
    {
     "data": {
      "text/plain": [
       "63"
      ]
     },
     "execution_count": 30,
     "metadata": {},
     "output_type": "execute_result"
    }
   ],
   "source": [
    "len(tass_news)"
   ]
  },
  {
   "cell_type": "code",
   "execution_count": 31,
   "id": "65cad9d1",
   "metadata": {},
   "outputs": [
    {
     "data": {
      "text/plain": [
       "['Politico узнала, что войдет в новый пакет антироссийских санкций',\n",
       " 'Кадыров сообщил о попытке покушения на командира спецназа \"Ахмат\"',\n",
       " 'В СВР сообщили о вербовке военными США боевиков ИГ для совершения терактов в РФ и СНГ',\n",
       " 'В России заработала система поиска запрещенного контента в сети',\n",
       " 'В Турции из-под завалов спасли человека спустя 160 часов после землетрясения']"
      ]
     },
     "execution_count": 31,
     "metadata": {},
     "output_type": "execute_result"
    }
   ],
   "source": [
    "tass_news[:5]"
   ]
  },
  {
   "cell_type": "markdown",
   "id": "faeb52a3",
   "metadata": {},
   "source": [
    "# ИНТЕРНЕТ ИЗДАНИЯ (Response 200)"
   ]
  },
  {
   "cell_type": "markdown",
   "id": "2f5686ab",
   "metadata": {},
   "source": [
    "### РocБизнесКонсалтинг https://www.rbc.ru/"
   ]
  },
  {
   "cell_type": "code",
   "execution_count": 32,
   "id": "fbe72ae8",
   "metadata": {},
   "outputs": [],
   "source": [
    "from lxml import html\n",
    "import requests\n",
    "from pprint import pprint\n",
    "\n",
    "url_rbk = 'https://www.rbc.ru/'\n",
    "headers = {'User Agent':'Mozilla/5.0 (Windows NT 10.0; Win64; x64) AppleWebKit/537.36 (KHTML, like Gecko) Chrome/109.0.0.0 Safari/537.36'}\n",
    "\n",
    "response_rbk = requests.get(url_rbk , headers=headers)\n",
    "\n",
    "dom_rbk = html.fromstring(response_rbk.text)\n",
    "\n",
    "first_news_rbk = dom_rbk.xpath(\"//span[@class='main__big__title']/text() \")\n",
    "news_rbk = dom_rbk.xpath(\"//span[@class='main__feed__title'] /text()\")\n",
    "\n",
    "all_news_rbk = first_news_rbk\n",
    "for el in news_rbk:\n",
    "    all_news_rbk.append(el)"
   ]
  },
  {
   "cell_type": "code",
   "execution_count": 33,
   "id": "49072783",
   "metadata": {},
   "outputs": [
    {
     "data": {
      "text/plain": [
       "16"
      ]
     },
     "execution_count": 33,
     "metadata": {},
     "output_type": "execute_result"
    }
   ],
   "source": [
    "len(all_news_rbk)"
   ]
  },
  {
   "cell_type": "code",
   "execution_count": 34,
   "id": "945c6a93",
   "metadata": {},
   "outputs": [
    {
     "data": {
      "text/plain": [
       "['Politico узнала о включении Альфа-банка в новый пакет санкций ЕС',\n",
       " 'Кадыров сообщил об отравлении командира «Ахмата» после получения письма',\n",
       " 'Власти предложили разрешить ремонт медтехники неоригинальными запчастями',\n",
       " 'США призвали своих граждан покинуть Россию из-за риска мобилизации',\n",
       " 'Насколько рубль зависит от цен на нефть']"
      ]
     },
     "execution_count": 34,
     "metadata": {},
     "output_type": "execute_result"
    }
   ],
   "source": [
    "all_news_rbk[:5]"
   ]
  },
  {
   "cell_type": "markdown",
   "id": "96b0f69b",
   "metadata": {},
   "source": [
    "### Коммерсантъ https://www.kommersant.ru/"
   ]
  },
  {
   "cell_type": "code",
   "execution_count": 36,
   "id": "af566487",
   "metadata": {},
   "outputs": [],
   "source": [
    "from lxml import html\n",
    "import requests\n",
    "from pprint import pprint\n",
    "\n",
    "url_komersant = 'https://www.kommersant.ru/'\n",
    "headers = {'User Agent':'Mozilla/5.0 (Windows NT 10.0; Win64; x64) AppleWebKit/537.36 (KHTML, like Gecko) Chrome/109.0.0.0 Safari/537.36'}\n",
    "\n",
    "response_komersant = requests.get(url_komersant , headers=headers)\n",
    "\n",
    "dom_komersant = html.fromstring(response_komersant.text)\n",
    "\n",
    "news_komersant = dom_komersant.xpath(\"//a[@class='top_news__link']/text()\") \n",
    "\n",
    "\n",
    "\n"
   ]
  },
  {
   "cell_type": "code",
   "execution_count": 38,
   "id": "7a44fc7e",
   "metadata": {},
   "outputs": [
    {
     "data": {
      "text/plain": [
       "['Что происходит после ввода войск России на Украину. День 355-й',\n",
       " 'МВД поспорило с авиаперевозчиками о числе дебоширов',\n",
       " 'Посольство США снова призвало американцев покинуть Россию',\n",
       " 'Финский концерн EKE избавляется от своего последнего проекта в России',\n",
       " 'Американский генерал ван Херк не исключил внеземное происхождение сбитых воздушных объектов',\n",
       " 'Инвесторы могут задержать запуск проектов зеленой генерации мощностью 3 ГВт ',\n",
       " 'Главные новости к утру 13 февраля',\n",
       " 'РФ за пять лет поставила в Индию оружия на $13 млрд, портфель заказов превышает $10 млрд',\n",
       " 'У дистрибуторов скопилось более 1 млн нереализованных ноутбуков',\n",
       " 'Путешествие по железной дороге в кино и искусстве']"
      ]
     },
     "execution_count": 38,
     "metadata": {},
     "output_type": "execute_result"
    }
   ],
   "source": [
    "len(news_komersant)"
   ]
  },
  {
   "cell_type": "code",
   "execution_count": 39,
   "id": "86d09af5",
   "metadata": {},
   "outputs": [
    {
     "data": {
      "text/plain": [
       "['МВД поспорило с авиаперевозчиками о числе дебоширов',\n",
       " 'Посольство США снова призвало американцев покинуть Россию',\n",
       " 'Финский концерн EKE избавляется от своего последнего проекта в России',\n",
       " 'Американский генерал ван Херк не исключил внеземное происхождение сбитых воздушных объектов',\n",
       " 'Инвесторы могут задержать запуск проектов зеленой генерации мощностью 3 ГВт ']"
      ]
     },
     "execution_count": 39,
     "metadata": {},
     "output_type": "execute_result"
    }
   ],
   "source": [
    "news_komersant[1:6]"
   ]
  },
  {
   "cell_type": "code",
   "execution_count": 108,
   "id": "3b8bce28",
   "metadata": {},
   "outputs": [],
   "source": [
    "komersant_news"
   ]
  },
  {
   "cell_type": "code",
   "execution_count": null,
   "id": "6264e0ba",
   "metadata": {},
   "outputs": [],
   "source": []
  },
  {
   "cell_type": "code",
   "execution_count": null,
   "id": "57fa1bf2",
   "metadata": {},
   "outputs": [],
   "source": []
  },
  {
   "cell_type": "markdown",
   "id": "7973fa5c",
   "metadata": {},
   "source": [
    "### Список URLS"
   ]
  },
  {
   "cell_type": "code",
   "execution_count": 2,
   "id": "9929cb44",
   "metadata": {},
   "outputs": [],
   "source": [
    "agregators_links = ['https://news.mail.ru/', 'https://dzen.ru/news/', 'https://news.rambler.ru/']\n",
    "agregators_links_arg = ['https://news.mail.ru/?utm_source=vsesmi_online', 'https://dzen.ru/news/?issue_tld=ru&utm_source=vsesmi_online', 'https://news.rambler.ru/?utm_source=vsesmi_online']"
   ]
  },
  {
   "cell_type": "code",
   "execution_count": 3,
   "id": "a9ed980e",
   "metadata": {},
   "outputs": [],
   "source": [
    "info_links = ['https://ria.ru/', 'https://regnum.ru/', 'https://tass.ru/', 'https://www.rosbalt.ru/', 'https://www.interfax.ru/']\n",
    "info_links_args = ['https://ria.ru/?utm_source=vsesmi_online',\n",
    "                   'https://regnum.ru/?utm_source=vsesmi_online',\n",
    "                   'https://tass.ru/?utm_source=vsesmi_online',\n",
    "                   'https://www.rosbalt.ru/?utm_source=vsesmi_online']"
   ]
  },
  {
   "cell_type": "markdown",
   "id": "928d5fce",
   "metadata": {},
   "source": [
    "Не пускает на некоторые сайты, вылетает ошибка, поэтому закомментировал такие урлы"
   ]
  },
  {
   "cell_type": "code",
   "execution_count": 4,
   "id": "45dd4186",
   "metadata": {},
   "outputs": [],
   "source": [
    "internet_smi = ['https://www.rbc.ru/',\n",
    "               'https://lenta.ru/',\n",
    "               'https://www.vedomosti.ru/',\n",
    "               'https://www.kommersant.ru/',\n",
    "               'https://www.kp.ru/',\n",
    "               'https://www.gazeta.ru/',\n",
    "               'https://russian.rt.com/',\n",
    "             #  'https://www.newsru.com/',\n",
    "               'https://www.vesti.ru/',\n",
    "               'https://aif.ru/',\n",
    "               'https://www.pravda.ru/',\n",
    "               'https://svpressa.ru/',\n",
    "             #  'https://echo.msk.ru/',\n",
    "               'https://iz.ru/',\n",
    "              # 'https://tvrain.ru/',\n",
    "              # 'https://novayagazeta.ru/',\n",
    "               'https://vz.ru/',\n",
    "               'https://rg.ru/',\n",
    "               'https://www.ng.ru/',\n",
    "               'https://www.eg.ru/',\n",
    "               'https://life.ru/']"
   ]
  },
  {
   "cell_type": "code",
   "execution_count": 5,
   "id": "80690051",
   "metadata": {},
   "outputs": [],
   "source": [
    "albania_news = {'https://www.gazetaexpress.com/',\n",
    "               'https://top-channel.tv/',\n",
    "               'https://www.gazetatema.net/',\n",
    "               'https://shqiptarja.com/home',\n",
    "               'https://www.balkanweb.com/',\n",
    "               'http://www.panorama.com.al/',\n",
    "               'https://tvklan.al/',\n",
    "               'https://opinion.al/',\n",
    "               'https://albeu.com/',\n",
    "               'https://www.noa.al/',\n",
    "               'https://kohajone.com/'}"
   ]
  },
  {
   "cell_type": "markdown",
   "id": "7fd7cf88",
   "metadata": {},
   "source": [
    "Проверяем какой ответ придёт от урла на гет запрос. Если ответ 200 можно поработать с этим СМИ и попробовать собрать данные "
   ]
  },
  {
   "cell_type": "code",
   "execution_count": 1,
   "id": "f7ea34f6",
   "metadata": {},
   "outputs": [],
   "source": [
    "from lxml import html\n",
    "import requests\n",
    "from pprint import pprint\n",
    "\n",
    "headers = {'User Agent':'Mozilla/5.0 (Windows NT 10.0; Win64; x64) AppleWebKit/537.36 (KHTML, like Gecko) Chrome/109.0.0.0 Safari/537.36'}\n",
    "\n",
    "def response(urls, params):\n",
    "    for url in urls:\n",
    "        response = requests.get(url, headers=params)\n",
    "        print(f'ссылка: {url} - ответ: {response}')\n",
    "        "
   ]
  },
  {
   "cell_type": "code",
   "execution_count": 9,
   "id": "5e6a2dfa",
   "metadata": {},
   "outputs": [
    {
     "name": "stdout",
     "output_type": "stream",
     "text": [
      "ссылка: https://news.mail.ru/ - ответ: <Response [400]>\n",
      "ссылка: https://dzen.ru/news/ - ответ: <Response [400]>\n",
      "ссылка: https://news.rambler.ru/ - ответ: <Response [400]>\n"
     ]
    }
   ],
   "source": [
    "response(agregators_links, headers)"
   ]
  },
  {
   "cell_type": "code",
   "execution_count": 10,
   "id": "c37fcf39",
   "metadata": {},
   "outputs": [
    {
     "name": "stdout",
     "output_type": "stream",
     "text": [
      "ссылка: https://ria.ru/ - ответ: <Response [200]>\n",
      "ссылка: https://regnum.ru/ - ответ: <Response [200]>\n",
      "ссылка: https://tass.ru/ - ответ: <Response [200]>\n",
      "ссылка: https://www.rosbalt.ru/ - ответ: <Response [400]>\n",
      "ссылка: https://www.interfax.ru/ - ответ: <Response [200]>\n"
     ]
    }
   ],
   "source": [
    "response(info_links, headers)"
   ]
  },
  {
   "cell_type": "code",
   "execution_count": 14,
   "id": "27e5b9b7",
   "metadata": {},
   "outputs": [
    {
     "name": "stdout",
     "output_type": "stream",
     "text": [
      "ссылка: https://shqiptarja.com/home - ответ: <Response [200]>\n",
      "ссылка: https://www.gazetatema.net/ - ответ: <Response [403]>\n",
      "ссылка: https://tvklan.al/ - ответ: <Response [200]>\n",
      "ссылка: https://kohajone.com/ - ответ: <Response [200]>\n",
      "ссылка: https://albeu.com/ - ответ: <Response [200]>\n",
      "ссылка: http://www.panorama.com.al/ - ответ: <Response [200]>\n",
      "ссылка: https://www.balkanweb.com/ - ответ: <Response [200]>\n",
      "ссылка: https://top-channel.tv/ - ответ: <Response [503]>\n",
      "ссылка: https://www.gazetaexpress.com/ - ответ: <Response [200]>\n",
      "ссылка: https://opinion.al/ - ответ: <Response [200]>\n",
      "ссылка: https://www.noa.al/ - ответ: <Response [200]>\n"
     ]
    }
   ],
   "source": [
    "response(albania_news, headers)"
   ]
  },
  {
   "cell_type": "code",
   "execution_count": 12,
   "id": "8ee1170c",
   "metadata": {},
   "outputs": [
    {
     "name": "stdout",
     "output_type": "stream",
     "text": [
      "ссылка: https://www.rbc.ru/ - ответ: <Response [200]>\n",
      "ссылка: https://lenta.ru/ - ответ: <Response [400]>\n",
      "ссылка: https://www.vedomosti.ru/ - ответ: <Response [400]>\n",
      "ссылка: https://www.kommersant.ru/ - ответ: <Response [200]>\n",
      "ссылка: https://www.kp.ru/ - ответ: <Response [200]>\n",
      "ссылка: https://www.gazeta.ru/ - ответ: <Response [400]>\n",
      "ссылка: https://russian.rt.com/ - ответ: <Response [200]>\n",
      "ссылка: https://www.vesti.ru/ - ответ: <Response [200]>\n",
      "ссылка: https://aif.ru/ - ответ: <Response [200]>\n",
      "ссылка: https://www.pravda.ru/ - ответ: <Response [200]>\n",
      "ссылка: https://svpressa.ru/ - ответ: <Response [200]>\n",
      "ссылка: https://iz.ru/ - ответ: <Response [403]>\n",
      "ссылка: https://vz.ru/ - ответ: <Response [200]>\n",
      "ссылка: https://rg.ru/ - ответ: <Response [200]>\n",
      "ссылка: https://www.ng.ru/ - ответ: <Response [200]>\n",
      "ссылка: https://www.eg.ru/ - ответ: <Response [400]>\n",
      "ссылка: https://life.ru/ - ответ: <Response [400]>\n"
     ]
    }
   ],
   "source": [
    "response(internet_smi, headers)"
   ]
  },
  {
   "cell_type": "code",
   "execution_count": 15,
   "id": "68ed6b6e",
   "metadata": {},
   "outputs": [
    {
     "name": "stdout",
     "output_type": "stream",
     "text": [
      "Агрегаторы:3\n",
      "Информационные агенства:5\n",
      "Интернет издания:17\n",
      "Албанские:11\n"
     ]
    }
   ],
   "source": [
    "print(f'Агрегаторы:{len(agregators_links)}\\n' \n",
    "      f'Информационные агенства:{len(info_links)}\\n'\n",
    "      f'Интернет издания:{len(internet_smi)}\\n'\n",
    "      f'Албанские:{len(albania_news)}')"
   ]
  },
  {
   "cell_type": "code",
   "execution_count": 7,
   "id": "efc3bb38",
   "metadata": {},
   "outputs": [
    {
     "ename": "NameError",
     "evalue": "name 'news_ria' is not defined",
     "output_type": "error",
     "traceback": [
      "\u001b[1;31m---------------------------------------------------------------------------\u001b[0m",
      "\u001b[1;31mNameError\u001b[0m                                 Traceback (most recent call last)",
      "Input \u001b[1;32mIn [7]\u001b[0m, in \u001b[0;36m<cell line: 1>\u001b[1;34m()\u001b[0m\n\u001b[1;32m----> 1\u001b[0m \u001b[38;5;28mprint\u001b[39m(\u001b[38;5;124mf\u001b[39m\u001b[38;5;124m'\u001b[39m\u001b[38;5;124mСобранные новости:\u001b[39m\u001b[38;5;130;01m\\n\u001b[39;00m\u001b[38;5;124m'\u001b[39m\n\u001b[0;32m      2\u001b[0m       \u001b[38;5;124mf\u001b[39m\u001b[38;5;124m'\u001b[39m\u001b[38;5;124mРИА Новости https://ria.ru/ \u001b[39m\u001b[38;5;132;01m{\u001b[39;00m\u001b[38;5;28mlen\u001b[39m(news_ria)\u001b[38;5;132;01m}\u001b[39;00m\u001b[38;5;124m \u001b[39m\u001b[38;5;130;01m\\n\u001b[39;00m\u001b[38;5;124m'\u001b[39m\n\u001b[0;32m      3\u001b[0m       \u001b[38;5;124mf\u001b[39m\u001b[38;5;124m'\u001b[39m\u001b[38;5;124mИнтерфакс https://www.interfax.ru/ \u001b[39m\u001b[38;5;132;01m{\u001b[39;00m\u001b[38;5;28mlen\u001b[39m(news_interfax)\u001b[38;5;132;01m}\u001b[39;00m\u001b[38;5;124m \u001b[39m\u001b[38;5;130;01m\\n\u001b[39;00m\u001b[38;5;124m'\u001b[39m \n\u001b[0;32m      4\u001b[0m       \u001b[38;5;124mf\u001b[39m\u001b[38;5;124m'\u001b[39m\u001b[38;5;124mREGNUM https://regnum.ru/ \u001b[39m\u001b[38;5;132;01m{\u001b[39;00m\u001b[38;5;28mlen\u001b[39m(clear_news_list)\u001b[38;5;132;01m}\u001b[39;00m\u001b[38;5;124m \u001b[39m\u001b[38;5;130;01m\\n\u001b[39;00m\u001b[38;5;124m'\u001b[39m \n\u001b[0;32m      5\u001b[0m       \u001b[38;5;124mf\u001b[39m\u001b[38;5;124m'\u001b[39m\u001b[38;5;124mТАСС https://tass.ru/ \u001b[39m\u001b[38;5;132;01m{\u001b[39;00m\u001b[38;5;28mlen\u001b[39m(clear_news_tass)\u001b[38;5;132;01m}\u001b[39;00m\u001b[38;5;130;01m\\n\u001b[39;00m\u001b[38;5;124m'\u001b[39m \n\u001b[0;32m      6\u001b[0m       \u001b[38;5;124mf\u001b[39m\u001b[38;5;124m'\u001b[39m\u001b[38;5;124mРocБизнесКонсалтинг https://www.rbc.ru/ \u001b[39m\u001b[38;5;132;01m{\u001b[39;00m\u001b[38;5;28mlen\u001b[39m(all_news_rbk)\u001b[38;5;132;01m}\u001b[39;00m\u001b[38;5;124m'\u001b[39m)\n",
      "\u001b[1;31mNameError\u001b[0m: name 'news_ria' is not defined"
     ]
    }
   ],
   "source": [
    "print(f'Собранные новости:\\n'\n",
    "      f'РИА Новости https://ria.ru/ {len(news_ria)} \\n'\n",
    "      f'Интерфакс https://www.interfax.ru/ {len(news_interfax)} \\n' \n",
    "      f'REGNUM https://regnum.ru/ {len(clear_news_list)} \\n' \n",
    "      f'ТАСС https://tass.ru/ {len(clear_news_tass)}\\n' \n",
    "      f'РocБизнесКонсалтинг https://www.rbc.ru/ {len(all_news_rbk)}')"
   ]
  },
  {
   "cell_type": "markdown",
   "id": "c0dc5663",
   "metadata": {},
   "source": [
    "# Список информагенств, какой смогу собрать с интернета. Агенство - сайт. И потом пройтись по списку и посмотреть кто из них отдаёт респонс 200."
   ]
  },
  {
   "cell_type": "markdown",
   "id": "ecbc5a7b",
   "metadata": {},
   "source": [
    "### Агрегаторы\n",
    "- `Новости Mail.ru`  (https://news.mail.ru/  ?  utm_source=vsesmi_online)\n",
    "Последние новости - картина дня, политика, экономика и другие события. Фото и видео.\n",
    "\n",
    "- `Яндекс.Новости`   (https://dzen.ru/news/  ?  issue_tld=ru&utm_source=vsesmi_online)\n",
    "Актуальные новости России, регионов и областей, важные и свежие новости дня.\n",
    "\n",
    "- `Рамблер / новости`  (https://news.rambler.ru/  ?  utm_source=vsesmi_online)\n",
    "Новости сегодня: самые свежие и последние новости России и мира\n",
    "\n",
    "### Информационные агентства\n",
    "\n",
    "- `РИА Новости` (https://ria.ru/  ?  utm_source=vsesmi_online)\n",
    "Крупнейшее информационное агентство России. Самая оперативная информация: темы дня, обзоры, анализ. Фото и видео с места событий, инфографика, радиоэфир и подкасты.\n",
    "\n",
    "- `REGNUM` (https://regnum.ru/  ?  utm_source=vsesmi_online)\n",
    "Федеральное информационное агентство, распространяющее новости России и ближайшего зарубежья от собственных корреспондентов, дочерних агентств и партнеров.\n",
    "\n",
    "- `ТАСС` (https://tass.ru/  ?  utm_source=vsesmi_online)\n",
    "События в России и мире. Аналитические публикации. Материалы пресс-конференций. Видео- и фоторепортажи.\n",
    "\n",
    "- `РОСБАЛТ` (https://www.rosbalt.ru/  ?  utm_source=vsesmi_online)\n",
    "Новостная лента о событиях в российской и мировой экономике, политике, культуре. Мультимедийные проекты. Блоги.\n",
    "\n",
    "- `Интерфакс` (https://www.interfax.ru/)\n",
    "Независимое информационное агентство, одно из трёх ведущих агентств России.\n",
    "\n",
    "### Интернет-издания\n",
    "\n",
    "- `РосБизнесКонсалтинг`  (https://www.rbc.ru/  ?  utm_source=vsesmi_online)\n",
    "Ведущая российская компания, работающая в сферах масс-медиа и информационных технологий. Самые свежие новости, главные темы дня в политике, экономике, бизнесе и жизни. Акции, курсы валют, фондовый и инвестиционный рынок, погода.\n",
    "\n",
    "- `Lenta.ru`  (https://lenta.ru/  ?  utm_source=vsesmi_online)\n",
    "Информация о российских и мировых событиях в режиме реального времени. Новости, статьи, фотографии, видео. Семь дней в неделю, 24 часа в сутки.\n",
    "\n",
    "- `Ведомости`  (https://www.vedomosti.ru/  ?  utm_source=vsesmi_online)\n",
    "Ведущее деловое издание России. Качественный контент о бизнесе, экономике и политике. Актуальные новости, экспертные статьи и аналитика.\n",
    "\n",
    "- `Коммерсантъ`  (https://www.kommersant.ru/  ?  utm_source=vsesmi_online)\n",
    "Актуальные новости, объективный анализ и эксклюзивные комментарии о важнейших событиях и трендах.\n",
    "\n",
    "- `Комсомольская Правда`  (https://www.kp.ru/  ?  utm_source=vsesmi_online)\n",
    "Самые свежие новости России. Ежедневная публикация самой актуальной информации.\n",
    "\n",
    "- `Газета.RU`  (https://www.gazeta.ru/)\n",
    "Главные новости дня из Москвы и регионов, информационная лента новостей, новости России и мира, события дня и последнего часа, аналитика, комментарии, видео.\n",
    "\n",
    "- `RT на русском`  (https://russian.rt.com/  ?  utm_source=vsesmi_online)\n",
    "Актуальная картина дня на RT: круглосуточное ежедневное обновление новостей. Онлайн-репортажи с места событий. Комментарии экспертов, актуальные интервью, фото и видео репортажи.\n",
    "\n",
    "- `NEWSru.com`  (https://www.newsru.com/  ?  utm_source=vsesmi_online)\n",
    "Самые быстрые новости. Фото и видео дня. Лента новостей в России и в мире.\n",
    "\n",
    "- `Вести.RU`  (https://www.vesti.ru/)\n",
    "Служба новостей телеканала Россия. Интервью, репортажи, фото и видео, новости Москвы и регионов России.\n",
    "\n",
    "- `Аргументы и факты`  (https://aif.ru/  ?  utm_source=vsesmi_online)\n",
    "Круглосуточное ежедневное обновление новостей России и мира, репортажи, истории. Темы в формате вопрос-ответ, инфографики, фото и видеоматериалы. Полнотекстовые выпуски газеты, архив номеров.\n",
    "\n",
    "- `Правда.Ру`  (https://www.pravda.ru/)\n",
    "Новости и аналитика - два главных продукта, которые создают сотрудники Правды.Ру с начала 1999 года. Репортажи, интервью, видео по актуальным новостям.\n",
    "\n",
    "- `Свободная Пресса`  (https://svpressa.ru/  ?  utm_source=vsesmi_online)\n",
    "Общественно-политическое интернет-издание. Публикации о событиях в экономике, политике, социальной жизни, культуре, спорте. Лента новостей, фото- и видеорепортажи.\n",
    "\n",
    "- `Эхо Москвы`  (https://echo.msk.ru/  ?  utm_source=vsesmi_online)\n",
    "Сайт Радио Эхо Москвы: новости Москвы, России и мира, аналитика, политика, экономика, расшифровки и mp3 подкасты популярных программ и эфиров.\n",
    "\n",
    "- `Известия`  (https://iz.ru/  ?  utm_source=vsesmi_online)\n",
    "Информационный портал газеты Известия, Ren TV, 5 канала. Последние новости политики, экономики и культуры, новости в мире и стране.\n",
    "\n",
    "- `Дождь`  (https://tvrain.ru/  ?  utm_source=vsesmi_online)\n",
    "Независимый информационный телеканал. Это каждый час новости о том, что происходит на самом деле.\n",
    "\n",
    "- `Новая Газета`  (https://novayagazeta.ru/  ?  utm_source=vsesmi_online)\n",
    "Российская общественно-политическая газета. Новости политической, экономической, общественной, культурной и другой жизни страны и зарубежья.\n",
    "\n",
    "- `ВЗГЛЯД.РУ`  (https://vz.ru/  ?  utm_source=vsesmi_online)\n",
    "Деловая газета. Новости, актуальная информация и аналитические материалы о российской и международной политике, бизнесе и финансах, событиях культуры и спорта.\n",
    "\n",
    "- `Российская газета`  (https://rg.ru/  ?  utm_source=vsesmi_online)\n",
    "Издание Правительства Российской Федерации, официальный публикатор документов.\n",
    "\n",
    "- `Независимая газета`  (https://www.ng.ru/  ?  utm_source=vsesmi_online)\n",
    "Последние новости России и мировые новости. Политика. Экономика. Войны. Культура. Все свежие новости, публикация в реальном времени.\n",
    "\n",
    "- `Экспресс газета`  (https://www.eg.ru/  ?  utm_source=vsesmi_online)\n",
    "Эксклюзивы о жизни звезд и фото светской хроники. Главные новости и события дня в России и мире, в обществе и государстве, в политике и деньгах.\n",
    "\n",
    "- `Life.ru`  (https://life.ru/  ?  utm_source=vsesmi_online)\n",
    "События и новости 24 часа в сутки: эксклюзивные расследования, оригинальные фото и видео.\n",
    "\n",
    "\n",
    "# Источник: https://vsesmi.online/russia/"
   ]
  },
  {
   "cell_type": "markdown",
   "id": "9bbed45f",
   "metadata": {},
   "source": [
    "для затравочки: \n",
    "\n",
    "# Главные новостные сайты Албании\n",
    "\n",
    "### Интернет-издания и порталы\n",
    "\n",
    "- Gazeta Express https://www.gazetaexpress.com/ ? utm_source=vsesmi_online\n",
    "Новостной портал Республики Косово. Новости политики, спорта и шоу-бизнеса.\n",
    "\n",
    "- Top Channel https://top-channel.tv/ ? utm_source=vsesmi_online\n",
    "Албанский коммерческий телеканал. Последние новости каждую минуту.\n",
    "\n",
    "- Gazeta Tema https://www.gazetatema.net/ ? utm_source=vsesmi_online\n",
    "Последние новости в мире, комментарии экспертов.\n",
    "\n",
    "- Shqiptarja.com https://shqiptarja.com/home\n",
    "Профессиональный и независимый сайт с новостями из Албании и Балкан.\n",
    "\n",
    "- BalkanWeb https://www.balkanweb.com/ ? utm_source=vsesmi_online\n",
    "Новостной портал телеканала News 24 (Albania).\n",
    "\n",
    "- Gazeta Panorama http://www.panorama.com.al/?utm_source=vsesmi_online\n",
    "Одна из самых продаваемых газет и один из самых посещаемых сайтов Албании.\n",
    "\n",
    "- TV Klan https://tvklan.al/?utm_source=vsesmi_online\n",
    "Веб-портал частного телеканала, базирующегося в Тиране.\n",
    "\n",
    "- Opinion.al https://opinion.al/?utm_source=vsesmi_online\n",
    "Актуальные новости и события.\n",
    "\n",
    "- Albeu.com https://albeu.com/?utm_source=vsesmi_online\n",
    "Последние новости Албании, Косово и Македонии.\n",
    "\n",
    "- NOA https://www.noa.al/?utm_source=vsesmi_online \n",
    "Национальное информационное агентство. Новости 24 часа в сутки.\n",
    "\n",
    "- Gazeta Koha Jone https://kohajone.com/?utm_source=vsesmi_online\n",
    "Политически независимая ежедневная газета, базирующаяся в Тиране.\n",
    "\n",
    "\n",
    "# Источник: https://vsesmi.online/albaniya/"
   ]
  },
  {
   "cell_type": "markdown",
   "id": "ece91c50",
   "metadata": {},
   "source": [
    "# Главные СМИ Австралии\n",
    "### Интернет-издания и порталы\n",
    "\n",
    "- `News.com.au` https://www.news.com.au/\n",
    "Крупнейший в стране новостной и развлекательный веб-портал.\n",
    "\n",
    "- `The Sydney Morning Herald` https://www.smh.com.au/\n",
    "Ежедневная газета в формате таблоида. Основана в 1831 году.\n",
    "\n",
    "- `The Age` https://www.theage.com.au/\n",
    "Новости Мельбурна и Виктории. Последние актуальные события.\n",
    "\n",
    "- `9News` https://www.9news.com.au/ \n",
    "Национальная служба новостей Nine Network в Австралии.\n",
    "\n",
    "- `Herald Sun` https://www.heraldsun.com.au/\n",
    "Утренний таблоид выходящий в Мельбурне. Последние новости Австралии и мира.\n",
    "\n",
    "- `The Daily Telegraph` https://www.dailytelegraph.com.au/\n",
    "Ежедневный таблоид, издаваемый в Сиднее.\n",
    "\n",
    "- `The Australian` https://www.theaustralian.com.au/\n",
    "Последние австралийские новости и мировые новости. Политика, спорт и развлечения.\n",
    "\n",
    "- `The Conversation` https://theconversation.com/au\n",
    "Независимый некоммерческий портал, публикующий материалы исследовательских и академических сообществ.\n",
    "\n",
    "- `The Courier-Mail` https://www.couriermail.com.au/\n",
    "Главные новости Брисбена и Квинсленда.\n",
    "\n",
    "- `Brisbane Times` https://www.brisbanetimes.com.au/\n",
    "Новости Брисбена, Квинсленда, Австралии и всего мира.\n",
    "\n",
    "- `The Advertiser` https://www.adelaidenow.com.au/\n",
    "Последние новости Аделаиды и Южной Австралии.\n",
    "\n",
    "- `PerthNow` https://www.perthnow.com.au/\n",
    "Новости и события Западной Австралии. Бизнес, спорт и политика.\n",
    "\n",
    "- `WAtoday` https://www.watoday.com.au/\n",
    "Онлайн-газета, новости Перта и Западной Австралии.\n",
    "\n",
    "- `The Canberra Times` https://www.canberratimes.com.au/\n",
    "Ежедневная газета, издающаяся в городе Канберра. Основана в 1926 году.\n",
    "\n",
    "- `The West Australian` https://thewest.com.au/\n",
    "Петр и Западная Австралия. Местные новости и события.\n",
    "\n",
    "# Источник: https://vsesmi.online/avstraliya/"
   ]
  },
  {
   "cell_type": "markdown",
   "id": "d816c000",
   "metadata": {},
   "source": [
    "# Главные СМИ США\n",
    "### Агрегаторы\n",
    "\n",
    "- `Yahoo News` https://news.yahoo.com/\n",
    "Ежедневные новости c полным охватом текущих проблем.\n",
    "\n",
    "- `Google News` https://news.google.com/home\n",
    "Агрегатор новостей, собранных из источников по всему миру. Поиск по многим мировым источникам новостей.\n",
    "\n",
    "- `MSN` https://www.msn.com/ru-ru\n",
    "Интернет портал MSN.\n",
    "\n",
    "- `AOL — News` https://www.aol.com/us-news/\n",
    "Интернет портал, новости, политика, спорт.\n",
    "\n",
    "- `Reddit` https://www.reddit.com/\n",
    "Публикуемые пользователем новости, с возможностью голосования и создания рейтинга новостей.\n",
    "\n",
    "### Интернет-издания\n",
    "\n",
    "- `The New York Times` https://www.nytimes.com/\n",
    "Интернет издание газеты. Новости и комментарии.\n",
    "\n",
    "- `The Wall Street Journal` https://www.wsj.com/\n",
    "Ежедневная американская деловая газета. Последние новости и аналитика из США и всего мира.\n",
    "\n",
    "- `The Huffington Post` https://www.huffpost.com/e\n",
    "Американское интернет-издание, агрегатор и блог.\n",
    "\n",
    "- `The Washington Post` https://www.washingtonpost.com/\n",
    "Новости, мнения, спорт, искусство и развлечения. Включает архивы начиная с 1977 года.\n",
    "\n",
    "- `Los Angeles Times` https://www.latimes.com/\n",
    "Одна из наиболее популярных и авторитетных газет США.\n",
    "\n",
    "- `USA Today` https://www.usatoday.com/\n",
    "Первая общенациональная ежедневная газета в США.\n",
    "\n",
    "- `CNN International` https://us.cnn.com/\n",
    "Последние события США и международные новости.\n",
    "\n",
    "- `CNBC` https://www.cnbc.com/\n",
    "Лидер в сфере деловых новостей и освещения финансовых рынков в режиме реального времени.\n",
    "\n",
    "- `BBC` https://www.bbc.com\n",
    "Последние новости США и Канады, где бы вы ни были, независимо от вашего возраста.\n",
    "\n",
    "- `Fox News` https://www.foxnews.com/us\n",
    "Актуальные новости со всего мира.\n",
    "\n",
    "- `TIME` https://time.com/\n",
    "Еженедельный журнал. Последние новости и анализ событий.\n",
    "\n",
    "- `Reuters` https://www.reuters.com/\n",
    "Главные новости, экономика, финансы и инвестиции по всему миру.\n",
    "\n",
    "- `Bloomberg` https://www.bloomberg.com/europe\n",
    "Изменения финансовых, бизнес и экономических новостей во всем мире.\n",
    "\n",
    "- `NPR` https://www.npr.org/\n",
    "Новости с радиостанций США. Истории бизнеса, политики, технологий и искусства.\n",
    "\n",
    "- `CBS News` https://www.cbsnews.com/\n",
    "Срочные новости и прямые трансляции в режиме 24/7.\n",
    "\n",
    "- `POLITICO` https://www.politico.com/\n",
    "Политическая журналистика. Проблемы управления и политики в США и мире.\n",
    "\n",
    "- `Newsweek` https://www.newsweek.com/\n",
    "Углубленный анализ, новости и мнения о международных проблемах, культуре и политике.\n",
    "\n",
    "- `U.S. News` https://www.usnews.com/\n",
    "Американский новостной журнал. Политика и экономика, здравоохранение и образование.\n",
    "\n",
    "- `New York Post` https://nypost.com/\n",
    "Одна из крупнейших американских газет. Основана в 1801 году.\n",
    "\n",
    "- `The New Yorker` https://www.newyorker.com/\n",
    "Американский еженедельник. Репортажи и комментарии, художественные произведения, сатира и юмор.\n",
    "\n",
    "- `Forbes.com` https://www.forbes.com/\n",
    "Американский финансово-экономический журнал, одно из наиболее авторитетных и известных экономических изданий в мире.\n",
    "\n",
    "# Источник: https://vsesmi.online"
   ]
  },
  {
   "cell_type": "markdown",
   "id": "e26b7bf5",
   "metadata": {},
   "source": [
    "# Главные СМИ Украины\n",
    "### Агрегаторы\n",
    "\n",
    "- `UKR.NET` https://www.ukr.net/news/main.html\n",
    "Главные новости за сегодня. Последние новости Украины и Мира. Актуальные события в мире политики, экономики, спорта и многое другое.\n",
    "\n",
    "### Информационные агентства\n",
    "\n",
    "- `УНИАН` https://www.unian.net/\n",
    "Информационное агентство, работающее на рынке Украины с 1993 года. Лента новостей Украины. Фото- и видеоматериалы.\n",
    "\n",
    "- `UNN` https://www.unn.com.ua/\n",
    "Украинские национальные новости. Оперативные новости Украины и мира.\n",
    "\n",
    "### Интернет-издания\n",
    "- `КорреспонденТ.net` https://korrespondent.net/\n",
    "Новости сегодня - последние новости Украины и мира онлайн. Главные события дня - новости видео и фото.\n",
    "\n",
    "- `ТСН.ua` https://tsn.ua/\n",
    "Достоверные новости Украины и мира. Актуальная аналитика последних событий.\n",
    "\n",
    "- `OBOZREVATEL` https://www.obozrevatel.com/\n",
    "Самые свежие новости Украины и мира онлайн. Горячие темы, главные новости, статьи и аналитика, спорт.\n",
    "\n",
    "- `ГОРДОН` https://gordonua.com/\n",
    "Главные новости дня Украины и мира, эксклюзивные комментарии, аналитика. Спецпроекты, эксклюзивные новости, интервью Дмитрия Гордона.\n",
    "\n",
    "- `ТЕЛЕГРАФ` https://telegraf.com.ua/\n",
    "Последние новости Украины и мира за последний час, свежие и популярные мировые новости технологий, бизнеса, культуры и спорта за неделю.\n",
    "\n",
    "- `Сегодня` https://www.segodnya.ua/\n",
    "Новости, статьи и мнения экспертов. Главные новости и события Украины и мира от редакции газеты и сайта.\n",
    "\n",
    "- `Українська правда` https://www.pravda.com.ua/\n",
    "Украинское интернет-издание. Основная тематика - политика, социальные проблемы, экономика. Интервью с политическими деятелями Украины и зарубежья.\n",
    "\n",
    "- `Цензор.НЕТ` https://censor.net.ua/\n",
    "Последние новости дня в Украине и мире. Самые свежие новости и события.\n",
    "\n",
    "- `112.ua` https://112.ua/\n",
    "Оперативные и главные новости Украины, аналитика, политика, экономика, спорт, криминал.\n",
    "\n",
    "- `РБК - Украина` https://www.rbc.ua/\n",
    "Последние новости Украины и мира, политические и аналитические статьи, курсы валют, индексы и котировки.\n",
    "\n",
    "- `Лига.net` https://www.liga.net/\n",
    "Последние новости Украины и мира. Последние события на Донбассе.\n",
    "\n",
    "- `ZNAJ.UA` https://znaj.ua/\n",
    "Новости общества, политики, культуры, экономики, шоу-бизнеса, технологий и спорта.\n",
    "\n",
    "- `Новое Время` https://nv.ua/\n",
    "Последние новости Украины и Мира онлайн.\n",
    "\n",
    "- `Європейська правда` https://www.eurointegration.com.ua/\n",
    "Международная безопасность и евроинтеграция Украины.\n",
    "\n",
    "# Источник: https://vsesmi.online/ukraina/"
   ]
  },
  {
   "cell_type": "markdown",
   "id": "05c6958b",
   "metadata": {},
   "source": [
    "# Главные СМИ Ирана\n",
    "### Интернет-издания и порталы\n",
    "\n",
    "- `Beytoote.com` https://www.beytoote.com/\n",
    "Популярный портал. Новости, информация, интернет-сервисы.\n",
    "\n",
    "- `YJC` https://www.yjc.ir/\n",
    "Новостной портал. Политические, экономические и культурные новости.\n",
    "\n",
    "- `TABNAK` https://www.tabnak.ir/\n",
    "Аналитический новостной портал.\n",
    "\n",
    "- `Tasnim` https://www.tasnimnews.com/\n",
    "Частное информационное агентство. Главные новости страны.\n",
    "\n",
    "- `Shahrekhabar.com` https://www.shahrekhabar.com/\n",
    "Агрегатор новостей. Все главные события из разных источников.\n",
    "\n",
    "- `FARS` https://www.farsnews.ir/en/\n",
    "«Независимое» информационное агентство. Новости на нескольких языках.\n",
    "\n",
    "- `Asriran` https://www.asriran.com/\n",
    "Актуальные новости со всего мира. Анализ событий и мнения журналистов.\n",
    "\n",
    "- `Khabar Online` https://www.khabaronline.ir/\n",
    "Политика, экономика, спорт и общество. Новости туризма.\n",
    "\n",
    "- `ISNA` https://www.isna.ir/\n",
    "Информационное агентство иранских студентов.\n",
    "\n",
    "- `Mehr News` https://www.mehrnews.com/\n",
    "Информ-агентство Организации исламской пропаганды.\n",
    "\n",
    "- `Mashregh` https://www.mashreghnews.ir/\n",
    "Международное информационное агентство с головным офисом в Тегеране.\n",
    "\n",
    "# Источник: https://vsesmi.online/iran/"
   ]
  },
  {
   "cell_type": "markdown",
   "id": "8dcd6c53",
   "metadata": {},
   "source": [
    "# Главные СМИ Северной Кореи\n",
    "### Интернет-издания и порталы\n",
    "\n",
    "- `Rodong Sinmun` http://www.rodong.rep.kp/\n",
    "«Рабочая газета» — ежедневная газета, центральный печатный орган Трудовой партии Кореи.\n",
    "\n",
    "- `KCNA` http://kcna.kp/\n",
    "Центральное телеграфное агентство Кореи.\n",
    "\n",
    "- `Daily NK` https://www.dailynk.com/\n",
    "Южнокорейская новостная интернет-газета, освещающая вопросы, связанные с КНДР.\n",
    "\n",
    "- `Naenara` http://naenara.com.kp/\n",
    "Официальный веб-портал правительства Северной Кореи. Новости и последние события.\n",
    "\n",
    "# Источник: https://vsesmi.online/severnaya-koreya/"
   ]
  },
  {
   "cell_type": "markdown",
   "id": "46ed2784",
   "metadata": {},
   "source": [
    "### Словарь со всеми сми"
   ]
  },
  {
   "cell_type": "code",
   "execution_count": 32,
   "id": "85ac6b86",
   "metadata": {},
   "outputs": [],
   "source": [
    "all_smi_dict = {'Russia':[{'Mail.ru':'https://news.mail.ru/'},\n",
    "                           {'Яндекс':'https://dzen.ru/news/'},\n",
    "                           {'Рамблер':'https://news.rambler.ru/'},\n",
    "                           {'РИА Новости': 'https://ria.ru'},\n",
    "                           {'REGNUM':'https://regnum.ru/'},\n",
    "                           {'ТАСС':'https://tass.ru/'},\n",
    "                           {'РОСБАЛТ':'https://www.rosbalt.ru/'},\n",
    "                           {'Интерфакс ':'https://www.interfax.ru/'},\n",
    "                           {'РосБизнесКонсалтинг':'https://www.rbc.ru/'},\n",
    "                           {'Lenta.ru':'https://lenta.ru/'},\n",
    "                           {'Ведомости':'https://www.vedomosti.ru/'},\n",
    "                           {'Коммерсантъ':'https://www.kommersant.ru/'},\n",
    "                           {'Комсомольская Правда':'https://www.kp.ru/'},\n",
    "                           {'Газета.RU ':'https://www.gazeta.ru/'},\n",
    "                           {'RT на русском':'https://russian.rt.com/'},\n",
    "                         # {'NEWSru.com':'https://www.newsru.com/'},\n",
    "                           {'Вести.RU':'https://www.vesti.ru/'},\n",
    "                           {'Аргументы и факты':'https://aif.ru/'},\n",
    "                           {'Правда.Ру':'https://www.pravda.ru/'},\n",
    "                           {'Свободная Пресса ':'https://svpressa.ru/'},\n",
    "                         #  {'Эхо Москвы':'https://echo.msk.ru/'},\n",
    "                           {'Известия ':'https://iz.ru/'},\n",
    "                         #  {'Дождь':'https://tvrain.ru/'},\n",
    "                         #  {'Новая Газета':'https://novayagazeta.ru/'},\n",
    "                           {'ВЗГЛЯД.РУ ':'https://vz.ru/'},\n",
    "                           {'Российская газета':'https://rg.ru/'}, \n",
    "                           {'Независимая газета':'https://www.ng.ru/'}, \n",
    "                           {'Экспресс газета':'https://www.eg.ru/'}, \n",
    "                           {'Life.ru':'https://life.ru/'}, \n",
    "                          ],\n",
    "               'Albania':[{'Gazeta Express':'https://www.gazetaexpress.com/'},\n",
    "                           {'Top Channel ':'https://top-channel.tv/'},\n",
    "                           {'Gazeta Tema':'https://www.gazetatema.net/'},\n",
    "                           {'Shqiptarja.com':'https://shqiptarja.com/home'},\n",
    "                           {'BalkanWeb':'https://www.balkanweb.com/'},\n",
    "                           {'Gazeta Panorama':'http://www.panorama.com.al/'},\n",
    "                           {'TV Klan':'https://tvklan.al/'},\n",
    "                           {'Opinion.al':'https://opinion.al/'},\n",
    "                           {'Albeu.com':'https://albeu.com/'},\n",
    "                           {'NOA':'https://www.noa.al/'},\n",
    "                           {'Gazeta Koha Jone':'https://kohajone.com/'},],\n",
    "               'Australia':[{'News.com.au':'https://www.news.com.au/'},\n",
    "                             {'The Sydney Morning Herald':' https://www.smh.com.au/'},\n",
    "                             {'The Age':' https://www.theage.com.au/ '},\n",
    "                             {'9News':'https://www.9news.com.au/ '},\n",
    "                             {'Herald Sun':'https://www.heraldsun.com.au/'},\n",
    "                             {'The Daily Telegraph':'https://www.dailytelegraph.com.au/'},\n",
    "                             {'The Australian':'https://www.theaustralian.com.au/'},\n",
    "                             {'The Conversation':'https://theconversation.com/au'},\n",
    "                             {'The Courier-Mail':'https://www.couriermail.com.au/'},\n",
    "                             {'Brisbane Times':'https://www.brisbanetimes.com.au/'},\n",
    "                             {'The Advertiser':'https://www.adelaidenow.com.au/'},\n",
    "                             {'PerthNow':'https://www.perthnow.com.au/ '},\n",
    "                             {'WAtoday':'https://www.watoday.com.au/'},\n",
    "                             {'The Canberra Times':'https://www.canberratimes.com.au/'},\n",
    "                             {'The West Australian':'https://thewest.com.au/ '}],\n",
    "               'USA':[{'Yahoo News':'https://news.yahoo.com/'},\n",
    "                      {'Google News':'https://news.google.com/home'},\n",
    "                      {'MSN':'https://www.msn.com/ru-ru'},\n",
    "                     # {'AOL':'https://www.aol.com/us-news/'},\n",
    "                     # {'Reddit':'https://www.reddit.com/'},\n",
    "                      {'The New York Times':'https://www.nytimes.com/'},\n",
    "                      {'The Wall Street Journal':'https://www.wsj.com/'},\n",
    "                      {'The Huffington Post':'https://www.huffpost.com/e'},\n",
    "                      {'The Washington Post':'https://www.washingtonpost.com/'},\n",
    "                      {'Los Angeles Times':'https://www.latimes.com/'},\n",
    "                      {'USA Today':'https://www.usatoday.com/'},\n",
    "                      {'CNN International':'https://www.usatoday.com/ '},\n",
    "                      {'CNBC':'https://www.cnbc.com/'},\n",
    "                     # {'BBC':'https://www.bbc.com'},\n",
    "                      {'Fox News':'https://www.foxnews.com/us'},\n",
    "                      {'TIME':'https://time.com/'},\n",
    "                      {'Reuters':'https://www.reuters.com/'},\n",
    "                      {'Bloomberg':'https://www.bloomberg.com/europe'},\n",
    "                      {'NPR':'https://www.npr.org/'},\n",
    "                      {'CBS News':'https://www.cbsnews.com/'},\n",
    "                      {'POLITICO':'https://www.politico.com/'},\n",
    "                      {'Newsweek':'https://www.newsweek.com/'},\n",
    "                     # {'U.S. News':'https://www.usnews.com/'},\n",
    "                      {'New York Post':'https://nypost.com/'},\n",
    "                      {'The New Yorker':'https://www.newyorker.com/'},\n",
    "                      {'Forbes.com':'https://www.forbes.com/'}],\n",
    "                'Ukrain':[{'UKR.NET':'https://www.ukr.net/news/main.html'},\n",
    "                            {'УНИАН':'https://www.unian.net/'},\n",
    "                            {'UNN':'https://www.unn.com.ua/'},\n",
    "                            {'КорреспонденТ.net':'https://korrespondent.net/'},\n",
    "                            {'ТСН.ua':'https://tsn.ua/'},\n",
    "                            {'OBOZREVATEL':'https://www.obozrevatel.com/'},\n",
    "                            {'ГОРДОН':'https://gordonua.com/'},\n",
    "                            {'ТЕЛЕГРАФ':'https://telegraf.com.ua/'},\n",
    "                            {'Сегодня':'https://www.segodnya.ua/'},\n",
    "                            {'Українська правда':'https://www.pravda.com.ua/'},\n",
    "                            {'Цензор.НЕТ':'https://censor.net.ua/'},\n",
    "                            {'112.ua':'https://112.ua/'},\n",
    "                            {'РБК - Украина':'https://www.rbc.ua/'},\n",
    "                            {'Лига.net':'https://www.liga.net/'},\n",
    "                            {'ZNAJ.UA':'https://znaj.ua/'},\n",
    "                            {'Новое Время':'https://nv.ua/'},\n",
    "                            {'Європейська правда':'https://www.eurointegration.com.ua/'}],\n",
    "               'Iran':[{'Beytoote.com':'https://www.beytoote.com/'},\n",
    "                       {'YJC':'https://www.yjc.ir/'},\n",
    "                       {'TABNAK':'https://www.tabnak.ir/'},\n",
    "                       {'Tasnim':'https://www.tasnimnews.com/'},\n",
    "                       {'Shahrekhabar.com':'https://www.shahrekhabar.com/'},\n",
    "                      # {'FARS':'https://www.farsnews.ir/en/'},\n",
    "                       {'Asriran':'https://www.asriran.com/'},\n",
    "                       {'Khabar Online':'https://www.khabaronline.ir/ '},\n",
    "                       {'ISNA':'https://www.isna.ir/'},\n",
    "                       {'Mehr News':'https://www.mehrnews.com/'},\n",
    "                      # {'Mashregh':'https://www.mashreghnews.ir/'}\n",
    "                      ], \n",
    "               'North Korea':[\n",
    "                             # {'Rodong Sinmun':'http://www.rodong.rep.kp/'},\n",
    "                             # {'KCNA':'http://kcna.kp/'},\n",
    "                              {'Daily NK':'https://www.dailynk.com/'},\n",
    "                             # {'Naenara':'http://naenara.com.kp/'}\n",
    "               ], \n",
    "               '':[{'':''},{'':''},{'':''}, ]}"
   ]
  },
  {
   "cell_type": "code",
   "execution_count": 21,
   "id": "dcfe5ccb",
   "metadata": {},
   "outputs": [],
   "source": [
    "from lxml import html\n",
    "import requests\n",
    "from pprint import pprint\n",
    "\n",
    "headers = {'User Agent':'Mozilla/5.0 (Windows NT 10.0; Win64; x64) AppleWebKit/537.36 (KHTML, like Gecko) Chrome/109.0.0.0 Safari/537.36'}\n",
    "\n",
    "def response(urls, params):\n",
    "    for url in urls:\n",
    "        response = requests.get(url, headers=params)\n",
    "        print(f'ссылка: {url} - ответ: {response}')"
   ]
  },
  {
   "cell_type": "markdown",
   "id": "1d5924a7",
   "metadata": {},
   "source": [
    "### Получаю список ссылок по стране\n"
   ]
  },
  {
   "cell_type": "code",
   "execution_count": 34,
   "id": "0fb0ab53",
   "metadata": {},
   "outputs": [],
   "source": [
    "russia_links = []\n",
    "for el in all_smi_dict['Russia']:\n",
    "    element = el.values()\n",
    "    russia_links.append(list(element))\n",
    "\n",
    "russia_links_list = []\n",
    "for el in russia_links:\n",
    "    russia_links_list.append(el[0])\n",
    "\n",
    "                             \n",
    "usa_links = []\n",
    "for el in all_smi_dict['USA']:\n",
    "    element = el.values()\n",
    "    usa_links.append(list(element))\n",
    "\n",
    "usa_links_list = []\n",
    "for el in usa_links:\n",
    "    usa_links_list.append(el[0])\n",
    "\n",
    "                             \n",
    "albania_links = []\n",
    "for el in all_smi_dict['Albania']:\n",
    "    element = el.values()\n",
    "    albania_links.append(list(element))\n",
    "\n",
    "albania_links_list = []\n",
    "for el in albania_links:\n",
    "    albania_links_list.append(el[0])\n",
    "\n",
    "                             \n",
    "australia_links = []\n",
    "for el in all_smi_dict['Australia']:\n",
    "    element = el.values()\n",
    "    australia_links.append(list(element))\n",
    "\n",
    "australia_links_list = []\n",
    "for el in australia_links:\n",
    "    australia_links_list.append(el[0])\n",
    "                             \n",
    "\n",
    "ukrain_links = []\n",
    "for el in all_smi_dict['Ukrain']:\n",
    "    element = el.values()\n",
    "    ukrain_links.append(list(element))\n",
    "\n",
    "ukrain_links_list = []\n",
    "for el in ukrain_links:\n",
    "    ukrain_links_list.append(el[0])\n",
    "\n",
    "                          \n",
    "iran_links = []\n",
    "for el in all_smi_dict['Iran']:\n",
    "    element = el.values()\n",
    "    iran_links.append(list(element))\n",
    "\n",
    "iran_links_list = []\n",
    "for el in iran_links:\n",
    "    iran_links_list.append(el[0])\n",
    "  \n",
    "                             \n",
    "north_korea_links = []\n",
    "for el in all_smi_dict['North Korea']:\n",
    "    element = el.values()\n",
    "    north_korea_links.append(list(element))\n",
    "\n",
    "north_korea_links_list = []\n",
    "for el in north_korea_links:\n",
    "    north_korea_links_list.append(el[0])                           \n",
    "                          \n",
    "                          "
   ]
  },
  {
   "cell_type": "code",
   "execution_count": 4,
   "id": "09ea5038",
   "metadata": {},
   "outputs": [
    {
     "data": {
      "text/plain": [
       "25"
      ]
     },
     "execution_count": 4,
     "metadata": {},
     "output_type": "execute_result"
    }
   ],
   "source": [
    "len(russia_links_list)"
   ]
  },
  {
   "cell_type": "code",
   "execution_count": 24,
   "id": "6062fc2e",
   "metadata": {},
   "outputs": [
    {
     "name": "stdout",
     "output_type": "stream",
     "text": [
      "ссылка: https://news.mail.ru/ - ответ: <Response [400]>\n",
      "ссылка: https://dzen.ru/news/ - ответ: <Response [400]>\n",
      "ссылка: https://news.rambler.ru/ - ответ: <Response [400]>\n",
      "ссылка: https://ria.ru - ответ: <Response [200]>\n",
      "ссылка: https://regnum.ru/ - ответ: <Response [200]>\n",
      "ссылка: https://tass.ru/ - ответ: <Response [200]>\n",
      "ссылка: https://www.rosbalt.ru/ - ответ: <Response [400]>\n",
      "ссылка: https://www.interfax.ru/ - ответ: <Response [200]>\n",
      "ссылка: https://www.rbc.ru/ - ответ: <Response [200]>\n",
      "ссылка: https://lenta.ru/ - ответ: <Response [400]>\n",
      "ссылка: https://www.vedomosti.ru/ - ответ: <Response [400]>\n",
      "ссылка: https://www.kommersant.ru/ - ответ: <Response [200]>\n",
      "ссылка: https://www.kp.ru/ - ответ: <Response [200]>\n",
      "ссылка: https://www.gazeta.ru/ - ответ: <Response [400]>\n",
      "ссылка: https://russian.rt.com/ - ответ: <Response [200]>\n",
      "ссылка: https://www.vesti.ru/ - ответ: <Response [200]>\n",
      "ссылка: https://aif.ru/ - ответ: <Response [200]>\n",
      "ссылка: https://www.pravda.ru/ - ответ: <Response [200]>\n",
      "ссылка: https://svpressa.ru/ - ответ: <Response [200]>\n",
      "ссылка: https://iz.ru/ - ответ: <Response [403]>\n",
      "ссылка: https://vz.ru/ - ответ: <Response [200]>\n",
      "ссылка: https://rg.ru/ - ответ: <Response [200]>\n",
      "ссылка: https://www.ng.ru/ - ответ: <Response [200]>\n",
      "ссылка: https://www.eg.ru/ - ответ: <Response [400]>\n",
      "ссылка: https://life.ru/ - ответ: <Response [400]>\n"
     ]
    }
   ],
   "source": [
    "response(russia_links_list, headers)"
   ]
  },
  {
   "cell_type": "code",
   "execution_count": 4,
   "id": "6bb59f40",
   "metadata": {},
   "outputs": [
    {
     "data": {
      "text/plain": [
       "22"
      ]
     },
     "execution_count": 4,
     "metadata": {},
     "output_type": "execute_result"
    }
   ],
   "source": [
    "len(usa_links_list)"
   ]
  },
  {
   "cell_type": "code",
   "execution_count": 5,
   "id": "d653b568",
   "metadata": {},
   "outputs": [
    {
     "name": "stdout",
     "output_type": "stream",
     "text": [
      "ссылка: https://news.yahoo.com/ - ответ: <Response [400]>\n",
      "ссылка: https://news.google.com/home - ответ: <Response [400]>\n",
      "ссылка: https://www.msn.com/ru-ru - ответ: <Response [400]>\n",
      "ссылка: https://www.nytimes.com/ - ответ: <Response [400]>\n",
      "ссылка: https://www.wsj.com/ - ответ: <Response [403]>\n",
      "ссылка: https://www.huffpost.com/e - ответ: <Response [400]>\n",
      "ссылка: https://www.washingtonpost.com/ - ответ: <Response [200]>\n",
      "ссылка: https://www.latimes.com/ - ответ: <Response [403]>\n",
      "ссылка: https://www.usatoday.com/ - ответ: <Response [400]>\n",
      "ссылка: https://www.usatoday.com/  - ответ: <Response [400]>\n",
      "ссылка: https://www.cnbc.com/ - ответ: <Response [200]>\n",
      "ссылка: https://www.foxnews.com/us - ответ: <Response [400]>\n",
      "ссылка: https://time.com/ - ответ: <Response [400]>\n",
      "ссылка: https://www.reuters.com/ - ответ: <Response [200]>\n",
      "ссылка: https://www.bloomberg.com/europe - ответ: <Response [400]>\n",
      "ссылка: https://www.npr.org/ - ответ: <Response [200]>\n",
      "ссылка: https://www.cbsnews.com/ - ответ: <Response [400]>\n",
      "ссылка: https://www.politico.com/ - ответ: <Response [200]>\n",
      "ссылка: https://www.newsweek.com/ - ответ: <Response [400]>\n",
      "ссылка: https://nypost.com/ - ответ: <Response [400]>\n",
      "ссылка: https://www.newyorker.com/ - ответ: <Response [400]>\n",
      "ссылка: https://www.forbes.com/ - ответ: <Response [400]>\n"
     ]
    }
   ],
   "source": [
    "response(usa_links_list, headers)"
   ]
  },
  {
   "cell_type": "code",
   "execution_count": 6,
   "id": "32452671",
   "metadata": {},
   "outputs": [
    {
     "data": {
      "text/plain": [
       "11"
      ]
     },
     "execution_count": 6,
     "metadata": {},
     "output_type": "execute_result"
    }
   ],
   "source": [
    "len(albania_links_list)"
   ]
  },
  {
   "cell_type": "code",
   "execution_count": 7,
   "id": "80625194",
   "metadata": {},
   "outputs": [
    {
     "name": "stdout",
     "output_type": "stream",
     "text": [
      "ссылка: https://www.gazetaexpress.com/ - ответ: <Response [200]>\n",
      "ссылка: https://top-channel.tv/ - ответ: <Response [503]>\n",
      "ссылка: https://www.gazetatema.net/ - ответ: <Response [403]>\n",
      "ссылка: https://shqiptarja.com/home - ответ: <Response [200]>\n",
      "ссылка: https://www.balkanweb.com/ - ответ: <Response [200]>\n",
      "ссылка: http://www.panorama.com.al/ - ответ: <Response [200]>\n",
      "ссылка: https://tvklan.al/ - ответ: <Response [200]>\n",
      "ссылка: https://opinion.al/ - ответ: <Response [200]>\n",
      "ссылка: https://albeu.com/ - ответ: <Response [200]>\n",
      "ссылка: https://www.noa.al/ - ответ: <Response [200]>\n",
      "ссылка: https://kohajone.com/ - ответ: <Response [200]>\n"
     ]
    }
   ],
   "source": [
    "response(albania_links_list, headers)"
   ]
  },
  {
   "cell_type": "code",
   "execution_count": 8,
   "id": "a8acfd48",
   "metadata": {},
   "outputs": [
    {
     "data": {
      "text/plain": [
       "15"
      ]
     },
     "execution_count": 8,
     "metadata": {},
     "output_type": "execute_result"
    }
   ],
   "source": [
    "len(australia_links_list)"
   ]
  },
  {
   "cell_type": "code",
   "execution_count": 9,
   "id": "107a6523",
   "metadata": {},
   "outputs": [
    {
     "name": "stdout",
     "output_type": "stream",
     "text": [
      "ссылка: https://www.news.com.au/ - ответ: <Response [200]>\n",
      "ссылка:  https://www.smh.com.au/ - ответ: <Response [400]>\n",
      "ссылка:  https://www.theage.com.au/  - ответ: <Response [400]>\n",
      "ссылка: https://www.9news.com.au/  - ответ: <Response [200]>\n",
      "ссылка: https://www.heraldsun.com.au/ - ответ: <Response [400]>\n",
      "ссылка: https://www.dailytelegraph.com.au/ - ответ: <Response [400]>\n",
      "ссылка: https://www.theaustralian.com.au/ - ответ: <Response [403]>\n",
      "ссылка: https://theconversation.com/au - ответ: <Response [400]>\n",
      "ссылка: https://www.couriermail.com.au/ - ответ: <Response [400]>\n",
      "ссылка: https://www.brisbanetimes.com.au/ - ответ: <Response [400]>\n",
      "ссылка: https://www.adelaidenow.com.au/ - ответ: <Response [400]>\n",
      "ссылка: https://www.perthnow.com.au/  - ответ: <Response [404]>\n",
      "ссылка: https://www.watoday.com.au/ - ответ: <Response [400]>\n",
      "ссылка: https://www.canberratimes.com.au/ - ответ: <Response [200]>\n",
      "ссылка: https://thewest.com.au/  - ответ: <Response [404]>\n"
     ]
    }
   ],
   "source": [
    "response(australia_links_list, headers)"
   ]
  },
  {
   "cell_type": "code",
   "execution_count": 10,
   "id": "1d67b477",
   "metadata": {},
   "outputs": [
    {
     "data": {
      "text/plain": [
       "17"
      ]
     },
     "execution_count": 10,
     "metadata": {},
     "output_type": "execute_result"
    }
   ],
   "source": [
    "len(ukrain_links_list)"
   ]
  },
  {
   "cell_type": "code",
   "execution_count": null,
   "id": "da6ecb7d",
   "metadata": {},
   "outputs": [],
   "source": [
    "response(ukrain_links_list, headers)"
   ]
  },
  {
   "cell_type": "code",
   "execution_count": 23,
   "id": "86bfab49",
   "metadata": {},
   "outputs": [
    {
     "data": {
      "text/plain": [
       "9"
      ]
     },
     "execution_count": 23,
     "metadata": {},
     "output_type": "execute_result"
    }
   ],
   "source": [
    "len(iran_links_list)"
   ]
  },
  {
   "cell_type": "code",
   "execution_count": 24,
   "id": "fb0c742f",
   "metadata": {},
   "outputs": [
    {
     "name": "stdout",
     "output_type": "stream",
     "text": [
      "ссылка: https://www.beytoote.com/ - ответ: <Response [200]>\n",
      "ссылка: https://www.yjc.ir/ - ответ: <Response [400]>\n",
      "ссылка: https://www.tabnak.ir/ - ответ: <Response [400]>\n",
      "ссылка: https://www.tasnimnews.com/ - ответ: <Response [400]>\n",
      "ссылка: https://www.shahrekhabar.com/ - ответ: <Response [200]>\n",
      "ссылка: https://www.asriran.com/ - ответ: <Response [400]>\n",
      "ссылка: https://www.khabaronline.ir/  - ответ: <Response [400]>\n",
      "ссылка: https://www.isna.ir/ - ответ: <Response [400]>\n",
      "ссылка: https://www.mehrnews.com/ - ответ: <Response [400]>\n"
     ]
    }
   ],
   "source": [
    "response(iran_links_list, headers)"
   ]
  },
  {
   "cell_type": "code",
   "execution_count": 35,
   "id": "44fa07f7",
   "metadata": {},
   "outputs": [
    {
     "data": {
      "text/plain": [
       "1"
      ]
     },
     "execution_count": 35,
     "metadata": {},
     "output_type": "execute_result"
    }
   ],
   "source": [
    "len(north_korea_links_list)"
   ]
  },
  {
   "cell_type": "code",
   "execution_count": 36,
   "id": "28f191a0",
   "metadata": {},
   "outputs": [
    {
     "name": "stdout",
     "output_type": "stream",
     "text": [
      "ссылка: https://www.dailynk.com/ - ответ: <Response [400]>\n"
     ]
    }
   ],
   "source": [
    "response(north_korea_links_list, headers)"
   ]
  },
  {
   "cell_type": "code",
   "execution_count": null,
   "id": "62f404a5",
   "metadata": {},
   "outputs": [],
   "source": []
  }
 ],
 "metadata": {
  "kernelspec": {
   "display_name": "Python 3 (ipykernel)",
   "language": "python",
   "name": "python3"
  },
  "language_info": {
   "codemirror_mode": {
    "name": "ipython",
    "version": 3
   },
   "file_extension": ".py",
   "mimetype": "text/x-python",
   "name": "python",
   "nbconvert_exporter": "python",
   "pygments_lexer": "ipython3",
   "version": "3.8.8"
  }
 },
 "nbformat": 4,
 "nbformat_minor": 5
}

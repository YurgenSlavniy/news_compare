{
 "cells": [
  {
   "cell_type": "markdown",
   "id": "82a42be7",
   "metadata": {},
   "source": [
    "# Cоставить список информационных агенств России\n",
    "\n",
    "1) РИА Новости https://ria.ru/\n",
    "\n",
    "2) Интерфакс https://www.interfax.ru/\n",
    "\n",
    "3) \n",
    "\n",
    "..."
   ]
  },
  {
   "cell_type": "markdown",
   "id": "4102386c",
   "metadata": {},
   "source": [
    "### РИА Новости `https://ria.ru/`\n"
   ]
  },
  {
   "cell_type": "code",
   "execution_count": null,
   "id": "83437db1",
   "metadata": {},
   "outputs": [],
   "source": [
    "from lxml import html\n",
    "import requests\n",
    "from pprint import pprint\n",
    "\n",
    "url_ria = 'https://ria.ru/'\n",
    "headers = {'User Agent':'Mozilla/5.0 (Windows NT 10.0; Win64; x64) AppleWebKit/537.36 (KHTML, like Gecko) Chrome/109.0.0.0 Safari/537.36'}\n",
    "\n",
    "response_ria = requests.get(url_ria, headers=headers)\n",
    "\n",
    "dom_ria = html.fromstring(response_ria.text)\n",
    "\n",
    "news_ria = dom_ria.xpath(\"//span[@class='cell-list__item-title']/text()\")"
   ]
  },
  {
   "cell_type": "code",
   "execution_count": 18,
   "id": "06030dbc",
   "metadata": {},
   "outputs": [
    {
     "data": {
      "text/plain": [
       "<Response [200]>"
      ]
     },
     "execution_count": 18,
     "metadata": {},
     "output_type": "execute_result"
    }
   ],
   "source": [
    "response"
   ]
  },
  {
   "cell_type": "code",
   "execution_count": 19,
   "id": "50a67cce",
   "metadata": {},
   "outputs": [
    {
     "data": {
      "text/plain": [
       "['Число погибших в результате взрыва газа в Новосибирске выросло до 13 ',\n",
       " 'Российские десантники предотвратили прорыв противника в ЛНР ',\n",
       " 'Украине пока не нужны истребители, заявил Макрон ',\n",
       " 'В Харьковской области сообщили о повреждении объектов критической инфраструктуры ',\n",
       " 'Россия и Китай в два раза нарастили долю нацвалют в торговле ',\n",
       " 'Путин рассказал о нештатной ситуации на борту № 1 ',\n",
       " 'СМИ: МИД Нидерландов вызвал посла России из-за дела о крушении MH17 ',\n",
       " 'Украинские СМИ рассказали, сколько стоит откупиться от передовой ',\n",
       " 'Американский журналист Сеймур Херш отказался выступить в Госдуме ',\n",
       " 'Конгрессвумен США отбилась от нападения с помощью кипятка ',\n",
       " 'Польские наемники изнасиловали несовершеннолетнюю девочку, сообщили в николаевском подполье ',\n",
       " 'Ветеран морской разведки США прокомментировал новые данные о диверсии на \"Северных потоках\" ',\n",
       " 'Петербург подарил оборудование донецкому центру переливания крови ',\n",
       " 'Сочинские ученые рассказали о дальнейшей судьбе брошенного медведя ',\n",
       " 'В США рассказали, как Путин изменил мир ',\n",
       " 'Минобороны показало кадры круглосуточных тренировок штурмовых подразделений ',\n",
       " 'Эксперты оценили уровень вредительства от уволенных в промышленности ',\n",
       " 'Макрон может лишить Путина высшего звания ордена Почетного легиона ',\n",
       " 'В Киеве и большинстве областей Украины звучит воздушная тревога ',\n",
       " 'В Крыму призвали западные страны помнить об ударе возмездия ',\n",
       " 'В городе Часов Яр зафиксировали расположение иностранных наемников ',\n",
       " 'Российские ученые разработали новый способ создания композитов для авиации ',\n",
       " 'Москва готова сотрудничать с Западом на своих условиях, предупредил посол России в Гааге ',\n",
       " 'Онколог оценил вероятность рака из-за коронавируса ',\n",
       " 'Минцифры создаст единого мобильного оператора для новых регионов ',\n",
       " 'Миура лидирует после короткой программы на турнире четырех континентов ',\n",
       " 'Посол России в Китае: надеемся на участие атлетов КНР в \"Играх будущего\" ',\n",
       " 'Два литра крови на льду: самое страшное видео в истории хоккея  ',\n",
       " 'Убийство в Тампе: Кучеров, Василевский и Сергачев отомстили своим обидчикам ']"
      ]
     },
     "execution_count": 19,
     "metadata": {},
     "output_type": "execute_result"
    }
   ],
   "source": [
    "news"
   ]
  },
  {
   "cell_type": "code",
   "execution_count": 20,
   "id": "bd44833e",
   "metadata": {},
   "outputs": [
    {
     "data": {
      "text/plain": [
       "29"
      ]
     },
     "execution_count": 20,
     "metadata": {},
     "output_type": "execute_result"
    }
   ],
   "source": [
    "len(news)"
   ]
  },
  {
   "cell_type": "code",
   "execution_count": 21,
   "id": "4be8e756",
   "metadata": {},
   "outputs": [
    {
     "data": {
      "text/plain": [
       "['Число погибших в результате взрыва газа в Новосибирске выросло до 13 ',\n",
       " 'Российские десантники предотвратили прорыв противника в ЛНР ',\n",
       " 'Украине пока не нужны истребители, заявил Макрон ',\n",
       " 'В Харьковской области сообщили о повреждении объектов критической инфраструктуры ',\n",
       " 'Россия и Китай в два раза нарастили долю нацвалют в торговле ']"
      ]
     },
     "execution_count": 21,
     "metadata": {},
     "output_type": "execute_result"
    }
   ],
   "source": [
    "news[:5]"
   ]
  },
  {
   "cell_type": "markdown",
   "id": "fde175c8",
   "metadata": {},
   "source": [
    "### Интерфакс https://www.interfax.ru/"
   ]
  },
  {
   "cell_type": "markdown",
   "id": "65f109d3",
   "metadata": {},
   "source": [
    "Определяю точку входа. https://www.interfax.ru/"
   ]
  },
  {
   "cell_type": "code",
   "execution_count": null,
   "id": "d8c30af1",
   "metadata": {},
   "outputs": [],
   "source": [
    "from lxml import html\n",
    "import requests\n",
    "from pprint import pprint\n",
    "\n",
    "url_interfax = 'https://www.interfax.ru/'\n",
    "headers = {'User Agent':'Mozilla/5.0 (Windows NT 10.0; Win64; x64) AppleWebKit/537.36 (KHTML, like Gecko) Chrome/109.0.0.0 Safari/537.36'}\n",
    "\n",
    "response_interfax = requests.get(url_interfax , headers=headers)\n",
    "\n",
    "dom_interfax = html.fromstring(response_interfax.text)\n",
    "\n",
    "news_interfax = dom_interfax.xpath(\"//h3/text()\")\n",
    "\n"
   ]
  },
  {
   "cell_type": "code",
   "execution_count": 31,
   "id": "3c3289e2",
   "metadata": {},
   "outputs": [
    {
     "data": {
      "text/plain": [
       "['Число жертв в результате землетрясения в Турции и Сирии превысило 20 тысяч человек',\n",
       " 'Взрыв произошел на балконе квартиры в пятиэтажном доме в подмосковном Богородском',\n",
       " 'Группа республиканцев предложила прекратить оказание американской помощи Украине',\n",
       " 'Количество жертв обрушения пятиэтажного дома в Новосибирске достигло 13 человек',\n",
       " 'Аккаунты Трампа в Facebook и Instagram снова функционируют']"
      ]
     },
     "execution_count": 31,
     "metadata": {},
     "output_type": "execute_result"
    }
   ],
   "source": [
    "news_interfax[:5]"
   ]
  },
  {
   "cell_type": "code",
   "execution_count": null,
   "id": "8d696c8a",
   "metadata": {},
   "outputs": [],
   "source": [
    "len(news_interfax)"
   ]
  },
  {
   "cell_type": "markdown",
   "id": "fec994e1",
   "metadata": {},
   "source": [
    "### Список URLS"
   ]
  },
  {
   "cell_type": "code",
   "execution_count": 8,
   "id": "ddd7bccc",
   "metadata": {},
   "outputs": [],
   "source": [
    "agregators_links = ['https://news.mail.ru/', 'https://dzen.ru/news/', 'https://news.rambler.ru/']\n",
    "agregators_links_arg = ['https://news.mail.ru/?utm_source=vsesmi_online', 'https://dzen.ru/news/?issue_tld=ru&utm_source=vsesmi_online', 'https://news.rambler.ru/?utm_source=vsesmi_online']"
   ]
  },
  {
   "cell_type": "code",
   "execution_count": 9,
   "id": "c9fc79e8",
   "metadata": {},
   "outputs": [],
   "source": [
    "info_links = ['https://ria.ru/', 'https://regnum.ru/', 'https://tass.ru/', 'https://www.rosbalt.ru/', 'https://www.interfax.ru/']\n",
    "info_links_args = ['https://ria.ru/?utm_source=vsesmi_online',\n",
    "                   'https://regnum.ru/?utm_source=vsesmi_online',\n",
    "                   'https://tass.ru/?utm_source=vsesmi_online',\n",
    "                   'https://www.rosbalt.ru/?utm_source=vsesmi_online']"
   ]
  },
  {
   "cell_type": "code",
   "execution_count": 31,
   "id": "df74cd6a",
   "metadata": {},
   "outputs": [],
   "source": [
    "internet_smi = ['https://www.rbc.ru/',\n",
    "               'https://lenta.ru/',\n",
    "               'https://www.vedomosti.ru/',\n",
    "               'https://www.kommersant.ru/',\n",
    "               'https://www.kp.ru/',\n",
    "               'https://www.gazeta.ru/',\n",
    "               'https://russian.rt.com/',\n",
    "              # 'https://www.newsru.com/',\n",
    "               'https://www.vesti.ru/',\n",
    "               'https://aif.ru/',\n",
    "               'https://www.pravda.ru/',\n",
    "               'https://svpressa.ru/',\n",
    "               'https://echo.msk.ru/',\n",
    "               'https://iz.ru/',\n",
    "               'https://tvrain.ru/',\n",
    "               'https://novayagazeta.ru/',\n",
    "               'https://vz.ru/',\n",
    "               'https://rg.ru/',\n",
    "               'https://www.ng.ru/',\n",
    "               'https://www.eg.ru/',\n",
    "               'https://life.ru/']\n",
    "\n",
    "internet_smi_args = ['https://www.rbc.ru/?utm_source=vsesmi_online',\n",
    "                   'https://lenta.ru/?utm_source=vsesmi_online',\n",
    "                   'https://www.vedomosti.ru/?utm_source=vsesmi_online',\n",
    "                   'https://www.kommersant.ru/?utm_source=vsesmi_online',\n",
    "                   'https://www.kp.ru/?utm_source=vsesmi_online',\n",
    "                   'https://www.gazeta.ru/',\n",
    "                   'https://russian.rt.com/?utm_source=vsesmi_online',\n",
    "                   'https://www.vesti.ru/?utm_source=vsesmi_online',\n",
    "                   'https://aif.ru/?utm_source=vsesmi_online',\n",
    "                   'https://www.pravda.ru/?utm_source=vsesmi_online',\n",
    "                   'https://svpressa.ru/?utm_source=vsesmi_online',\n",
    "                   'https://echo.msk.ru/?utm_source=vsesmi_online',\n",
    "                   'https://iz.ru/?utm_source=vsesmi_online',\n",
    "                   'https://tvrain.ru/?utm_source=vsesmi_online',\n",
    "                   'https://novayagazeta.ru/?utm_source=vsesmi_online',\n",
    "                   'https://vz.ru/?utm_source=vsesmi_online',\n",
    "                   'https://rg.ru/?utm_source=vsesmi_online',\n",
    "                   'https://www.ng.ru/?utm_source=vsesmi_online',\n",
    "                   'https://www.eg.ru/?utm_source=vsesmi_online',\n",
    "                   'https://life.ru/?utm_source=vsesmi_online']"
   ]
  },
  {
   "cell_type": "code",
   "execution_count": 12,
   "id": "12e48ebd",
   "metadata": {},
   "outputs": [],
   "source": [
    "albania_news = {'https://www.gazetaexpress.com/',\n",
    "               'https://top-channel.tv/',\n",
    "               'https://www.gazetatema.net/',\n",
    "               'https://shqiptarja.com/home',\n",
    "               'https://www.balkanweb.com/',\n",
    "               'http://www.panorama.com.al/',\n",
    "               'https://tvklan.al/',\n",
    "               'https://opinion.al/',\n",
    "               'https://albeu.com/',\n",
    "               'https://www.noa.al/',\n",
    "               'https://kohajone.com/'}"
   ]
  },
  {
   "cell_type": "code",
   "execution_count": 11,
   "id": "f05f04ff",
   "metadata": {},
   "outputs": [],
   "source": [
    "from lxml import html\n",
    "import requests\n",
    "from pprint import pprint\n",
    "\n",
    "headers = {'User Agent':'Mozilla/5.0 (Windows NT 10.0; Win64; x64) AppleWebKit/537.36 (KHTML, like Gecko) Chrome/109.0.0.0 Safari/537.36'}\n",
    "\n",
    "def response(urls, params):\n",
    "    for url in urls:\n",
    "        response = requests.get(url, headers=params)\n",
    "        print(f'ссылка: {url} - ответ: {response}')\n",
    "        \n"
   ]
  },
  {
   "cell_type": "code",
   "execution_count": 19,
   "id": "0e02c5ff",
   "metadata": {},
   "outputs": [
    {
     "name": "stdout",
     "output_type": "stream",
     "text": [
      "ссылка: https://news.mail.ru/ - ответ: <Response [400]>\n",
      "ссылка: https://dzen.ru/news/ - ответ: <Response [400]>\n",
      "ссылка: https://news.rambler.ru/ - ответ: <Response [400]>\n"
     ]
    }
   ],
   "source": [
    "response(agregators_links, headers)"
   ]
  },
  {
   "cell_type": "code",
   "execution_count": 20,
   "id": "a6be3ca8",
   "metadata": {},
   "outputs": [
    {
     "name": "stdout",
     "output_type": "stream",
     "text": [
      "ссылка: https://news.mail.ru/?utm_source=vsesmi_online - ответ: <Response [400]>\n",
      "ссылка: https://dzen.ru/news/?issue_tld=ru&utm_source=vsesmi_online - ответ: <Response [400]>\n",
      "ссылка: https://news.rambler.ru/?utm_source=vsesmi_online - ответ: <Response [400]>\n"
     ]
    }
   ],
   "source": [
    "response(agregators_links_arg, headers)"
   ]
  },
  {
   "cell_type": "code",
   "execution_count": 21,
   "id": "e2e3f60e",
   "metadata": {},
   "outputs": [
    {
     "name": "stdout",
     "output_type": "stream",
     "text": [
      "ссылка: https://ria.ru/ - ответ: <Response [200]>\n",
      "ссылка: https://regnum.ru/ - ответ: <Response [200]>\n",
      "ссылка: https://tass.ru/ - ответ: <Response [200]>\n",
      "ссылка: https://www.rosbalt.ru/ - ответ: <Response [400]>\n",
      "ссылка: https://www.interfax.ru/ - ответ: <Response [200]>\n"
     ]
    }
   ],
   "source": [
    "response(info_links, headers)"
   ]
  },
  {
   "cell_type": "code",
   "execution_count": 22,
   "id": "df0cc85c",
   "metadata": {},
   "outputs": [
    {
     "name": "stdout",
     "output_type": "stream",
     "text": [
      "ссылка: https://ria.ru/?utm_source=vsesmi_online - ответ: <Response [200]>\n",
      "ссылка: https://regnum.ru/?utm_source=vsesmi_online - ответ: <Response [200]>\n",
      "ссылка: https://tass.ru/?utm_source=vsesmi_online - ответ: <Response [200]>\n",
      "ссылка: https://www.rosbalt.ru/?utm_source=vsesmi_online - ответ: <Response [400]>\n"
     ]
    }
   ],
   "source": [
    "response(info_links_args, headers)"
   ]
  },
  {
   "cell_type": "code",
   "execution_count": 27,
   "id": "3e95f256",
   "metadata": {},
   "outputs": [
    {
     "name": "stdout",
     "output_type": "stream",
     "text": [
      "ссылка: https://www.gazetatema.net/ - ответ: <Response [403]>\n",
      "ссылка: http://www.panorama.com.al/ - ответ: <Response [200]>\n",
      "ссылка: https://shqiptarja.com/home - ответ: <Response [200]>\n",
      "ссылка: https://top-channel.tv/ - ответ: <Response [503]>\n",
      "ссылка: https://albeu.com/ - ответ: <Response [200]>\n",
      "ссылка: https://kohajone.com/ - ответ: <Response [200]>\n",
      "ссылка: https://www.noa.al/ - ответ: <Response [200]>\n",
      "ссылка: https://opinion.al/ - ответ: <Response [200]>\n",
      "ссылка: https://tvklan.al/ - ответ: <Response [200]>\n",
      "ссылка: https://www.balkanweb.com/ - ответ: <Response [200]>\n",
      "ссылка: https://www.gazetaexpress.com/ - ответ: <Response [200]>\n"
     ]
    }
   ],
   "source": [
    "response(albania_news, headers)"
   ]
  },
  {
   "cell_type": "code",
   "execution_count": 32,
   "id": "b0ff6727",
   "metadata": {},
   "outputs": [
    {
     "name": "stdout",
     "output_type": "stream",
     "text": [
      "ссылка: https://www.rbc.ru/ - ответ: <Response [200]>\n",
      "ссылка: https://lenta.ru/ - ответ: <Response [400]>\n",
      "ссылка: https://www.vedomosti.ru/ - ответ: <Response [400]>\n",
      "ссылка: https://www.kommersant.ru/ - ответ: <Response [200]>\n",
      "ссылка: https://www.kp.ru/ - ответ: <Response [200]>\n",
      "ссылка: https://www.gazeta.ru/ - ответ: <Response [400]>\n",
      "ссылка: https://russian.rt.com/ - ответ: <Response [200]>\n",
      "ссылка: https://www.vesti.ru/ - ответ: <Response [200]>\n",
      "ссылка: https://aif.ru/ - ответ: <Response [200]>\n",
      "ссылка: https://www.pravda.ru/ - ответ: <Response [200]>\n",
      "ссылка: https://svpressa.ru/ - ответ: <Response [200]>\n"
     ]
    },
    {
     "ename": "SSLError",
     "evalue": "HTTPSConnectionPool(host='echo.msk.ru', port=443): Max retries exceeded with url: / (Caused by SSLError(SSLError(1, '[SSL: WRONG_VERSION_NUMBER] wrong version number (_ssl.c:1125)')))",
     "output_type": "error",
     "traceback": [
      "\u001b[1;31m---------------------------------------------------------------------------\u001b[0m",
      "\u001b[1;31mSSLError\u001b[0m                                  Traceback (most recent call last)",
      "File \u001b[1;32mc:\\users\\777\\appdata\\local\\programs\\python\\python38\\lib\\site-packages\\urllib3\\connectionpool.py:699\u001b[0m, in \u001b[0;36mHTTPConnectionPool.urlopen\u001b[1;34m(self, method, url, body, headers, retries, redirect, assert_same_host, timeout, pool_timeout, release_conn, chunked, body_pos, **response_kw)\u001b[0m\n\u001b[0;32m    698\u001b[0m \u001b[38;5;66;03m# Make the request on the httplib connection object.\u001b[39;00m\n\u001b[1;32m--> 699\u001b[0m httplib_response \u001b[38;5;241m=\u001b[39m \u001b[38;5;28;43mself\u001b[39;49m\u001b[38;5;241;43m.\u001b[39;49m\u001b[43m_make_request\u001b[49m\u001b[43m(\u001b[49m\n\u001b[0;32m    700\u001b[0m \u001b[43m    \u001b[49m\u001b[43mconn\u001b[49m\u001b[43m,\u001b[49m\n\u001b[0;32m    701\u001b[0m \u001b[43m    \u001b[49m\u001b[43mmethod\u001b[49m\u001b[43m,\u001b[49m\n\u001b[0;32m    702\u001b[0m \u001b[43m    \u001b[49m\u001b[43murl\u001b[49m\u001b[43m,\u001b[49m\n\u001b[0;32m    703\u001b[0m \u001b[43m    \u001b[49m\u001b[43mtimeout\u001b[49m\u001b[38;5;241;43m=\u001b[39;49m\u001b[43mtimeout_obj\u001b[49m\u001b[43m,\u001b[49m\n\u001b[0;32m    704\u001b[0m \u001b[43m    \u001b[49m\u001b[43mbody\u001b[49m\u001b[38;5;241;43m=\u001b[39;49m\u001b[43mbody\u001b[49m\u001b[43m,\u001b[49m\n\u001b[0;32m    705\u001b[0m \u001b[43m    \u001b[49m\u001b[43mheaders\u001b[49m\u001b[38;5;241;43m=\u001b[39;49m\u001b[43mheaders\u001b[49m\u001b[43m,\u001b[49m\n\u001b[0;32m    706\u001b[0m \u001b[43m    \u001b[49m\u001b[43mchunked\u001b[49m\u001b[38;5;241;43m=\u001b[39;49m\u001b[43mchunked\u001b[49m\u001b[43m,\u001b[49m\n\u001b[0;32m    707\u001b[0m \u001b[43m\u001b[49m\u001b[43m)\u001b[49m\n\u001b[0;32m    709\u001b[0m \u001b[38;5;66;03m# If we're going to release the connection in ``finally:``, then\u001b[39;00m\n\u001b[0;32m    710\u001b[0m \u001b[38;5;66;03m# the response doesn't need to know about the connection. Otherwise\u001b[39;00m\n\u001b[0;32m    711\u001b[0m \u001b[38;5;66;03m# it will also try to release it and we'll have a double-release\u001b[39;00m\n\u001b[0;32m    712\u001b[0m \u001b[38;5;66;03m# mess.\u001b[39;00m\n",
      "File \u001b[1;32mc:\\users\\777\\appdata\\local\\programs\\python\\python38\\lib\\site-packages\\urllib3\\connectionpool.py:382\u001b[0m, in \u001b[0;36mHTTPConnectionPool._make_request\u001b[1;34m(self, conn, method, url, timeout, chunked, **httplib_request_kw)\u001b[0m\n\u001b[0;32m    381\u001b[0m \u001b[38;5;28;01mtry\u001b[39;00m:\n\u001b[1;32m--> 382\u001b[0m     \u001b[38;5;28;43mself\u001b[39;49m\u001b[38;5;241;43m.\u001b[39;49m\u001b[43m_validate_conn\u001b[49m\u001b[43m(\u001b[49m\u001b[43mconn\u001b[49m\u001b[43m)\u001b[49m\n\u001b[0;32m    383\u001b[0m \u001b[38;5;28;01mexcept\u001b[39;00m (SocketTimeout, BaseSSLError) \u001b[38;5;28;01mas\u001b[39;00m e:\n\u001b[0;32m    384\u001b[0m     \u001b[38;5;66;03m# Py2 raises this as a BaseSSLError, Py3 raises it as socket timeout.\u001b[39;00m\n",
      "File \u001b[1;32mc:\\users\\777\\appdata\\local\\programs\\python\\python38\\lib\\site-packages\\urllib3\\connectionpool.py:1010\u001b[0m, in \u001b[0;36mHTTPSConnectionPool._validate_conn\u001b[1;34m(self, conn)\u001b[0m\n\u001b[0;32m   1009\u001b[0m \u001b[38;5;28;01mif\u001b[39;00m \u001b[38;5;129;01mnot\u001b[39;00m \u001b[38;5;28mgetattr\u001b[39m(conn, \u001b[38;5;124m\"\u001b[39m\u001b[38;5;124msock\u001b[39m\u001b[38;5;124m\"\u001b[39m, \u001b[38;5;28;01mNone\u001b[39;00m):  \u001b[38;5;66;03m# AppEngine might not have  `.sock`\u001b[39;00m\n\u001b[1;32m-> 1010\u001b[0m     \u001b[43mconn\u001b[49m\u001b[38;5;241;43m.\u001b[39;49m\u001b[43mconnect\u001b[49m\u001b[43m(\u001b[49m\u001b[43m)\u001b[49m\n\u001b[0;32m   1012\u001b[0m \u001b[38;5;28;01mif\u001b[39;00m \u001b[38;5;129;01mnot\u001b[39;00m conn\u001b[38;5;241m.\u001b[39mis_verified:\n",
      "File \u001b[1;32mc:\\users\\777\\appdata\\local\\programs\\python\\python38\\lib\\site-packages\\urllib3\\connection.py:411\u001b[0m, in \u001b[0;36mHTTPSConnection.connect\u001b[1;34m(self)\u001b[0m\n\u001b[0;32m    409\u001b[0m     context\u001b[38;5;241m.\u001b[39mload_default_certs()\n\u001b[1;32m--> 411\u001b[0m \u001b[38;5;28mself\u001b[39m\u001b[38;5;241m.\u001b[39msock \u001b[38;5;241m=\u001b[39m \u001b[43mssl_wrap_socket\u001b[49m\u001b[43m(\u001b[49m\n\u001b[0;32m    412\u001b[0m \u001b[43m    \u001b[49m\u001b[43msock\u001b[49m\u001b[38;5;241;43m=\u001b[39;49m\u001b[43mconn\u001b[49m\u001b[43m,\u001b[49m\n\u001b[0;32m    413\u001b[0m \u001b[43m    \u001b[49m\u001b[43mkeyfile\u001b[49m\u001b[38;5;241;43m=\u001b[39;49m\u001b[38;5;28;43mself\u001b[39;49m\u001b[38;5;241;43m.\u001b[39;49m\u001b[43mkey_file\u001b[49m\u001b[43m,\u001b[49m\n\u001b[0;32m    414\u001b[0m \u001b[43m    \u001b[49m\u001b[43mcertfile\u001b[49m\u001b[38;5;241;43m=\u001b[39;49m\u001b[38;5;28;43mself\u001b[39;49m\u001b[38;5;241;43m.\u001b[39;49m\u001b[43mcert_file\u001b[49m\u001b[43m,\u001b[49m\n\u001b[0;32m    415\u001b[0m \u001b[43m    \u001b[49m\u001b[43mkey_password\u001b[49m\u001b[38;5;241;43m=\u001b[39;49m\u001b[38;5;28;43mself\u001b[39;49m\u001b[38;5;241;43m.\u001b[39;49m\u001b[43mkey_password\u001b[49m\u001b[43m,\u001b[49m\n\u001b[0;32m    416\u001b[0m \u001b[43m    \u001b[49m\u001b[43mca_certs\u001b[49m\u001b[38;5;241;43m=\u001b[39;49m\u001b[38;5;28;43mself\u001b[39;49m\u001b[38;5;241;43m.\u001b[39;49m\u001b[43mca_certs\u001b[49m\u001b[43m,\u001b[49m\n\u001b[0;32m    417\u001b[0m \u001b[43m    \u001b[49m\u001b[43mca_cert_dir\u001b[49m\u001b[38;5;241;43m=\u001b[39;49m\u001b[38;5;28;43mself\u001b[39;49m\u001b[38;5;241;43m.\u001b[39;49m\u001b[43mca_cert_dir\u001b[49m\u001b[43m,\u001b[49m\n\u001b[0;32m    418\u001b[0m \u001b[43m    \u001b[49m\u001b[43mca_cert_data\u001b[49m\u001b[38;5;241;43m=\u001b[39;49m\u001b[38;5;28;43mself\u001b[39;49m\u001b[38;5;241;43m.\u001b[39;49m\u001b[43mca_cert_data\u001b[49m\u001b[43m,\u001b[49m\n\u001b[0;32m    419\u001b[0m \u001b[43m    \u001b[49m\u001b[43mserver_hostname\u001b[49m\u001b[38;5;241;43m=\u001b[39;49m\u001b[43mserver_hostname\u001b[49m\u001b[43m,\u001b[49m\n\u001b[0;32m    420\u001b[0m \u001b[43m    \u001b[49m\u001b[43mssl_context\u001b[49m\u001b[38;5;241;43m=\u001b[39;49m\u001b[43mcontext\u001b[49m\u001b[43m,\u001b[49m\n\u001b[0;32m    421\u001b[0m \u001b[43m    \u001b[49m\u001b[43mtls_in_tls\u001b[49m\u001b[38;5;241;43m=\u001b[39;49m\u001b[43mtls_in_tls\u001b[49m\u001b[43m,\u001b[49m\n\u001b[0;32m    422\u001b[0m \u001b[43m\u001b[49m\u001b[43m)\u001b[49m\n\u001b[0;32m    424\u001b[0m \u001b[38;5;66;03m# If we're using all defaults and the connection\u001b[39;00m\n\u001b[0;32m    425\u001b[0m \u001b[38;5;66;03m# is TLSv1 or TLSv1.1 we throw a DeprecationWarning\u001b[39;00m\n\u001b[0;32m    426\u001b[0m \u001b[38;5;66;03m# for the host.\u001b[39;00m\n",
      "File \u001b[1;32mc:\\users\\777\\appdata\\local\\programs\\python\\python38\\lib\\site-packages\\urllib3\\util\\ssl_.py:449\u001b[0m, in \u001b[0;36mssl_wrap_socket\u001b[1;34m(sock, keyfile, certfile, cert_reqs, ca_certs, server_hostname, ssl_version, ciphers, ssl_context, ca_cert_dir, key_password, ca_cert_data, tls_in_tls)\u001b[0m\n\u001b[0;32m    448\u001b[0m \u001b[38;5;28;01mif\u001b[39;00m send_sni:\n\u001b[1;32m--> 449\u001b[0m     ssl_sock \u001b[38;5;241m=\u001b[39m \u001b[43m_ssl_wrap_socket_impl\u001b[49m\u001b[43m(\u001b[49m\n\u001b[0;32m    450\u001b[0m \u001b[43m        \u001b[49m\u001b[43msock\u001b[49m\u001b[43m,\u001b[49m\u001b[43m \u001b[49m\u001b[43mcontext\u001b[49m\u001b[43m,\u001b[49m\u001b[43m \u001b[49m\u001b[43mtls_in_tls\u001b[49m\u001b[43m,\u001b[49m\u001b[43m \u001b[49m\u001b[43mserver_hostname\u001b[49m\u001b[38;5;241;43m=\u001b[39;49m\u001b[43mserver_hostname\u001b[49m\n\u001b[0;32m    451\u001b[0m \u001b[43m    \u001b[49m\u001b[43m)\u001b[49m\n\u001b[0;32m    452\u001b[0m \u001b[38;5;28;01melse\u001b[39;00m:\n",
      "File \u001b[1;32mc:\\users\\777\\appdata\\local\\programs\\python\\python38\\lib\\site-packages\\urllib3\\util\\ssl_.py:493\u001b[0m, in \u001b[0;36m_ssl_wrap_socket_impl\u001b[1;34m(sock, ssl_context, tls_in_tls, server_hostname)\u001b[0m\n\u001b[0;32m    492\u001b[0m \u001b[38;5;28;01mif\u001b[39;00m server_hostname:\n\u001b[1;32m--> 493\u001b[0m     \u001b[38;5;28;01mreturn\u001b[39;00m \u001b[43mssl_context\u001b[49m\u001b[38;5;241;43m.\u001b[39;49m\u001b[43mwrap_socket\u001b[49m\u001b[43m(\u001b[49m\u001b[43msock\u001b[49m\u001b[43m,\u001b[49m\u001b[43m \u001b[49m\u001b[43mserver_hostname\u001b[49m\u001b[38;5;241;43m=\u001b[39;49m\u001b[43mserver_hostname\u001b[49m\u001b[43m)\u001b[49m\n\u001b[0;32m    494\u001b[0m \u001b[38;5;28;01melse\u001b[39;00m:\n",
      "File \u001b[1;32mc:\\users\\777\\appdata\\local\\programs\\python\\python38\\lib\\ssl.py:500\u001b[0m, in \u001b[0;36mSSLContext.wrap_socket\u001b[1;34m(self, sock, server_side, do_handshake_on_connect, suppress_ragged_eofs, server_hostname, session)\u001b[0m\n\u001b[0;32m    494\u001b[0m \u001b[38;5;28;01mdef\u001b[39;00m \u001b[38;5;21mwrap_socket\u001b[39m(\u001b[38;5;28mself\u001b[39m, sock, server_side\u001b[38;5;241m=\u001b[39m\u001b[38;5;28;01mFalse\u001b[39;00m,\n\u001b[0;32m    495\u001b[0m                 do_handshake_on_connect\u001b[38;5;241m=\u001b[39m\u001b[38;5;28;01mTrue\u001b[39;00m,\n\u001b[0;32m    496\u001b[0m                 suppress_ragged_eofs\u001b[38;5;241m=\u001b[39m\u001b[38;5;28;01mTrue\u001b[39;00m,\n\u001b[0;32m    497\u001b[0m                 server_hostname\u001b[38;5;241m=\u001b[39m\u001b[38;5;28;01mNone\u001b[39;00m, session\u001b[38;5;241m=\u001b[39m\u001b[38;5;28;01mNone\u001b[39;00m):\n\u001b[0;32m    498\u001b[0m     \u001b[38;5;66;03m# SSLSocket class handles server_hostname encoding before it calls\u001b[39;00m\n\u001b[0;32m    499\u001b[0m     \u001b[38;5;66;03m# ctx._wrap_socket()\u001b[39;00m\n\u001b[1;32m--> 500\u001b[0m     \u001b[38;5;28;01mreturn\u001b[39;00m \u001b[38;5;28;43mself\u001b[39;49m\u001b[38;5;241;43m.\u001b[39;49m\u001b[43msslsocket_class\u001b[49m\u001b[38;5;241;43m.\u001b[39;49m\u001b[43m_create\u001b[49m\u001b[43m(\u001b[49m\n\u001b[0;32m    501\u001b[0m \u001b[43m        \u001b[49m\u001b[43msock\u001b[49m\u001b[38;5;241;43m=\u001b[39;49m\u001b[43msock\u001b[49m\u001b[43m,\u001b[49m\n\u001b[0;32m    502\u001b[0m \u001b[43m        \u001b[49m\u001b[43mserver_side\u001b[49m\u001b[38;5;241;43m=\u001b[39;49m\u001b[43mserver_side\u001b[49m\u001b[43m,\u001b[49m\n\u001b[0;32m    503\u001b[0m \u001b[43m        \u001b[49m\u001b[43mdo_handshake_on_connect\u001b[49m\u001b[38;5;241;43m=\u001b[39;49m\u001b[43mdo_handshake_on_connect\u001b[49m\u001b[43m,\u001b[49m\n\u001b[0;32m    504\u001b[0m \u001b[43m        \u001b[49m\u001b[43msuppress_ragged_eofs\u001b[49m\u001b[38;5;241;43m=\u001b[39;49m\u001b[43msuppress_ragged_eofs\u001b[49m\u001b[43m,\u001b[49m\n\u001b[0;32m    505\u001b[0m \u001b[43m        \u001b[49m\u001b[43mserver_hostname\u001b[49m\u001b[38;5;241;43m=\u001b[39;49m\u001b[43mserver_hostname\u001b[49m\u001b[43m,\u001b[49m\n\u001b[0;32m    506\u001b[0m \u001b[43m        \u001b[49m\u001b[43mcontext\u001b[49m\u001b[38;5;241;43m=\u001b[39;49m\u001b[38;5;28;43mself\u001b[39;49m\u001b[43m,\u001b[49m\n\u001b[0;32m    507\u001b[0m \u001b[43m        \u001b[49m\u001b[43msession\u001b[49m\u001b[38;5;241;43m=\u001b[39;49m\u001b[43msession\u001b[49m\n\u001b[0;32m    508\u001b[0m \u001b[43m    \u001b[49m\u001b[43m)\u001b[49m\n",
      "File \u001b[1;32mc:\\users\\777\\appdata\\local\\programs\\python\\python38\\lib\\ssl.py:1040\u001b[0m, in \u001b[0;36mSSLSocket._create\u001b[1;34m(cls, sock, server_side, do_handshake_on_connect, suppress_ragged_eofs, server_hostname, context, session)\u001b[0m\n\u001b[0;32m   1039\u001b[0m             \u001b[38;5;28;01mraise\u001b[39;00m \u001b[38;5;167;01mValueError\u001b[39;00m(\u001b[38;5;124m\"\u001b[39m\u001b[38;5;124mdo_handshake_on_connect should not be specified for non-blocking sockets\u001b[39m\u001b[38;5;124m\"\u001b[39m)\n\u001b[1;32m-> 1040\u001b[0m         \u001b[38;5;28;43mself\u001b[39;49m\u001b[38;5;241;43m.\u001b[39;49m\u001b[43mdo_handshake\u001b[49m\u001b[43m(\u001b[49m\u001b[43m)\u001b[49m\n\u001b[0;32m   1041\u001b[0m \u001b[38;5;28;01mexcept\u001b[39;00m (\u001b[38;5;167;01mOSError\u001b[39;00m, \u001b[38;5;167;01mValueError\u001b[39;00m):\n",
      "File \u001b[1;32mc:\\users\\777\\appdata\\local\\programs\\python\\python38\\lib\\ssl.py:1309\u001b[0m, in \u001b[0;36mSSLSocket.do_handshake\u001b[1;34m(self, block)\u001b[0m\n\u001b[0;32m   1308\u001b[0m         \u001b[38;5;28mself\u001b[39m\u001b[38;5;241m.\u001b[39msettimeout(\u001b[38;5;28;01mNone\u001b[39;00m)\n\u001b[1;32m-> 1309\u001b[0m     \u001b[38;5;28;43mself\u001b[39;49m\u001b[38;5;241;43m.\u001b[39;49m\u001b[43m_sslobj\u001b[49m\u001b[38;5;241;43m.\u001b[39;49m\u001b[43mdo_handshake\u001b[49m\u001b[43m(\u001b[49m\u001b[43m)\u001b[49m\n\u001b[0;32m   1310\u001b[0m \u001b[38;5;28;01mfinally\u001b[39;00m:\n",
      "\u001b[1;31mSSLError\u001b[0m: [SSL: WRONG_VERSION_NUMBER] wrong version number (_ssl.c:1125)",
      "\nDuring handling of the above exception, another exception occurred:\n",
      "\u001b[1;31mMaxRetryError\u001b[0m                             Traceback (most recent call last)",
      "File \u001b[1;32mc:\\users\\777\\appdata\\local\\programs\\python\\python38\\lib\\site-packages\\requests\\adapters.py:439\u001b[0m, in \u001b[0;36mHTTPAdapter.send\u001b[1;34m(self, request, stream, timeout, verify, cert, proxies)\u001b[0m\n\u001b[0;32m    438\u001b[0m \u001b[38;5;28;01mif\u001b[39;00m \u001b[38;5;129;01mnot\u001b[39;00m chunked:\n\u001b[1;32m--> 439\u001b[0m     resp \u001b[38;5;241m=\u001b[39m \u001b[43mconn\u001b[49m\u001b[38;5;241;43m.\u001b[39;49m\u001b[43murlopen\u001b[49m\u001b[43m(\u001b[49m\n\u001b[0;32m    440\u001b[0m \u001b[43m        \u001b[49m\u001b[43mmethod\u001b[49m\u001b[38;5;241;43m=\u001b[39;49m\u001b[43mrequest\u001b[49m\u001b[38;5;241;43m.\u001b[39;49m\u001b[43mmethod\u001b[49m\u001b[43m,\u001b[49m\n\u001b[0;32m    441\u001b[0m \u001b[43m        \u001b[49m\u001b[43murl\u001b[49m\u001b[38;5;241;43m=\u001b[39;49m\u001b[43murl\u001b[49m\u001b[43m,\u001b[49m\n\u001b[0;32m    442\u001b[0m \u001b[43m        \u001b[49m\u001b[43mbody\u001b[49m\u001b[38;5;241;43m=\u001b[39;49m\u001b[43mrequest\u001b[49m\u001b[38;5;241;43m.\u001b[39;49m\u001b[43mbody\u001b[49m\u001b[43m,\u001b[49m\n\u001b[0;32m    443\u001b[0m \u001b[43m        \u001b[49m\u001b[43mheaders\u001b[49m\u001b[38;5;241;43m=\u001b[39;49m\u001b[43mrequest\u001b[49m\u001b[38;5;241;43m.\u001b[39;49m\u001b[43mheaders\u001b[49m\u001b[43m,\u001b[49m\n\u001b[0;32m    444\u001b[0m \u001b[43m        \u001b[49m\u001b[43mredirect\u001b[49m\u001b[38;5;241;43m=\u001b[39;49m\u001b[38;5;28;43;01mFalse\u001b[39;49;00m\u001b[43m,\u001b[49m\n\u001b[0;32m    445\u001b[0m \u001b[43m        \u001b[49m\u001b[43massert_same_host\u001b[49m\u001b[38;5;241;43m=\u001b[39;49m\u001b[38;5;28;43;01mFalse\u001b[39;49;00m\u001b[43m,\u001b[49m\n\u001b[0;32m    446\u001b[0m \u001b[43m        \u001b[49m\u001b[43mpreload_content\u001b[49m\u001b[38;5;241;43m=\u001b[39;49m\u001b[38;5;28;43;01mFalse\u001b[39;49;00m\u001b[43m,\u001b[49m\n\u001b[0;32m    447\u001b[0m \u001b[43m        \u001b[49m\u001b[43mdecode_content\u001b[49m\u001b[38;5;241;43m=\u001b[39;49m\u001b[38;5;28;43;01mFalse\u001b[39;49;00m\u001b[43m,\u001b[49m\n\u001b[0;32m    448\u001b[0m \u001b[43m        \u001b[49m\u001b[43mretries\u001b[49m\u001b[38;5;241;43m=\u001b[39;49m\u001b[38;5;28;43mself\u001b[39;49m\u001b[38;5;241;43m.\u001b[39;49m\u001b[43mmax_retries\u001b[49m\u001b[43m,\u001b[49m\n\u001b[0;32m    449\u001b[0m \u001b[43m        \u001b[49m\u001b[43mtimeout\u001b[49m\u001b[38;5;241;43m=\u001b[39;49m\u001b[43mtimeout\u001b[49m\n\u001b[0;32m    450\u001b[0m \u001b[43m    \u001b[49m\u001b[43m)\u001b[49m\n\u001b[0;32m    452\u001b[0m \u001b[38;5;66;03m# Send the request.\u001b[39;00m\n\u001b[0;32m    453\u001b[0m \u001b[38;5;28;01melse\u001b[39;00m:\n",
      "File \u001b[1;32mc:\\users\\777\\appdata\\local\\programs\\python\\python38\\lib\\site-packages\\urllib3\\connectionpool.py:755\u001b[0m, in \u001b[0;36mHTTPConnectionPool.urlopen\u001b[1;34m(self, method, url, body, headers, retries, redirect, assert_same_host, timeout, pool_timeout, release_conn, chunked, body_pos, **response_kw)\u001b[0m\n\u001b[0;32m    753\u001b[0m     e \u001b[38;5;241m=\u001b[39m ProtocolError(\u001b[38;5;124m\"\u001b[39m\u001b[38;5;124mConnection aborted.\u001b[39m\u001b[38;5;124m\"\u001b[39m, e)\n\u001b[1;32m--> 755\u001b[0m retries \u001b[38;5;241m=\u001b[39m \u001b[43mretries\u001b[49m\u001b[38;5;241;43m.\u001b[39;49m\u001b[43mincrement\u001b[49m\u001b[43m(\u001b[49m\n\u001b[0;32m    756\u001b[0m \u001b[43m    \u001b[49m\u001b[43mmethod\u001b[49m\u001b[43m,\u001b[49m\u001b[43m \u001b[49m\u001b[43murl\u001b[49m\u001b[43m,\u001b[49m\u001b[43m \u001b[49m\u001b[43merror\u001b[49m\u001b[38;5;241;43m=\u001b[39;49m\u001b[43me\u001b[49m\u001b[43m,\u001b[49m\u001b[43m \u001b[49m\u001b[43m_pool\u001b[49m\u001b[38;5;241;43m=\u001b[39;49m\u001b[38;5;28;43mself\u001b[39;49m\u001b[43m,\u001b[49m\u001b[43m \u001b[49m\u001b[43m_stacktrace\u001b[49m\u001b[38;5;241;43m=\u001b[39;49m\u001b[43msys\u001b[49m\u001b[38;5;241;43m.\u001b[39;49m\u001b[43mexc_info\u001b[49m\u001b[43m(\u001b[49m\u001b[43m)\u001b[49m\u001b[43m[\u001b[49m\u001b[38;5;241;43m2\u001b[39;49m\u001b[43m]\u001b[49m\n\u001b[0;32m    757\u001b[0m \u001b[43m\u001b[49m\u001b[43m)\u001b[49m\n\u001b[0;32m    758\u001b[0m retries\u001b[38;5;241m.\u001b[39msleep()\n",
      "File \u001b[1;32mc:\\users\\777\\appdata\\local\\programs\\python\\python38\\lib\\site-packages\\urllib3\\util\\retry.py:574\u001b[0m, in \u001b[0;36mRetry.increment\u001b[1;34m(self, method, url, response, error, _pool, _stacktrace)\u001b[0m\n\u001b[0;32m    573\u001b[0m \u001b[38;5;28;01mif\u001b[39;00m new_retry\u001b[38;5;241m.\u001b[39mis_exhausted():\n\u001b[1;32m--> 574\u001b[0m     \u001b[38;5;28;01mraise\u001b[39;00m MaxRetryError(_pool, url, error \u001b[38;5;129;01mor\u001b[39;00m ResponseError(cause))\n\u001b[0;32m    576\u001b[0m log\u001b[38;5;241m.\u001b[39mdebug(\u001b[38;5;124m\"\u001b[39m\u001b[38;5;124mIncremented Retry for (url=\u001b[39m\u001b[38;5;124m'\u001b[39m\u001b[38;5;132;01m%s\u001b[39;00m\u001b[38;5;124m'\u001b[39m\u001b[38;5;124m): \u001b[39m\u001b[38;5;132;01m%r\u001b[39;00m\u001b[38;5;124m\"\u001b[39m, url, new_retry)\n",
      "\u001b[1;31mMaxRetryError\u001b[0m: HTTPSConnectionPool(host='echo.msk.ru', port=443): Max retries exceeded with url: / (Caused by SSLError(SSLError(1, '[SSL: WRONG_VERSION_NUMBER] wrong version number (_ssl.c:1125)')))",
      "\nDuring handling of the above exception, another exception occurred:\n",
      "\u001b[1;31mSSLError\u001b[0m                                  Traceback (most recent call last)",
      "Input \u001b[1;32mIn [32]\u001b[0m, in \u001b[0;36m<cell line: 1>\u001b[1;34m()\u001b[0m\n\u001b[1;32m----> 1\u001b[0m response(internet_smi, headers)\n",
      "Input \u001b[1;32mIn [11]\u001b[0m, in \u001b[0;36mresponse\u001b[1;34m(urls, params)\u001b[0m\n\u001b[0;32m      7\u001b[0m \u001b[38;5;28;01mdef\u001b[39;00m \u001b[38;5;21mresponse\u001b[39m(urls, params):\n\u001b[0;32m      8\u001b[0m     \u001b[38;5;28;01mfor\u001b[39;00m url \u001b[38;5;129;01min\u001b[39;00m urls:\n\u001b[1;32m----> 9\u001b[0m         response \u001b[38;5;241m=\u001b[39m \u001b[43mrequests\u001b[49m\u001b[38;5;241;43m.\u001b[39;49m\u001b[43mget\u001b[49m\u001b[43m(\u001b[49m\u001b[43murl\u001b[49m\u001b[43m,\u001b[49m\u001b[43m \u001b[49m\u001b[43mheaders\u001b[49m\u001b[38;5;241;43m=\u001b[39;49m\u001b[43mparams\u001b[49m\u001b[43m)\u001b[49m\n\u001b[0;32m     10\u001b[0m         \u001b[38;5;28mprint\u001b[39m(\u001b[38;5;124mf\u001b[39m\u001b[38;5;124m'\u001b[39m\u001b[38;5;124mссылка: \u001b[39m\u001b[38;5;132;01m{\u001b[39;00murl\u001b[38;5;132;01m}\u001b[39;00m\u001b[38;5;124m - ответ: \u001b[39m\u001b[38;5;132;01m{\u001b[39;00mresponse\u001b[38;5;132;01m}\u001b[39;00m\u001b[38;5;124m'\u001b[39m)\n",
      "File \u001b[1;32mc:\\users\\777\\appdata\\local\\programs\\python\\python38\\lib\\site-packages\\requests\\api.py:76\u001b[0m, in \u001b[0;36mget\u001b[1;34m(url, params, **kwargs)\u001b[0m\n\u001b[0;32m     65\u001b[0m \u001b[38;5;124mr\u001b[39m\u001b[38;5;124;03m\"\"\"Sends a GET request.\u001b[39;00m\n\u001b[0;32m     66\u001b[0m \n\u001b[0;32m     67\u001b[0m \u001b[38;5;124;03m:param url: URL for the new :class:`Request` object.\u001b[39;00m\n\u001b[1;32m   (...)\u001b[0m\n\u001b[0;32m     72\u001b[0m \u001b[38;5;124;03m:rtype: requests.Response\u001b[39;00m\n\u001b[0;32m     73\u001b[0m \u001b[38;5;124;03m\"\"\"\u001b[39;00m\n\u001b[0;32m     75\u001b[0m kwargs\u001b[38;5;241m.\u001b[39msetdefault(\u001b[38;5;124m'\u001b[39m\u001b[38;5;124mallow_redirects\u001b[39m\u001b[38;5;124m'\u001b[39m, \u001b[38;5;28;01mTrue\u001b[39;00m)\n\u001b[1;32m---> 76\u001b[0m \u001b[38;5;28;01mreturn\u001b[39;00m \u001b[43mrequest\u001b[49m\u001b[43m(\u001b[49m\u001b[38;5;124;43m'\u001b[39;49m\u001b[38;5;124;43mget\u001b[39;49m\u001b[38;5;124;43m'\u001b[39;49m\u001b[43m,\u001b[49m\u001b[43m \u001b[49m\u001b[43murl\u001b[49m\u001b[43m,\u001b[49m\u001b[43m \u001b[49m\u001b[43mparams\u001b[49m\u001b[38;5;241;43m=\u001b[39;49m\u001b[43mparams\u001b[49m\u001b[43m,\u001b[49m\u001b[43m \u001b[49m\u001b[38;5;241;43m*\u001b[39;49m\u001b[38;5;241;43m*\u001b[39;49m\u001b[43mkwargs\u001b[49m\u001b[43m)\u001b[49m\n",
      "File \u001b[1;32mc:\\users\\777\\appdata\\local\\programs\\python\\python38\\lib\\site-packages\\requests\\api.py:61\u001b[0m, in \u001b[0;36mrequest\u001b[1;34m(method, url, **kwargs)\u001b[0m\n\u001b[0;32m     57\u001b[0m \u001b[38;5;66;03m# By using the 'with' statement we are sure the session is closed, thus we\u001b[39;00m\n\u001b[0;32m     58\u001b[0m \u001b[38;5;66;03m# avoid leaving sockets open which can trigger a ResourceWarning in some\u001b[39;00m\n\u001b[0;32m     59\u001b[0m \u001b[38;5;66;03m# cases, and look like a memory leak in others.\u001b[39;00m\n\u001b[0;32m     60\u001b[0m \u001b[38;5;28;01mwith\u001b[39;00m sessions\u001b[38;5;241m.\u001b[39mSession() \u001b[38;5;28;01mas\u001b[39;00m session:\n\u001b[1;32m---> 61\u001b[0m     \u001b[38;5;28;01mreturn\u001b[39;00m \u001b[43msession\u001b[49m\u001b[38;5;241;43m.\u001b[39;49m\u001b[43mrequest\u001b[49m\u001b[43m(\u001b[49m\u001b[43mmethod\u001b[49m\u001b[38;5;241;43m=\u001b[39;49m\u001b[43mmethod\u001b[49m\u001b[43m,\u001b[49m\u001b[43m \u001b[49m\u001b[43murl\u001b[49m\u001b[38;5;241;43m=\u001b[39;49m\u001b[43murl\u001b[49m\u001b[43m,\u001b[49m\u001b[43m \u001b[49m\u001b[38;5;241;43m*\u001b[39;49m\u001b[38;5;241;43m*\u001b[39;49m\u001b[43mkwargs\u001b[49m\u001b[43m)\u001b[49m\n",
      "File \u001b[1;32mc:\\users\\777\\appdata\\local\\programs\\python\\python38\\lib\\site-packages\\requests\\sessions.py:542\u001b[0m, in \u001b[0;36mSession.request\u001b[1;34m(self, method, url, params, data, headers, cookies, files, auth, timeout, allow_redirects, proxies, hooks, stream, verify, cert, json)\u001b[0m\n\u001b[0;32m    537\u001b[0m send_kwargs \u001b[38;5;241m=\u001b[39m {\n\u001b[0;32m    538\u001b[0m     \u001b[38;5;124m'\u001b[39m\u001b[38;5;124mtimeout\u001b[39m\u001b[38;5;124m'\u001b[39m: timeout,\n\u001b[0;32m    539\u001b[0m     \u001b[38;5;124m'\u001b[39m\u001b[38;5;124mallow_redirects\u001b[39m\u001b[38;5;124m'\u001b[39m: allow_redirects,\n\u001b[0;32m    540\u001b[0m }\n\u001b[0;32m    541\u001b[0m send_kwargs\u001b[38;5;241m.\u001b[39mupdate(settings)\n\u001b[1;32m--> 542\u001b[0m resp \u001b[38;5;241m=\u001b[39m \u001b[38;5;28;43mself\u001b[39;49m\u001b[38;5;241;43m.\u001b[39;49m\u001b[43msend\u001b[49m\u001b[43m(\u001b[49m\u001b[43mprep\u001b[49m\u001b[43m,\u001b[49m\u001b[43m \u001b[49m\u001b[38;5;241;43m*\u001b[39;49m\u001b[38;5;241;43m*\u001b[39;49m\u001b[43msend_kwargs\u001b[49m\u001b[43m)\u001b[49m\n\u001b[0;32m    544\u001b[0m \u001b[38;5;28;01mreturn\u001b[39;00m resp\n",
      "File \u001b[1;32mc:\\users\\777\\appdata\\local\\programs\\python\\python38\\lib\\site-packages\\requests\\sessions.py:655\u001b[0m, in \u001b[0;36mSession.send\u001b[1;34m(self, request, **kwargs)\u001b[0m\n\u001b[0;32m    652\u001b[0m start \u001b[38;5;241m=\u001b[39m preferred_clock()\n\u001b[0;32m    654\u001b[0m \u001b[38;5;66;03m# Send the request\u001b[39;00m\n\u001b[1;32m--> 655\u001b[0m r \u001b[38;5;241m=\u001b[39m \u001b[43madapter\u001b[49m\u001b[38;5;241;43m.\u001b[39;49m\u001b[43msend\u001b[49m\u001b[43m(\u001b[49m\u001b[43mrequest\u001b[49m\u001b[43m,\u001b[49m\u001b[43m \u001b[49m\u001b[38;5;241;43m*\u001b[39;49m\u001b[38;5;241;43m*\u001b[39;49m\u001b[43mkwargs\u001b[49m\u001b[43m)\u001b[49m\n\u001b[0;32m    657\u001b[0m \u001b[38;5;66;03m# Total elapsed time of the request (approximately)\u001b[39;00m\n\u001b[0;32m    658\u001b[0m elapsed \u001b[38;5;241m=\u001b[39m preferred_clock() \u001b[38;5;241m-\u001b[39m start\n",
      "File \u001b[1;32mc:\\users\\777\\appdata\\local\\programs\\python\\python38\\lib\\site-packages\\requests\\adapters.py:514\u001b[0m, in \u001b[0;36mHTTPAdapter.send\u001b[1;34m(self, request, stream, timeout, verify, cert, proxies)\u001b[0m\n\u001b[0;32m    510\u001b[0m         \u001b[38;5;28;01mraise\u001b[39;00m ProxyError(e, request\u001b[38;5;241m=\u001b[39mrequest)\n\u001b[0;32m    512\u001b[0m     \u001b[38;5;28;01mif\u001b[39;00m \u001b[38;5;28misinstance\u001b[39m(e\u001b[38;5;241m.\u001b[39mreason, _SSLError):\n\u001b[0;32m    513\u001b[0m         \u001b[38;5;66;03m# This branch is for urllib3 v1.22 and later.\u001b[39;00m\n\u001b[1;32m--> 514\u001b[0m         \u001b[38;5;28;01mraise\u001b[39;00m SSLError(e, request\u001b[38;5;241m=\u001b[39mrequest)\n\u001b[0;32m    516\u001b[0m     \u001b[38;5;28;01mraise\u001b[39;00m \u001b[38;5;167;01mConnectionError\u001b[39;00m(e, request\u001b[38;5;241m=\u001b[39mrequest)\n\u001b[0;32m    518\u001b[0m \u001b[38;5;28;01mexcept\u001b[39;00m ClosedPoolError \u001b[38;5;28;01mas\u001b[39;00m e:\n",
      "\u001b[1;31mSSLError\u001b[0m: HTTPSConnectionPool(host='echo.msk.ru', port=443): Max retries exceeded with url: / (Caused by SSLError(SSLError(1, '[SSL: WRONG_VERSION_NUMBER] wrong version number (_ssl.c:1125)')))"
     ]
    }
   ],
   "source": [
    "response(internet_smi, headers)"
   ]
  },
  {
   "cell_type": "code",
   "execution_count": 17,
   "id": "efc3bb38",
   "metadata": {},
   "outputs": [
    {
     "name": "stdout",
     "output_type": "stream",
     "text": [
      "Агрегаторы:3\n",
      "Информационные агенства:5\n",
      "Интернет издания:21\n",
      "Албанские:11\n"
     ]
    }
   ],
   "source": [
    "print(f'Агрегаторы:{len(agregators_links)}\\n' \n",
    "      f'Информационные агенства:{len(info_links)}\\n'\n",
    "      f'Интернет издания:{len(internet_smi)}\\n'\n",
    "      f'Албанские:{len(albania_news)}')"
   ]
  },
  {
   "cell_type": "markdown",
   "id": "c0dc5663",
   "metadata": {},
   "source": [
    "# Список информагенств, какой смогу собрать с интернета. Агенство - сайт. И потом пройтись по списку и посмотреть кто из них отдаёт респонс 200."
   ]
  },
  {
   "cell_type": "markdown",
   "id": "01966aeb",
   "metadata": {},
   "source": [
    "### Агрегаторы\n",
    "- Новости Mail.ru  `(https://news.mail.ru/  ?  utm_source=vsesmi_online)`\n",
    "Последние новости - картина дня, политика, экономика и другие события. Фото и видео.\n",
    "\n",
    "- Яндекс.Новости   `(https://dzen.ru/news/  ?  issue_tld=ru&utm_source=vsesmi_online)`\n",
    "Актуальные новости России, регионов и областей, важные и свежие новости дня.\n",
    "\n",
    "- Рамблер / новости  `(https://news.rambler.ru/  ?  utm_source=vsesmi_online)`\n",
    "Новости сегодня: самые свежие и последние новости России и мира\n",
    "\n",
    "### Информационные агентства\n",
    "\n",
    "- РИА Новости `(https://ria.ru/  ?  utm_source=vsesmi_online)`\n",
    "Крупнейшее информационное агентство России. Самая оперативная информация: темы дня, обзоры, анализ. Фото и видео с места событий, инфографика, радиоэфир и подкасты.\n",
    "\n",
    "- REGNUM `(https://regnum.ru/  ?  utm_source=vsesmi_online)`\n",
    "Федеральное информационное агентство, распространяющее новости России и ближайшего зарубежья от собственных корреспондентов, дочерних агентств и партнеров.\n",
    "\n",
    "- ТАСС `(https://tass.ru/  ?  utm_source=vsesmi_online)`\n",
    "События в России и мире. Аналитические публикации. Материалы пресс-конференций. Видео- и фоторепортажи.\n",
    "\n",
    "- РОСБАЛТ `(https://www.rosbalt.ru/  ?  utm_source=vsesmi_online)`\n",
    "Новостная лента о событиях в российской и мировой экономике, политике, культуре. Мультимедийные проекты. Блоги.\n",
    "\n",
    "- Интерфакс `(https://www.interfax.ru/)`\n",
    "Независимое информационное агентство, одно из трёх ведущих агентств России.\n",
    "\n",
    "### Интернет-издания\n",
    "\n",
    "- РосБизнесКонсалтинг  `(https://www.rbc.ru/  ?  utm_source=vsesmi_online)`\n",
    "Ведущая российская компания, работающая в сферах масс-медиа и информационных технологий. Самые свежие новости, главные темы дня в политике, экономике, бизнесе и жизни. Акции, курсы валют, фондовый и инвестиционный рынок, погода.\n",
    "\n",
    "- Lenta.ru  `(https://lenta.ru/  ?  utm_source=vsesmi_online)`\n",
    "Информация о российских и мировых событиях в режиме реального времени. Новости, статьи, фотографии, видео. Семь дней в неделю, 24 часа в сутки.\n",
    "\n",
    "- Ведомости  `(https://www.vedomosti.ru/  ?  utm_source=vsesmi_online)`\n",
    "Ведущее деловое издание России. Качественный контент о бизнесе, экономике и политике. Актуальные новости, экспертные статьи и аналитика.\n",
    "\n",
    "- Коммерсантъ  `(https://www.kommersant.ru/  ?  utm_source=vsesmi_online)`\n",
    "Актуальные новости, объективный анализ и эксклюзивные комментарии о важнейших событиях и трендах.\n",
    "\n",
    "- Комсомольская Правда  `(https://www.kp.ru/  ?  utm_source=vsesmi_online)`\n",
    "Самые свежие новости России. Ежедневная публикация самой актуальной информации.\n",
    "\n",
    "- Газета.RU  `(https://www.gazeta.ru/)`\n",
    "Главные новости дня из Москвы и регионов, информационная лента новостей, новости России и мира, события дня и последнего часа, аналитика, комментарии, видео.\n",
    "\n",
    "- RT на русском  `(https://russian.rt.com/  ?  utm_source=vsesmi_online)`\n",
    "Актуальная картина дня на RT: круглосуточное ежедневное обновление новостей. Онлайн-репортажи с места событий. Комментарии экспертов, актуальные интервью, фото и видео репортажи.\n",
    "\n",
    "- NEWSru.com  `(https://www.newsru.com/  ?  utm_source=vsesmi_online)`\n",
    "Самые быстрые новости. Фото и видео дня. Лента новостей в России и в мире.\n",
    "\n",
    "- Вести.RU  `(https://www.vesti.ru/)`\n",
    "Служба новостей телеканала Россия. Интервью, репортажи, фото и видео, новости Москвы и регионов России.\n",
    "\n",
    "- Аргументы и факты  `(https://aif.ru/  ?  utm_source=vsesmi_online)`\n",
    "Круглосуточное ежедневное обновление новостей России и мира, репортажи, истории. Темы в формате вопрос-ответ, инфографики, фото и видеоматериалы. Полнотекстовые выпуски газеты, архив номеров.\n",
    "\n",
    "- Правда.Ру  `(https://www.pravda.ru/)`\n",
    "Новости и аналитика - два главных продукта, которые создают сотрудники Правды.Ру с начала 1999 года. Репортажи, интервью, видео по актуальным новостям.\n",
    "\n",
    "- Свободная Пресса  `(https://svpressa.ru/  ?  utm_source=vsesmi_online)`\n",
    "Общественно-политическое интернет-издание. Публикации о событиях в экономике, политике, социальной жизни, культуре, спорте. Лента новостей, фото- и видеорепортажи.\n",
    "\n",
    "- Эхо Москвы  `(https://echo.msk.ru/  ?  utm_source=vsesmi_online)`\n",
    "Сайт Радио Эхо Москвы: новости Москвы, России и мира, аналитика, политика, экономика, расшифровки и mp3 подкасты популярных программ и эфиров.\n",
    "\n",
    "- Известия  `(https://iz.ru/  ?  utm_source=vsesmi_online)`\n",
    "Информационный портал газеты Известия, Ren TV, 5 канала. Последние новости политики, экономики и культуры, новости в мире и стране.\n",
    "\n",
    "- Дождь  `(https://tvrain.ru/  ?  utm_source=vsesmi_online)`\n",
    "Независимый информационный телеканал. Это каждый час новости о том, что происходит на самом деле.\n",
    "\n",
    "- Новая Газета  `(https://novayagazeta.ru/  ?  utm_source=vsesmi_online)`\n",
    "Российская общественно-политическая газета. Новости политической, экономической, общественной, культурной и другой жизни страны и зарубежья.\n",
    "\n",
    "- ВЗГЛЯД.РУ  `(https://vz.ru/  ?  utm_source=vsesmi_online)`\n",
    "Деловая газета. Новости, актуальная информация и аналитические материалы о российской и международной политике, бизнесе и финансах, событиях культуры и спорта.\n",
    "\n",
    "- Российская газета  `(https://rg.ru/  ?  utm_source=vsesmi_online)`\n",
    "Издание Правительства Российской Федерации, официальный публикатор документов.\n",
    "\n",
    "- Независимая газета  `(https://www.ng.ru/  ?  utm_source=vsesmi_online)`\n",
    "Последние новости России и мировые новости. Политика. Экономика. Войны. Культура. Все свежие новости, публикация в реальном времени.\n",
    "\n",
    "- Экспресс газета  `(https://www.eg.ru/  ?  utm_source=vsesmi_online)`\n",
    "Эксклюзивы о жизни звезд и фото светской хроники. Главные новости и события дня в России и мире, в обществе и государстве, в политике и деньгах.\n",
    "\n",
    "- Life.ru  `(https://life.ru/  ?  utm_source=vsesmi_online)`\n",
    "События и новости 24 часа в сутки: эксклюзивные расследования, оригинальные фото и видео.\n",
    "\n",
    "\n",
    "# `Источник: https://vsesmi.online/russia/`"
   ]
  },
  {
   "cell_type": "markdown",
   "id": "9bbed45f",
   "metadata": {},
   "source": [
    "для затравочки: \n",
    "\n",
    "# Главные новостные сайты Албании\n",
    "\n",
    "### Интернет-издания и порталы\n",
    "\n",
    "- Gazeta Express `https://www.gazetaexpress.com/ ? utm_source=vsesmi_online`\n",
    "Новостной портал Республики Косово. Новости политики, спорта и шоу-бизнеса.\n",
    "\n",
    "- Top Channel `https://top-channel.tv/ ? utm_source=vsesmi_online`\n",
    "Албанский коммерческий телеканал. Последние новости каждую минуту.\n",
    "\n",
    "- Gazeta Tema `https://www.gazetatema.net/ ? utm_source=vsesmi_online`\n",
    "Последние новости в мире, комментарии экспертов.\n",
    "\n",
    "- Shqiptarja.com `https://shqiptarja.com/home`\n",
    "Профессиональный и независимый сайт с новостями из Албании и Балкан.\n",
    "\n",
    "- BalkanWeb `https://www.balkanweb.com/ ? utm_source=vsesmi_online`\n",
    "Новостной портал телеканала News 24 (Albania).\n",
    "\n",
    "- Gazeta Panorama `http://www.panorama.com.al/?utm_source=vsesmi_online`\n",
    "Одна из самых продаваемых газет и один из самых посещаемых сайтов Албании.\n",
    "\n",
    "- TV Klan `https://tvklan.al/?utm_source=vsesmi_online`\n",
    "Веб-портал частного телеканала, базирующегося в Тиране.\n",
    "\n",
    "- Opinion.al `https://opinion.al/?utm_source=vsesmi_online`\n",
    "Актуальные новости и события.\n",
    "\n",
    "- Albeu.com `https://albeu.com/?utm_source=vsesmi_online`\n",
    "Последние новости Албании, Косово и Македонии.\n",
    "\n",
    "- NOA `https://www.noa.al/?utm_source=vsesmi_online` \n",
    "Национальное информационное агентство. Новости 24 часа в сутки.\n",
    "\n",
    "- Gazeta Koha Jone `https://kohajone.com/?utm_source=vsesmi_online`\n",
    "Политически независимая ежедневная газета, базирующаяся в Тиране.\n",
    "\n",
    "\n",
    "# Источник: https://vsesmi.online/albaniya/"
   ]
  },
  {
   "cell_type": "code",
   "execution_count": null,
   "id": "04d530e3",
   "metadata": {},
   "outputs": [],
   "source": []
  }
 ],
 "metadata": {
  "kernelspec": {
   "display_name": "Python 3 (ipykernel)",
   "language": "python",
   "name": "python3"
  },
  "language_info": {
   "codemirror_mode": {
    "name": "ipython",
    "version": 3
   },
   "file_extension": ".py",
   "mimetype": "text/x-python",
   "name": "python",
   "nbconvert_exporter": "python",
   "pygments_lexer": "ipython3",
   "version": "3.8.8"
  }
 },
 "nbformat": 4,
 "nbformat_minor": 5
}

{
 "cells": [
  {
   "cell_type": "markdown",
   "id": "82a42be7",
   "metadata": {},
   "source": [
    "# Cоставить список информационных агенств России\n",
    "\n",
    "1) РИА Новости https://ria.ru/\n",
    "\n",
    "2) Интерфакс https://www.interfax.ru/\n",
    "\n",
    "3) \n",
    "\n",
    "..."
   ]
  },
  {
   "cell_type": "markdown",
   "id": "4102386c",
   "metadata": {},
   "source": [
    "### РИА Новости `https://ria.ru/`\n"
   ]
  },
  {
   "cell_type": "code",
   "execution_count": null,
   "id": "83437db1",
   "metadata": {},
   "outputs": [],
   "source": [
    "from lxml import html\n",
    "import requests\n",
    "from pprint import pprint\n",
    "\n",
    "url_ria = 'https://ria.ru/'\n",
    "headers = {'User Agent':'Mozilla/5.0 (Windows NT 10.0; Win64; x64) AppleWebKit/537.36 (KHTML, like Gecko) Chrome/109.0.0.0 Safari/537.36'}\n",
    "\n",
    "response_ria = requests.get(url_ria, headers=headers)\n",
    "\n",
    "dom_ria = html.fromstring(response_ria.text)\n",
    "\n",
    "news_ria = dom_ria.xpath(\"//span[@class='cell-list__item-title']/text()\")"
   ]
  },
  {
   "cell_type": "code",
   "execution_count": 18,
   "id": "06030dbc",
   "metadata": {},
   "outputs": [
    {
     "data": {
      "text/plain": [
       "<Response [200]>"
      ]
     },
     "execution_count": 18,
     "metadata": {},
     "output_type": "execute_result"
    }
   ],
   "source": [
    "response"
   ]
  },
  {
   "cell_type": "code",
   "execution_count": 19,
   "id": "50a67cce",
   "metadata": {},
   "outputs": [
    {
     "data": {
      "text/plain": [
       "['Число погибших в результате взрыва газа в Новосибирске выросло до 13 ',\n",
       " 'Российские десантники предотвратили прорыв противника в ЛНР ',\n",
       " 'Украине пока не нужны истребители, заявил Макрон ',\n",
       " 'В Харьковской области сообщили о повреждении объектов критической инфраструктуры ',\n",
       " 'Россия и Китай в два раза нарастили долю нацвалют в торговле ',\n",
       " 'Путин рассказал о нештатной ситуации на борту № 1 ',\n",
       " 'СМИ: МИД Нидерландов вызвал посла России из-за дела о крушении MH17 ',\n",
       " 'Украинские СМИ рассказали, сколько стоит откупиться от передовой ',\n",
       " 'Американский журналист Сеймур Херш отказался выступить в Госдуме ',\n",
       " 'Конгрессвумен США отбилась от нападения с помощью кипятка ',\n",
       " 'Польские наемники изнасиловали несовершеннолетнюю девочку, сообщили в николаевском подполье ',\n",
       " 'Ветеран морской разведки США прокомментировал новые данные о диверсии на \"Северных потоках\" ',\n",
       " 'Петербург подарил оборудование донецкому центру переливания крови ',\n",
       " 'Сочинские ученые рассказали о дальнейшей судьбе брошенного медведя ',\n",
       " 'В США рассказали, как Путин изменил мир ',\n",
       " 'Минобороны показало кадры круглосуточных тренировок штурмовых подразделений ',\n",
       " 'Эксперты оценили уровень вредительства от уволенных в промышленности ',\n",
       " 'Макрон может лишить Путина высшего звания ордена Почетного легиона ',\n",
       " 'В Киеве и большинстве областей Украины звучит воздушная тревога ',\n",
       " 'В Крыму призвали западные страны помнить об ударе возмездия ',\n",
       " 'В городе Часов Яр зафиксировали расположение иностранных наемников ',\n",
       " 'Российские ученые разработали новый способ создания композитов для авиации ',\n",
       " 'Москва готова сотрудничать с Западом на своих условиях, предупредил посол России в Гааге ',\n",
       " 'Онколог оценил вероятность рака из-за коронавируса ',\n",
       " 'Минцифры создаст единого мобильного оператора для новых регионов ',\n",
       " 'Миура лидирует после короткой программы на турнире четырех континентов ',\n",
       " 'Посол России в Китае: надеемся на участие атлетов КНР в \"Играх будущего\" ',\n",
       " 'Два литра крови на льду: самое страшное видео в истории хоккея  ',\n",
       " 'Убийство в Тампе: Кучеров, Василевский и Сергачев отомстили своим обидчикам ']"
      ]
     },
     "execution_count": 19,
     "metadata": {},
     "output_type": "execute_result"
    }
   ],
   "source": [
    "news"
   ]
  },
  {
   "cell_type": "code",
   "execution_count": 20,
   "id": "bd44833e",
   "metadata": {},
   "outputs": [
    {
     "data": {
      "text/plain": [
       "29"
      ]
     },
     "execution_count": 20,
     "metadata": {},
     "output_type": "execute_result"
    }
   ],
   "source": [
    "len(news)"
   ]
  },
  {
   "cell_type": "code",
   "execution_count": 21,
   "id": "4be8e756",
   "metadata": {},
   "outputs": [
    {
     "data": {
      "text/plain": [
       "['Число погибших в результате взрыва газа в Новосибирске выросло до 13 ',\n",
       " 'Российские десантники предотвратили прорыв противника в ЛНР ',\n",
       " 'Украине пока не нужны истребители, заявил Макрон ',\n",
       " 'В Харьковской области сообщили о повреждении объектов критической инфраструктуры ',\n",
       " 'Россия и Китай в два раза нарастили долю нацвалют в торговле ']"
      ]
     },
     "execution_count": 21,
     "metadata": {},
     "output_type": "execute_result"
    }
   ],
   "source": [
    "news[:5]"
   ]
  },
  {
   "cell_type": "markdown",
   "id": "fde175c8",
   "metadata": {},
   "source": [
    "### Интерфакс https://www.interfax.ru/"
   ]
  },
  {
   "cell_type": "markdown",
   "id": "65f109d3",
   "metadata": {},
   "source": [
    "Определяю точку входа. https://www.interfax.ru/"
   ]
  },
  {
   "cell_type": "code",
   "execution_count": null,
   "id": "d8c30af1",
   "metadata": {},
   "outputs": [],
   "source": [
    "from lxml import html\n",
    "import requests\n",
    "from pprint import pprint\n",
    "\n",
    "url_interfax = 'https://www.interfax.ru/'\n",
    "headers = {'User Agent':'Mozilla/5.0 (Windows NT 10.0; Win64; x64) AppleWebKit/537.36 (KHTML, like Gecko) Chrome/109.0.0.0 Safari/537.36'}\n",
    "\n",
    "response_interfax = requests.get(url_interfax , headers=headers)\n",
    "\n",
    "dom_interfax = html.fromstring(response_interfax.text)\n",
    "\n",
    "news_interfax = dom_interfax.xpath(\"//h3/text()\")\n",
    "\n"
   ]
  },
  {
   "cell_type": "code",
   "execution_count": 31,
   "id": "3c3289e2",
   "metadata": {},
   "outputs": [
    {
     "data": {
      "text/plain": [
       "['Число жертв в результате землетрясения в Турции и Сирии превысило 20 тысяч человек',\n",
       " 'Взрыв произошел на балконе квартиры в пятиэтажном доме в подмосковном Богородском',\n",
       " 'Группа республиканцев предложила прекратить оказание американской помощи Украине',\n",
       " 'Количество жертв обрушения пятиэтажного дома в Новосибирске достигло 13 человек',\n",
       " 'Аккаунты Трампа в Facebook и Instagram снова функционируют']"
      ]
     },
     "execution_count": 31,
     "metadata": {},
     "output_type": "execute_result"
    }
   ],
   "source": [
    "news_interfax[:5]"
   ]
  },
  {
   "cell_type": "code",
   "execution_count": null,
   "id": "2a4b97fa",
   "metadata": {},
   "outputs": [],
   "source": [
    "len(news_interfax)"
   ]
  },
  {
   "cell_type": "markdown",
   "id": "9ef07388",
   "metadata": {},
   "source": [
    "### Список URLS"
   ]
  },
  {
   "cell_type": "code",
   "execution_count": 8,
   "id": "fbee27f9",
   "metadata": {},
   "outputs": [],
   "source": [
    "agregators_links = ['https://news.mail.ru/', 'https://dzen.ru/news/', 'https://news.rambler.ru/']\n",
    "agregators_links_arg = ['https://news.mail.ru/?utm_source=vsesmi_online', 'https://dzen.ru/news/?issue_tld=ru&utm_source=vsesmi_online', 'https://news.rambler.ru/?utm_source=vsesmi_online']"
   ]
  },
  {
   "cell_type": "code",
   "execution_count": 9,
   "id": "2690a4a2",
   "metadata": {},
   "outputs": [],
   "source": [
    "info_links = ['https://ria.ru/', 'https://regnum.ru/', 'https://tass.ru/', 'https://www.rosbalt.ru/', 'https://www.interfax.ru/']\n",
    "info_links_args = ['https://ria.ru/?utm_source=vsesmi_online',\n",
    "                   'https://regnum.ru/?utm_source=vsesmi_online',\n",
    "                   'https://tass.ru/?utm_source=vsesmi_online',\n",
    "                   'https://www.rosbalt.ru/?utm_source=vsesmi_online']"
   ]
  },
  {
   "cell_type": "markdown",
   "id": "7131bf06",
   "metadata": {},
   "source": [
    "Не пускает на некоторые сайты, вылетает ошибка, поэтому закомментировал такие урлы"
   ]
  },
  {
   "cell_type": "code",
   "execution_count": 40,
   "id": "3d2b78d2",
   "metadata": {},
   "outputs": [],
   "source": [
    "internet_smi = ['https://www.rbc.ru/',\n",
    "               'https://lenta.ru/',\n",
    "               'https://www.vedomosti.ru/',\n",
    "               'https://www.kommersant.ru/',\n",
    "               'https://www.kp.ru/',\n",
    "               'https://www.gazeta.ru/',\n",
    "               'https://russian.rt.com/',\n",
    "             #  'https://www.newsru.com/',\n",
    "               'https://www.vesti.ru/',\n",
    "               'https://aif.ru/',\n",
    "               'https://www.pravda.ru/',\n",
    "               'https://svpressa.ru/',\n",
    "             #  'https://echo.msk.ru/',\n",
    "               'https://iz.ru/',\n",
    "              # 'https://tvrain.ru/',\n",
    "              # 'https://novayagazeta.ru/',\n",
    "               'https://vz.ru/',\n",
    "               'https://rg.ru/',\n",
    "               'https://www.ng.ru/',\n",
    "               'https://www.eg.ru/',\n",
    "               'https://life.ru/']"
   ]
  },
  {
   "cell_type": "code",
   "execution_count": 12,
   "id": "9500c9ff",
   "metadata": {},
   "outputs": [],
   "source": [
    "albania_news = {'https://www.gazetaexpress.com/',\n",
    "               'https://top-channel.tv/',\n",
    "               'https://www.gazetatema.net/',\n",
    "               'https://shqiptarja.com/home',\n",
    "               'https://www.balkanweb.com/',\n",
    "               'http://www.panorama.com.al/',\n",
    "               'https://tvklan.al/',\n",
    "               'https://opinion.al/',\n",
    "               'https://albeu.com/',\n",
    "               'https://www.noa.al/',\n",
    "               'https://kohajone.com/'}"
   ]
  },
  {
   "cell_type": "code",
   "execution_count": 11,
   "id": "0da7bcf3",
   "metadata": {},
   "outputs": [],
   "source": [
    "from lxml import html\n",
    "import requests\n",
    "from pprint import pprint\n",
    "\n",
    "headers = {'User Agent':'Mozilla/5.0 (Windows NT 10.0; Win64; x64) AppleWebKit/537.36 (KHTML, like Gecko) Chrome/109.0.0.0 Safari/537.36'}\n",
    "\n",
    "def response(urls, params):\n",
    "    for url in urls:\n",
    "        response = requests.get(url, headers=params)\n",
    "        print(f'ссылка: {url} - ответ: {response}')\n",
    "        \n"
   ]
  },
  {
   "cell_type": "code",
   "execution_count": 19,
   "id": "f1407f7c",
   "metadata": {},
   "outputs": [
    {
     "name": "stdout",
     "output_type": "stream",
     "text": [
      "ссылка: https://news.mail.ru/ - ответ: <Response [400]>\n",
      "ссылка: https://dzen.ru/news/ - ответ: <Response [400]>\n",
      "ссылка: https://news.rambler.ru/ - ответ: <Response [400]>\n"
     ]
    }
   ],
   "source": [
    "response(agregators_links, headers)"
   ]
  },
  {
   "cell_type": "code",
   "execution_count": 21,
   "id": "ded3c058",
   "metadata": {},
   "outputs": [
    {
     "name": "stdout",
     "output_type": "stream",
     "text": [
      "ссылка: https://ria.ru/ - ответ: <Response [200]>\n",
      "ссылка: https://regnum.ru/ - ответ: <Response [200]>\n",
      "ссылка: https://tass.ru/ - ответ: <Response [200]>\n",
      "ссылка: https://www.rosbalt.ru/ - ответ: <Response [400]>\n",
      "ссылка: https://www.interfax.ru/ - ответ: <Response [200]>\n"
     ]
    }
   ],
   "source": [
    "response(info_links, headers)"
   ]
  },
  {
   "cell_type": "code",
   "execution_count": 41,
   "id": "4133fa0f",
   "metadata": {},
   "outputs": [
    {
     "name": "stdout",
     "output_type": "stream",
     "text": [
      "ссылка: https://www.gazetatema.net/ - ответ: <Response [403]>\n",
      "ссылка: http://www.panorama.com.al/ - ответ: <Response [200]>\n",
      "ссылка: https://shqiptarja.com/home - ответ: <Response [200]>\n",
      "ссылка: https://top-channel.tv/ - ответ: <Response [503]>\n",
      "ссылка: https://albeu.com/ - ответ: <Response [200]>\n",
      "ссылка: https://kohajone.com/ - ответ: <Response [200]>\n",
      "ссылка: https://www.noa.al/ - ответ: <Response [200]>\n",
      "ссылка: https://opinion.al/ - ответ: <Response [200]>\n",
      "ссылка: https://tvklan.al/ - ответ: <Response [200]>\n",
      "ссылка: https://www.balkanweb.com/ - ответ: <Response [200]>\n",
      "ссылка: https://www.gazetaexpress.com/ - ответ: <Response [200]>\n"
     ]
    }
   ],
   "source": [
    "response(albania_news, headers)"
   ]
  },
  {
   "cell_type": "code",
   "execution_count": 42,
   "id": "b4e21eb6",
   "metadata": {},
   "outputs": [
    {
     "name": "stdout",
     "output_type": "stream",
     "text": [
      "ссылка: https://www.rbc.ru/ - ответ: <Response [200]>\n",
      "ссылка: https://lenta.ru/ - ответ: <Response [400]>\n",
      "ссылка: https://www.vedomosti.ru/ - ответ: <Response [400]>\n",
      "ссылка: https://www.kommersant.ru/ - ответ: <Response [200]>\n",
      "ссылка: https://www.kp.ru/ - ответ: <Response [200]>\n",
      "ссылка: https://www.gazeta.ru/ - ответ: <Response [400]>\n",
      "ссылка: https://russian.rt.com/ - ответ: <Response [200]>\n",
      "ссылка: https://www.vesti.ru/ - ответ: <Response [200]>\n",
      "ссылка: https://aif.ru/ - ответ: <Response [200]>\n",
      "ссылка: https://www.pravda.ru/ - ответ: <Response [200]>\n",
      "ссылка: https://svpressa.ru/ - ответ: <Response [200]>\n",
      "ссылка: https://iz.ru/ - ответ: <Response [403]>\n",
      "ссылка: https://vz.ru/ - ответ: <Response [200]>\n",
      "ссылка: https://rg.ru/ - ответ: <Response [200]>\n",
      "ссылка: https://www.ng.ru/ - ответ: <Response [200]>\n",
      "ссылка: https://www.eg.ru/ - ответ: <Response [400]>\n",
      "ссылка: https://life.ru/ - ответ: <Response [400]>\n"
     ]
    }
   ],
   "source": [
    "response(internet_smi, headers)"
   ]
  },
  {
   "cell_type": "code",
   "execution_count": 17,
   "id": "efc3bb38",
   "metadata": {},
   "outputs": [
    {
     "name": "stdout",
     "output_type": "stream",
     "text": [
      "Агрегаторы:3\n",
      "Информационные агенства:5\n",
      "Интернет издания:21\n",
      "Албанские:11\n"
     ]
    }
   ],
   "source": [
    "print(f'Агрегаторы:{len(agregators_links)}\\n' \n",
    "      f'Информационные агенства:{len(info_links)}\\n'\n",
    "      f'Интернет издания:{len(internet_smi)}\\n'\n",
    "      f'Албанские:{len(albania_news)}')"
   ]
  },
  {
   "cell_type": "markdown",
   "id": "c0dc5663",
   "metadata": {},
   "source": [
    "# Список информагенств, какой смогу собрать с интернета. Агенство - сайт. И потом пройтись по списку и посмотреть кто из них отдаёт респонс 200."
   ]
  },
  {
   "cell_type": "markdown",
   "id": "768d376e",
   "metadata": {},
   "source": [
    "### Агрегаторы\n",
    "- Новости Mail.ru  `(https://news.mail.ru/  ?  utm_source=vsesmi_online)`\n",
    "Последние новости - картина дня, политика, экономика и другие события. Фото и видео.\n",
    "\n",
    "- Яндекс.Новости   `(https://dzen.ru/news/  ?  issue_tld=ru&utm_source=vsesmi_online)`\n",
    "Актуальные новости России, регионов и областей, важные и свежие новости дня.\n",
    "\n",
    "- Рамблер / новости  `(https://news.rambler.ru/  ?  utm_source=vsesmi_online)`\n",
    "Новости сегодня: самые свежие и последние новости России и мира\n",
    "\n",
    "### Информационные агентства\n",
    "\n",
    "- РИА Новости `(https://ria.ru/  ?  utm_source=vsesmi_online)`\n",
    "Крупнейшее информационное агентство России. Самая оперативная информация: темы дня, обзоры, анализ. Фото и видео с места событий, инфографика, радиоэфир и подкасты.\n",
    "\n",
    "- REGNUM `(https://regnum.ru/  ?  utm_source=vsesmi_online)`\n",
    "Федеральное информационное агентство, распространяющее новости России и ближайшего зарубежья от собственных корреспондентов, дочерних агентств и партнеров.\n",
    "\n",
    "- ТАСС `(https://tass.ru/  ?  utm_source=vsesmi_online)`\n",
    "События в России и мире. Аналитические публикации. Материалы пресс-конференций. Видео- и фоторепортажи.\n",
    "\n",
    "- РОСБАЛТ `(https://www.rosbalt.ru/  ?  utm_source=vsesmi_online)`\n",
    "Новостная лента о событиях в российской и мировой экономике, политике, культуре. Мультимедийные проекты. Блоги.\n",
    "\n",
    "- Интерфакс `(https://www.interfax.ru/)`\n",
    "Независимое информационное агентство, одно из трёх ведущих агентств России.\n",
    "\n",
    "### Интернет-издания\n",
    "\n",
    "- РосБизнесКонсалтинг  `(https://www.rbc.ru/  ?  utm_source=vsesmi_online)`\n",
    "Ведущая российская компания, работающая в сферах масс-медиа и информационных технологий. Самые свежие новости, главные темы дня в политике, экономике, бизнесе и жизни. Акции, курсы валют, фондовый и инвестиционный рынок, погода.\n",
    "\n",
    "- Lenta.ru  `(https://lenta.ru/  ?  utm_source=vsesmi_online)`\n",
    "Информация о российских и мировых событиях в режиме реального времени. Новости, статьи, фотографии, видео. Семь дней в неделю, 24 часа в сутки.\n",
    "\n",
    "- Ведомости  `(https://www.vedomosti.ru/  ?  utm_source=vsesmi_online)`\n",
    "Ведущее деловое издание России. Качественный контент о бизнесе, экономике и политике. Актуальные новости, экспертные статьи и аналитика.\n",
    "\n",
    "- Коммерсантъ  `(https://www.kommersant.ru/  ?  utm_source=vsesmi_online)`\n",
    "Актуальные новости, объективный анализ и эксклюзивные комментарии о важнейших событиях и трендах.\n",
    "\n",
    "- Комсомольская Правда  `(https://www.kp.ru/  ?  utm_source=vsesmi_online)`\n",
    "Самые свежие новости России. Ежедневная публикация самой актуальной информации.\n",
    "\n",
    "- Газета.RU  `(https://www.gazeta.ru/)`\n",
    "Главные новости дня из Москвы и регионов, информационная лента новостей, новости России и мира, события дня и последнего часа, аналитика, комментарии, видео.\n",
    "\n",
    "- RT на русском  `(https://russian.rt.com/  ?  utm_source=vsesmi_online)`\n",
    "Актуальная картина дня на RT: круглосуточное ежедневное обновление новостей. Онлайн-репортажи с места событий. Комментарии экспертов, актуальные интервью, фото и видео репортажи.\n",
    "\n",
    "- NEWSru.com  `(https://www.newsru.com/  ?  utm_source=vsesmi_online)`\n",
    "Самые быстрые новости. Фото и видео дня. Лента новостей в России и в мире.\n",
    "\n",
    "- Вести.RU  `(https://www.vesti.ru/)`\n",
    "Служба новостей телеканала Россия. Интервью, репортажи, фото и видео, новости Москвы и регионов России.\n",
    "\n",
    "- Аргументы и факты  `(https://aif.ru/  ?  utm_source=vsesmi_online)`\n",
    "Круглосуточное ежедневное обновление новостей России и мира, репортажи, истории. Темы в формате вопрос-ответ, инфографики, фото и видеоматериалы. Полнотекстовые выпуски газеты, архив номеров.\n",
    "\n",
    "- Правда.Ру  `(https://www.pravda.ru/)`\n",
    "Новости и аналитика - два главных продукта, которые создают сотрудники Правды.Ру с начала 1999 года. Репортажи, интервью, видео по актуальным новостям.\n",
    "\n",
    "- Свободная Пресса  `(https://svpressa.ru/  ?  utm_source=vsesmi_online)`\n",
    "Общественно-политическое интернет-издание. Публикации о событиях в экономике, политике, социальной жизни, культуре, спорте. Лента новостей, фото- и видеорепортажи.\n",
    "\n",
    "- Эхо Москвы  `(https://echo.msk.ru/  ?  utm_source=vsesmi_online)`\n",
    "Сайт Радио Эхо Москвы: новости Москвы, России и мира, аналитика, политика, экономика, расшифровки и mp3 подкасты популярных программ и эфиров.\n",
    "\n",
    "- Известия  `(https://iz.ru/  ?  utm_source=vsesmi_online)`\n",
    "Информационный портал газеты Известия, Ren TV, 5 канала. Последние новости политики, экономики и культуры, новости в мире и стране.\n",
    "\n",
    "- Дождь  `(https://tvrain.ru/  ?  utm_source=vsesmi_online)`\n",
    "Независимый информационный телеканал. Это каждый час новости о том, что происходит на самом деле.\n",
    "\n",
    "- Новая Газета  `(https://novayagazeta.ru/  ?  utm_source=vsesmi_online)`\n",
    "Российская общественно-политическая газета. Новости политической, экономической, общественной, культурной и другой жизни страны и зарубежья.\n",
    "\n",
    "- ВЗГЛЯД.РУ  `(https://vz.ru/  ?  utm_source=vsesmi_online)`\n",
    "Деловая газета. Новости, актуальная информация и аналитические материалы о российской и международной политике, бизнесе и финансах, событиях культуры и спорта.\n",
    "\n",
    "- Российская газета  `(https://rg.ru/  ?  utm_source=vsesmi_online)`\n",
    "Издание Правительства Российской Федерации, официальный публикатор документов.\n",
    "\n",
    "- Независимая газета  `(https://www.ng.ru/  ?  utm_source=vsesmi_online)`\n",
    "Последние новости России и мировые новости. Политика. Экономика. Войны. Культура. Все свежие новости, публикация в реальном времени.\n",
    "\n",
    "- Экспресс газета  `(https://www.eg.ru/  ?  utm_source=vsesmi_online)`\n",
    "Эксклюзивы о жизни звезд и фото светской хроники. Главные новости и события дня в России и мире, в обществе и государстве, в политике и деньгах.\n",
    "\n",
    "- Life.ru  `(https://life.ru/  ?  utm_source=vsesmi_online)`\n",
    "События и новости 24 часа в сутки: эксклюзивные расследования, оригинальные фото и видео.\n",
    "\n",
    "\n",
    "# `Источник: https://vsesmi.online/russia/`"
   ]
  },
  {
   "cell_type": "markdown",
   "id": "9bbed45f",
   "metadata": {},
   "source": [
    "для затравочки: \n",
    "\n",
    "# Главные новостные сайты Албании\n",
    "\n",
    "### Интернет-издания и порталы\n",
    "\n",
    "- Gazeta Express `https://www.gazetaexpress.com/ ? utm_source=vsesmi_online`\n",
    "Новостной портал Республики Косово. Новости политики, спорта и шоу-бизнеса.\n",
    "\n",
    "- Top Channel `https://top-channel.tv/ ? utm_source=vsesmi_online`\n",
    "Албанский коммерческий телеканал. Последние новости каждую минуту.\n",
    "\n",
    "- Gazeta Tema `https://www.gazetatema.net/ ? utm_source=vsesmi_online`\n",
    "Последние новости в мире, комментарии экспертов.\n",
    "\n",
    "- Shqiptarja.com `https://shqiptarja.com/home`\n",
    "Профессиональный и независимый сайт с новостями из Албании и Балкан.\n",
    "\n",
    "- BalkanWeb `https://www.balkanweb.com/ ? utm_source=vsesmi_online`\n",
    "Новостной портал телеканала News 24 (Albania).\n",
    "\n",
    "- Gazeta Panorama `http://www.panorama.com.al/?utm_source=vsesmi_online`\n",
    "Одна из самых продаваемых газет и один из самых посещаемых сайтов Албании.\n",
    "\n",
    "- TV Klan `https://tvklan.al/?utm_source=vsesmi_online`\n",
    "Веб-портал частного телеканала, базирующегося в Тиране.\n",
    "\n",
    "- Opinion.al `https://opinion.al/?utm_source=vsesmi_online`\n",
    "Актуальные новости и события.\n",
    "\n",
    "- Albeu.com `https://albeu.com/?utm_source=vsesmi_online`\n",
    "Последние новости Албании, Косово и Македонии.\n",
    "\n",
    "- NOA `https://www.noa.al/?utm_source=vsesmi_online` \n",
    "Национальное информационное агентство. Новости 24 часа в сутки.\n",
    "\n",
    "- Gazeta Koha Jone `https://kohajone.com/?utm_source=vsesmi_online`\n",
    "Политически независимая ежедневная газета, базирующаяся в Тиране.\n",
    "\n",
    "\n",
    "# Источник: https://vsesmi.online/albaniya/"
   ]
  },
  {
   "cell_type": "code",
   "execution_count": null,
   "id": "04d530e3",
   "metadata": {},
   "outputs": [],
   "source": []
  }
 ],
 "metadata": {
  "kernelspec": {
   "display_name": "Python 3 (ipykernel)",
   "language": "python",
   "name": "python3"
  },
  "language_info": {
   "codemirror_mode": {
    "name": "ipython",
    "version": 3
   },
   "file_extension": ".py",
   "mimetype": "text/x-python",
   "name": "python",
   "nbconvert_exporter": "python",
   "pygments_lexer": "ipython3",
   "version": "3.8.8"
  }
 },
 "nbformat": 4,
 "nbformat_minor": 5
}

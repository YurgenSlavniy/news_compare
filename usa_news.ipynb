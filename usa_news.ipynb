{
 "cells": [
  {
   "cell_type": "markdown",
   "id": "4e3eccb2",
   "metadata": {},
   "source": [
    "# USA News\n",
    "\n",
    "ссылка: https://news.yahoo.com/ - ответ: <Response [400]>\n",
    "\n",
    "ссылка: https://news.google.com/home - ответ: <Response [400]>\n",
    "\n",
    "ссылка: https://www.msn.com/ru-ru - ответ: <Response [400]>\n",
    "\n",
    "ссылка: https://www.nytimes.com/ - ответ: <Response [400]>\n",
    "\n",
    "ссылка: https://www.wsj.com/ - ответ: <Response [403]>\n",
    "\n",
    "ссылка: https://www.huffpost.com/e - ответ: <Response [400]>\n",
    "\n",
    "ссылка: https://www.washingtonpost.com/ - ответ: <Response [200]>\n",
    "\n",
    "ссылка: https://www.latimes.com/ - ответ: <Response [403]>\n",
    "\n",
    "ссылка: https://www.usatoday.com/ - ответ: <Response [400]>\n",
    "\n",
    "ссылка: https://www.usatoday.com/  - ответ: <Response [400]>\n",
    "\n",
    "ссылка: https://www.cnbc.com/ - ответ: <Response [200]>\n",
    "\n",
    "ссылка: https://www.foxnews.com/us - ответ: <Response [400]>\n",
    "\n",
    "ссылка: https://time.com/ - ответ: <Response [400]>\n",
    "\n",
    "ссылка: https://www.reuters.com/ - ответ: <Response [200]>\n",
    "\n",
    "ссылка: https://www.bloomberg.com/europe - ответ: <Response [400]>\n",
    "\n",
    "ссылка: https://www.npr.org/ - ответ: <Response [200]>\n",
    "\n",
    "ссылка: https://www.cbsnews.com/ - ответ: <Response [400]>\n",
    "\n",
    "ссылка: https://www.politico.com/ - ответ: <Response [200]>\n",
    "\n",
    "ссылка: https://www.newsweek.com/ - ответ: <Response [400]>\n",
    "\n",
    "ссылка: https://nypost.com/ - ответ: <Response [400]>\n",
    "\n",
    "ссылка: https://www.newyorker.com/ - ответ: <Response [400]>\n",
    "\n",
    "ссылка: https://www.forbes.com/ - ответ: <Response [400]>\n",
    "\n",
    "\n",
    "# Исходя из ответов выбираем ресурсы где получен респонс 200"
   ]
  },
  {
   "cell_type": "code",
   "execution_count": 1,
   "id": "743dc589",
   "metadata": {},
   "outputs": [],
   "source": [
    "usa_response_200 = ['https://www.washingtonpost.com/', 'https://www.cnbc.com/', 'https://www.reuters.com/', 'https://www.npr.org/', 'https://www.politico.com/']"
   ]
  },
  {
   "cell_type": "markdown",
   "id": "03f5df92",
   "metadata": {},
   "source": [
    "### USA Washingtonpost https://www.washingtonpost.com/"
   ]
  },
  {
   "cell_type": "code",
   "execution_count": 3,
   "id": "840b6820",
   "metadata": {},
   "outputs": [],
   "source": [
    "from lxml import html\n",
    "import requests\n",
    "from pprint import pprint\n",
    "\n",
    "url_washingtonpost = 'https://www.washingtonpost.com/latest-headlines/'\n",
    "headers = {'User Agent':'Mozilla/5.0 (Windows NT 10.0; Win64; x64) AppleWebKit/537.36 (KHTML, like Gecko) Chrome/109.0.0.0 Safari/537.36'}\n",
    "\n",
    "response_washingtonpost = requests.get(url_washingtonpost, headers=headers)\n",
    "\n",
    "dom_washingtonpost = html.fromstring(response_washingtonpost.text)\n",
    "\n",
    "news_washingtonpost = dom_washingtonpost.xpath('//h3[@data-qa=\"card-title\"]/text()') \n"
   ]
  },
  {
   "cell_type": "code",
   "execution_count": 4,
   "id": "5c1d36c8",
   "metadata": {},
   "outputs": [
    {
     "data": {
      "text/plain": [
       "20"
      ]
     },
     "execution_count": 4,
     "metadata": {},
     "output_type": "execute_result"
    }
   ],
   "source": [
    "len(news_washingtonpost)"
   ]
  },
  {
   "cell_type": "code",
   "execution_count": 5,
   "id": "34f2c3ed",
   "metadata": {},
   "outputs": [
    {
     "data": {
      "text/plain": [
       "['The 2023 farm bill should be a climate bill, Democrats say',\n",
       " 'Nationals hope for strength in numbers when it comes to rotation depth',\n",
       " 'TikTok loves true confessions. Colleges, not so much.',\n",
       " 'Work Advice: My boss is a back-channeling bully',\n",
       " \"What we've learned from a year of Russian cyberattacks in Ukraine\"]"
      ]
     },
     "execution_count": 5,
     "metadata": {},
     "output_type": "execute_result"
    }
   ],
   "source": [
    "news_washingtonpost[:5]"
   ]
  },
  {
   "cell_type": "markdown",
   "id": "29f86823",
   "metadata": {},
   "source": [
    "### USA CNBC https://www.cnbc.com/"
   ]
  },
  {
   "cell_type": "code",
   "execution_count": 6,
   "id": "af87fb14",
   "metadata": {},
   "outputs": [],
   "source": [
    "from lxml import html\n",
    "import requests\n",
    "from pprint import pprint\n",
    "\n",
    "url_cnbc = 'https://www.cnbc.com/'\n",
    "headers = {'User Agent':'Mozilla/5.0 (Windows NT 10.0; Win64; x64) AppleWebKit/537.36 (KHTML, like Gecko) Chrome/109.0.0.0 Safari/537.36'}\n",
    "\n",
    "response_cnbc = requests.get(url_cnbc, headers=headers)\n",
    "\n",
    "dom_cnbc = html.fromstring(response_cnbc.text)\n",
    "\n",
    "news_cnbc = dom_cnbc.xpath('//a[@class=\"LatestNews-headline\"]/text()') "
   ]
  },
  {
   "cell_type": "code",
   "execution_count": 7,
   "id": "9fcd34be",
   "metadata": {},
   "outputs": [
    {
     "data": {
      "text/plain": [
       "30"
      ]
     },
     "execution_count": 7,
     "metadata": {},
     "output_type": "execute_result"
    }
   ],
   "source": [
    "len(news_cnbc)"
   ]
  },
  {
   "cell_type": "code",
   "execution_count": 8,
   "id": "416924df",
   "metadata": {},
   "outputs": [
    {
     "data": {
      "text/plain": [
       "['5 things to know before the stock market opens Thursday',\n",
       " \"China's Oppo launches foldable flip phone as it bets on high-end market\",\n",
       " 'Bernstein downgrades Tripadvisor after earnings',\n",
       " 'Canaccord Genuity upgrades Generac, says stock can surge nearly 30%',\n",
       " \"Sanctions on Russian oil are having the 'intended effect,' IEA says\"]"
      ]
     },
     "execution_count": 8,
     "metadata": {},
     "output_type": "execute_result"
    }
   ],
   "source": [
    "news_cnbc[:5]"
   ]
  },
  {
   "cell_type": "markdown",
   "id": "2feea855",
   "metadata": {},
   "source": [
    "### USA Reuters https://www.reuters.com/"
   ]
  },
  {
   "cell_type": "code",
   "execution_count": 9,
   "id": "e0f14288",
   "metadata": {},
   "outputs": [],
   "source": [
    "from lxml import html\n",
    "import requests\n",
    "from pprint import pprint\n",
    "\n",
    "url_reuters = 'https://www.reuters.com/'\n",
    "headers = {'User Agent':'Mozilla/5.0 (Windows NT 10.0; Win64; x64) AppleWebKit/537.36 (KHTML, like Gecko) Chrome/109.0.0.0 Safari/537.36'}\n",
    "\n",
    "response_reuters = requests.get(url_reuters, headers=headers)\n",
    "\n",
    "dom_reuters = html.fromstring(response_reuters.text)\n",
    "\n",
    "news_reuters = dom_reuters.xpath('//a[@data-testid=\"Heading\"]/text()') "
   ]
  },
  {
   "cell_type": "code",
   "execution_count": 10,
   "id": "c6d357fb",
   "metadata": {},
   "outputs": [
    {
     "data": {
      "text/plain": [
       "10"
      ]
     },
     "execution_count": 10,
     "metadata": {},
     "output_type": "execute_result"
    }
   ],
   "source": [
    "len(news_reuters)"
   ]
  },
  {
   "cell_type": "code",
   "execution_count": 11,
   "id": "b688489b",
   "metadata": {},
   "outputs": [
    {
     "data": {
      "text/plain": [
       "['China sanctions Lockheed Martin, Raytheon over Taiwan arms sales',\n",
       " 'Explainer: What\\'s known about Tesla\\'s \"Project Highland\"?',\n",
       " \"Analysis: Why China's reopening isn't inflationary\",\n",
       " 'Analysis: ECB faces new communication challenge as inflation falls',\n",
       " 'Air India has options to buy 370 more jets after mammoth order']"
      ]
     },
     "execution_count": 11,
     "metadata": {},
     "output_type": "execute_result"
    }
   ],
   "source": [
    "news_reuters[0:5]"
   ]
  },
  {
   "cell_type": "markdown",
   "id": "488e36db",
   "metadata": {},
   "source": [
    "### USA NPR https://www.npr.org/"
   ]
  },
  {
   "cell_type": "code",
   "execution_count": 12,
   "id": "b77a3156",
   "metadata": {},
   "outputs": [],
   "source": [
    "from lxml import html\n",
    "import requests\n",
    "from pprint import pprint\n",
    "\n",
    "url_npr = 'https://www.npr.org/'\n",
    "headers = {'User Agent':'Mozilla/5.0 (Windows NT 10.0; Win64; x64) AppleWebKit/537.36 (KHTML, like Gecko) Chrome/109.0.0.0 Safari/537.36'}\n",
    "\n",
    "response_npr = requests.get(url_npr, headers=headers)\n",
    "\n",
    "dom_npr = html.fromstring(response_npr.text)\n",
    "\n",
    "news_npr = dom_npr.xpath('//h3[@class=\"title\"]/text()') "
   ]
  },
  {
   "cell_type": "code",
   "execution_count": 13,
   "id": "d3bba524",
   "metadata": {},
   "outputs": [
    {
     "data": {
      "text/plain": [
       "30"
      ]
     },
     "execution_count": 13,
     "metadata": {},
     "output_type": "execute_result"
    }
   ],
   "source": [
    "len(news_npr)"
   ]
  },
  {
   "cell_type": "code",
   "execution_count": 15,
   "id": "73dba52f",
   "metadata": {},
   "outputs": [
    {
     "data": {
      "text/plain": [
       "[\"From tracking Santa to Chinese spy balloons, here's what we know about NORAD\",\n",
       " \"'New York Times' stories on trans youth slammed by writers — including some of its own\",\n",
       " 'Raquel Welch, actress and Hollywood sex symbol, dead at 82',\n",
       " 'An owl that escaped from the Central Park Zoo is still loose — and hunting on his own',\n",
       " 'Upset Ohio town residents seek answers over train derailment']"
      ]
     },
     "execution_count": 15,
     "metadata": {},
     "output_type": "execute_result"
    }
   ],
   "source": [
    "news_npr[:5]"
   ]
  },
  {
   "cell_type": "markdown",
   "id": "9a2d282e",
   "metadata": {},
   "source": [
    "### USA POLITICO https://www.politico.com/"
   ]
  },
  {
   "cell_type": "code",
   "execution_count": 16,
   "id": "daeb3e3f",
   "metadata": {},
   "outputs": [],
   "source": [
    "from lxml import html\n",
    "import requests\n",
    "from pprint import pprint\n",
    "\n",
    "url_politico = 'https://www.politico.com/'\n",
    "headers = {'User Agent':'Mozilla/5.0 (Windows NT 10.0; Win64; x64) AppleWebKit/537.36 (KHTML, like Gecko) Chrome/109.0.0.0 Safari/537.36'}\n",
    "\n",
    "response_politico = requests.get(url_politico, headers=headers)\n",
    "\n",
    "dom_politico = html.fromstring(response_politico.text)\n",
    "\n",
    "news_politico = dom_politico.xpath('//h3[@class=\"headline is-standard-typeface\"]/a/text()') "
   ]
  },
  {
   "cell_type": "code",
   "execution_count": 17,
   "id": "e96bf9e8",
   "metadata": {},
   "outputs": [
    {
     "data": {
      "text/plain": [
       "27"
      ]
     },
     "execution_count": 17,
     "metadata": {},
     "output_type": "execute_result"
    }
   ],
   "source": [
    "len(news_politico)"
   ]
  },
  {
   "cell_type": "code",
   "execution_count": 19,
   "id": "c10254f2",
   "metadata": {},
   "outputs": [
    {
     "data": {
      "text/plain": [
       "['D.C. drama: Dems weigh veto fight with Biden over crime bill',\n",
       " 'Koch network not sold on Pence, despite private entreaties ',\n",
       " 'Pence moves to claim culture war lane before DeSantis gets there',\n",
       " '‘The longer the train, the heavier the train’ — Ohio disaster calls attention to freight’s growing bulk ',\n",
       " 'White House mulls post-Covid emergency backstop for uninsured']"
      ]
     },
     "execution_count": 19,
     "metadata": {},
     "output_type": "execute_result"
    }
   ],
   "source": [
    "news_politico[:5]"
   ]
  },
  {
   "cell_type": "code",
   "execution_count": null,
   "id": "83be5e4b",
   "metadata": {},
   "outputs": [],
   "source": []
  }
 ],
 "metadata": {
  "kernelspec": {
   "display_name": "Python 3 (ipykernel)",
   "language": "python",
   "name": "python3"
  },
  "language_info": {
   "codemirror_mode": {
    "name": "ipython",
    "version": 3
   },
   "file_extension": ".py",
   "mimetype": "text/x-python",
   "name": "python",
   "nbconvert_exporter": "python",
   "pygments_lexer": "ipython3",
   "version": "3.8.8"
  }
 },
 "nbformat": 4,
 "nbformat_minor": 5
}
